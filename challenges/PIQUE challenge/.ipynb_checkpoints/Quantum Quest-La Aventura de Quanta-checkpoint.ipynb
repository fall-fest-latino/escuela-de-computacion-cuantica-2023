{
 "cells": [
  {
   "attachments": {},
   "cell_type": "markdown",
   "id": "a2833482",
   "metadata": {},
   "source": [
    "**Quantumaniacs**: Angel Contreras, Antonia Morales, Carolina Perdomo.\n",
    "\n",
    "# The Idea:\n",
    "\n",
    "Drawing upon our team's robust experience in popularizing science and a shared passion for video games, we took an innovative journey to bridge these worlds through interactive learning for quantum computing. Recognizing the power of play as a profound educational medium, we decided to use this vibrant energy and curiosity to craft an educational adventure. Games, after all, are not mere pastimes; they are gateways to immersive experiences that shape understanding, especially for young minds.\n",
    "\n",
    "Our objective was clear yet ambitious: to create a game that, within the confines of a captivating narrative, educates young individuals about the fundamentals of quantum computing. *Quantum Quest: La Aventura de Quanta* (Quantum Ques: The Adventure of Quanta) isn't just a game; it's a carefully designed story that introduces players to concepts such as superposition, Grover's algorithm, and the phenomenon of decoherence. By embodying these principles within the game's mechanics, we aim to demystify quantum computing and spark a flame of scientific curiosity. Our commitment is to socialize science in a responsible, engaging manner, thus igniting a lifelong passion for learning and discovery in the hearts of players.\n",
    "\n",
    "For this initial version of \"*Quantum Quest*,\" we've chosen to present the game in Spanish, a reflection of the time constraints inherent in the fast-paced hackathon environment. However, we are poised to expand this quantum journey into a multilingual experience, alongside designing further segments of the game, to ensure that Quanta's adventures resonate with a global audience.\n",
    "\n",
    "# About the Game:\n",
    "## Story:\n",
    "Join Quanta, a brilliant and skilled agent of the elite \"*Quantum Pioneers*,\" on a quest to save Professor Planck, the creator of a qubit resistant to quantum errors. A nefarious entity known as \"*Decoherence*\" has abducted the professor, threatening to cast the universe into turmoil.\n",
    "\n",
    "## Characters:\n",
    "\n",
    "- Quanta: The protagonist, a sharp agent versed in quantum mechanics.\n",
    "- Decoherence: The villain, a mysterious force unsettling the realm of quantum computing.\n",
    "- Q-Bit: Quanta's ally, a robotic cat with the ability to understand multiple states, offering gadgets and wisdom.\n",
    "- Professor Planck: A mentor whose significance to the world is unparalleled.\n",
    "\n",
    "## Puzzles:\n",
    "\n",
    "Designed to encapsulate quantum computing principles:\n",
    "\n",
    "- Superposition Puzzle: Players guide Quanta through a labyrinth of multiple correct paths, employing Grover's Algorithm with gadgets like the oracle and diffuser. Iteration is key, mirroring the algorithm's process to confirm the correct path. For this first version of the game, we decided to simplify the number of optimal interactions from $\\dfrac{\\pi}{4}\\sqrt{N}$ to $\\sqrt{N}$, where N is the search space.\n",
    "\n",
    "## Scenes:\n",
    "\n",
    "- Quantum Lab: Where players are introduced to quantum bits amidst a trove of gadgets.\n",
    "- Superposition City: A world where everything exists in manifold states at once, showcasing superposition.\n",
    "- Decoherence's Lair: The climactic scene where players confront Decoherence and the professor, leading to an escape into the Entanglement Forest, setting the stage for a $CONTINUATION$.\n",
    "\n",
    "## Art:\n",
    "\n",
    "**The vibrant artwork that brings our quantum universe to life was meticulously crafted using DALL·E 3, allowing us to transform complex quantum concepts into visually stunning scenes and characters.**\n",
    "\n",
    "- Style: A cartoonish flair to render quantum computing concepts accessible and engaging.\n",
    "- Scenes: Bright and colorful, distinguishing between quantum states and the classical world.\n",
    "- Characters: Expressive and exaggerated to simplify complex ideas.\n",
    "\n",
    "## Interactions:\n",
    "\n",
    "- Dialogue: Educational exchanges laced with quantum computing principles within the storyline.\n",
    "- Gadgets: Interactive tools symbolizing quantum computing functions.\n",
    "- Mini-Games: Select the correct answer games, educational challenges to deepen players' grasp of quantum concepts.\n",
    "\n",
    "# Ren'Py:\n",
    "In the whirlwind of innovation that defines a hackathon, especially one with a window of less than a week, efficiency and familiarity are key. This is precisely why we turned to Ren'Py as our game engine of choice. Ren'Py's Python-based environment offered us a seamless transition from concept to execution, leveraging our team's pre-existing knowledge of Python. This strategic decision enabled us to focus our energies on creativity and educational impact, allowing us to craft an engaging and instructive game within the tight timeframe. Ren'Py's intuitive nature and flexibility made it the ideal tool for bringing \"*Quantum Quest*\" to life quickly and effectively."
   ]
  },
  {
   "cell_type": "code",
   "execution_count": null,
   "id": "cfc91c20",
   "metadata": {},
   "outputs": [],
   "source": []
  }
 ],
 "metadata": {
  "kernelspec": {
   "display_name": "Python 3 (ipykernel)",
   "language": "python",
   "name": "python3"
  },
  "language_info": {
   "codemirror_mode": {
    "name": "ipython",
    "version": 3
   },
   "file_extension": ".py",
   "mimetype": "text/x-python",
   "name": "python",
   "nbconvert_exporter": "python",
   "pygments_lexer": "ipython3",
   "version": "3.10.7"
  }
 },
 "nbformat": 4,
 "nbformat_minor": 5
}
