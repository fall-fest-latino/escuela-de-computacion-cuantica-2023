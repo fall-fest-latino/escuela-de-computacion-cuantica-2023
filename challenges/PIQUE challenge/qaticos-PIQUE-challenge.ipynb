{
 "cells": [
  {
   "cell_type": "markdown",
   "id": "2106b786-99cc-4316-9784-3107c91bfd9d",
   "metadata": {},
   "source": [
    "# PIQUE CHALLENGE\n",
    "\n",
    "The educational resource about how to solve a Knapsack problem using QAOA, is located in [this Drive](https://drive.google.com/file/d/1p-1dzkRJDAQTkMKjFAkwFjYFTKeH3hNK/view?usp=sharing)"
   ]
  }
 ],
 "metadata": {
  "kernelspec": {
   "display_name": "Python 3 (ipykernel)",
   "language": "python",
   "name": "python3"
  },
  "language_info": {
   "codemirror_mode": {
    "name": "ipython",
    "version": 3
   },
   "file_extension": ".py",
   "mimetype": "text/x-python",
   "name": "python",
   "nbconvert_exporter": "python",
   "pygments_lexer": "ipython3",
   "version": "3.11.3"
  }
 },
 "nbformat": 4,
 "nbformat_minor": 5
}
