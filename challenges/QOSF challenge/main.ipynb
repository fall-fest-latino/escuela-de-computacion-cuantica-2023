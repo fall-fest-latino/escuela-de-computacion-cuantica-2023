{
 "cells": [
  {
   "cell_type": "code",
   "execution_count": 38,
   "id": "132678df",
   "metadata": {},
   "outputs": [],
   "source": [
    "import qiskit\n",
    "from qiskit import QuantumCircuit,execute,Aer,transpile,BasicAer\n",
    "from qiskit.circuit.library import SwapGate,QFT,CZGate,SGate,TGate,GroverOperator\n",
    "from qiskit.algorithms import Grover\n",
    "#from qiskit.algorithms import Grover\n",
    "from qiskit.quantum_info import Statevector\n",
    "from qiskit.visualization import plot_histogram\n",
    "import matplotlib as plt\n",
    "import math"
   ]
  },
  {
   "cell_type": "code",
   "execution_count": 65,
   "id": "15440717",
   "metadata": {},
   "outputs": [],
   "source": [
    "def inicializador(circuit):\n",
    "    circuit.x(0)\n",
    "    circuit.x(3)\n",
    "    circuit.h(4)\n",
    "    circuit.h(5)\n",
    "    circuit.h(7)\n",
    "    circuit.h(8)\n",
    "    return circuit\n",
    "\n",
    "def contadorqubits():\n",
    "    \n",
    "    completo=QuantumCircuit(12,12)\n",
    "    qft=QFT(3)    \n",
    "    invqft=QFT(3,0,True,True)\n",
    "    ctgate = TGate().control(1)\n",
    "\n",
    "    completo.barrier()\n",
    "\n",
    "    #inicializador de qft\n",
    "    completo_2=completo.compose(qft,qubits=[9,10,11])    \n",
    "    \n",
    "    completo_2.append(ctgate, [4, 9])\n",
    "    completo_2.cs(4,10)\n",
    "    completo_2.cz(4,11)\n",
    "    \n",
    "    completo_2.barrier()\n",
    "    completo_2.append(ctgate, [5, 9])\n",
    "    completo_2.cs(5,10)\n",
    "    completo_2.cz(5,11)\n",
    "\n",
    "    completo_2.barrier()\n",
    "    completo_2.append(ctgate, [7, 9])\n",
    "    completo_2.cs(7,10)\n",
    "    completo_2.cz(7,11)\n",
    "\n",
    "    completo_2.barrier()\n",
    "    completo_2.append(ctgate, [8, 9])\n",
    "    completo_2.cs(8,10)\n",
    "    completo_2.cz(8,11)\n",
    "    #inversion de qft\n",
    "    completo_3=completo_2.compose(invqft,qubits=[9,10,11])\n",
    "    completo_3.barrier()\n",
    "    return completo_3\n",
    "\n",
    "#coloca las todos los estados que tengo suma de 2\n",
    "def prob2():\n",
    "    completo_1=QuantumCircuit(14,14)\n",
    "\n",
    "    completo_1.x(11)\n",
    "    completo_1.x(9)\n",
    "    completo_1.ccx(9,10,12)\n",
    "    completo_1.ccx(11,12,13)\n",
    "    completo_1.z(13) # recordatorio z\n",
    "    completo_1.ccx(9,10,12)\n",
    "    completo_1.ccx(11,12,13)\n",
    "    completo_1.x(9)\n",
    "    completo_1.x(11)\n",
    "    \n",
    "    return completo_1\n",
    "\n",
    "# crea a grover \n",
    "def instalargrover(aux):\n",
    "    completo_1=QuantumCircuit(14,14)\n",
    "    #revertir compuerta\n",
    "    completo_1.barrier()   \n",
    "\n",
    "    completo_1.h(range(4,6))\n",
    "    completo_1.h(range(7,9))\n",
    "    completo_1.x(range(4,6))\n",
    "    completo_1.x(range(7,9))   \n",
    "    # completo_1.h(aux)\n",
    "    # completo_1.x(aux)\n",
    "    completo_1.barrier()\n",
    "    # completo_1.ccx(4,5,15)\n",
    "    # completo_1.ccx(7,8,14)\n",
    "    # completo_1.ccx(15,14,aux)\n",
    "\n",
    "    completo_1.ccx(4,5,12)\n",
    "    completo_1.ccx(7,12,aux)\n",
    "    \n",
    "    completo_1.barrier()\n",
    "    completo_1.x(aux)\n",
    "    completo_1.z(aux)\n",
    "    completo_1.x(aux)\n",
    "    completo_1.barrier()\n",
    "    \n",
    "    completo_1.ccx(7,12,8)\n",
    "    completo_1.ccx(4,5,12)\n",
    "    # completo_1.ccx(15,14,aux)\n",
    "    # completo_1.ccx(4,5,15)\n",
    "    # completo_1.ccx(7,8,14)\n",
    "    completo_1.barrier()\n",
    "    completo_1.x(range(4,6))\n",
    "    completo_1.x(range(7,9))\n",
    "    completo_1.h(range(4,6))\n",
    "    completo_1.h(range(7,9))\n",
    "    # completo_1.x(aux)\n",
    "    # completo_1.h(aux)\n",
    "\n",
    "    return completo_1\n",
    "\n",
    "#la condicion que acepta solo a las dos casos 1100 y 1001 ambos casos tiene 1 en a y 0 en c\n",
    "def ganador():\n",
    "    completo_1=QuantumCircuit(14,14)\n",
    "    completo_1.barrier()\n",
    "    completo_1.x(7)\n",
    "    # completo_1.h(13)\n",
    "    # completo_1.z(13)\n",
    "    # completo_1.x(13)\n",
    "    completo_1.ccx(4,7,12)\n",
    "    \n",
    "    completo_1.z(12)\n",
    "    \n",
    "    return completo_1\n",
    "\n",
    "#crea las medicione qubtis con cbit\n",
    "def medicion(circuit,inicio,fin,total_qubits=-1):\n",
    "    if total_qubits!=-1:\n",
    "        for i in range(total_qubits):\n",
    "            circuit.measure(i,i)\n",
    "    else:\n",
    "        for i in range(inicio,fin+1):\n",
    "            circuit.measure(i,i)\n",
    "    return circuit\n"
   ]
  },
  {
   "cell_type": "code",
   "execution_count": 66,
   "id": "38de9fc6",
   "metadata": {},
   "outputs": [],
   "source": [
    "bits=qubits=14\n",
    "\n",
    "circuit=QuantumCircuit(qubits,bits)         #Crear un circuito con 9 qubits para el primer parametro y 9 bits para el segundo parametro\n",
    "\n",
    "circuit=inicializador(circuit)\n",
    "\n",
    "# circuit.draw(output='mpl')"
   ]
  },
  {
   "cell_type": "code",
   "execution_count": 63,
   "id": "33c10780",
   "metadata": {},
   "outputs": [],
   "source": [
    "circuit_1=contadorqubits()\n",
    "completo1=circuit.compose(circuit_1)\n",
    "# circuit_1.draw(output='mpl')"
   ]
  },
  {
   "cell_type": "code",
   "execution_count": 59,
   "id": "71368768",
   "metadata": {},
   "outputs": [],
   "source": [
    "# identifica los 2\n",
    "circuit_2=prob2()\n",
    "completo2=completo1.compose(circuit_2)\n",
    "# circuit_2.draw(output='mpl')"
   ]
  },
  {
   "cell_type": "code",
   "execution_count": 53,
   "id": "cb3bfc95",
   "metadata": {},
   "outputs": [],
   "source": [
    "circuit_3=instalargrover(8)    #crea grover de  4\n",
    "completo3=completo2.compose(circuit_3)\n",
    "\n",
    "# circuit_3.draw(output='mpl')"
   ]
  },
  {
   "cell_type": "code",
   "execution_count": 44,
   "id": "7373c303",
   "metadata": {},
   "outputs": [],
   "source": [
    "circuit_4=ganador()    #busca solo las dos ultimas opciones 1100 y 1001\n",
    "completo4=completo3.compose(circuit_4)\n",
    "\n",
    "# circuit_4.draw(output='mpl')"
   ]
  },
  {
   "cell_type": "code",
   "execution_count": 45,
   "metadata": {},
   "outputs": [],
   "source": [
    "circuit_5=instalargrover(8) #aplifica las dos opciones de arriba\n",
    "completo5=completo4.compose(circuit_5)\n",
    "# circuit_5.draw(output='mpl')"
   ]
  },
  {
   "cell_type": "code",
   "execution_count": 60,
   "id": "f6e926ac",
   "metadata": {},
   "outputs": [],
   "source": [
    "circuit6=medicion(completo3,4,5)\n",
    "circuit6=medicion(completo3,7,8)\n",
    "# # circuit6.measure(13,13)\n",
    "# circuit6.measure(16,16)\n",
    "# circuit6.draw(output='mpl')"
   ]
  },
  {
   "cell_type": "code",
   "execution_count": 67,
   "id": "5bc81104",
   "metadata": {},
   "outputs": [
    {
     "data": {
      "text/plain": [
       "{'00000110111001': 0.035714285714285594,\n",
       " '00001110111001': 0.32142857142857145,\n",
       " '00011110111001': 0.32142857142857145,\n",
       " '00100110111001': 3.3148190922642085e-33,\n",
       " '00101110111001': 6.936225887984991e-33,\n",
       " '00110110111001': 2.8010988534636696e-32,\n",
       " '00111110111001': 4.278116777314028e-33,\n",
       " '10010110111001': 0.32142857142857145}"
      ]
     },
     "execution_count": 67,
     "metadata": {},
     "output_type": "execute_result"
    }
   ],
   "source": [
    "backend = Aer.get_backend('statevector_simulator')\n",
    "job = execute(circuit6, backend=backend)\n",
    "job_result = job.result()\n",
    "vector = job_result.get_statevector(circuit6)\n",
    "Statevector(vector).probabilities_dict()\n",
    "# for i in vector:\n",
    "#     print(i)\n",
    "# print(job_result.get_statevector(circuit6))\n"
   ]
  },
  {
   "cell_type": "code",
   "execution_count": 48,
   "id": "31dc15e9",
   "metadata": {},
   "outputs": [
    {
     "data": {
      "image/png": "[encoded data removed]",
      "text/plain": [
       "<Figure size 504x360 with 1 Axes>"
      ]
     },
     "execution_count": 48,
     "metadata": {},
     "output_type": "execute_result"
    }
   ],
   "source": [
    "simulacion=Aer.get_backend('qasm_simulator') #crear una instancia de simulacion\n",
    "job=execute(circuit6,simulacion,shot=1000)\n",
    "result=job.result()\n",
    "counts=result.get_counts(circuit6)\n",
    "plot_histogram(counts,sort='value_desc')"
   ]
  }
 ],
 "metadata": {
  "kernelspec": {
   "display_name": "Python 3 (ipykernel)",
   "language": "python",
   "name": "python3"
  },
  "language_info": {
   "codemirror_mode": {
    "name": "ipython",
    "version": 3
   },
   "file_extension": ".py",
   "mimetype": "text/x-python",
   "name": "python",
   "nbconvert_exporter": "python",
   "pygments_lexer": "ipython3",
   "version": "3.9.5"
  }
 },
 "nbformat": 4,
 "nbformat_minor": 5
}
