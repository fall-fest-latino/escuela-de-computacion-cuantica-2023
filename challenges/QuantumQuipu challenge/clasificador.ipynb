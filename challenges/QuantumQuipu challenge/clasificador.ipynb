{
  "cells": [
    {
      "cell_type": "code",
      "execution_count": 2,
      "metadata": {
        "colab": {
          "base_uri": "https://localhost:8080/",
          "height": 465
        },
        "id": "t1Hw2njgOBAM",
        "outputId": "161cb288-77d1-44c4-ad11-db32223ed05e"
      },
      "outputs": [
        {
          "name": "stdout",
          "output_type": "stream",
          "text": [
            "[0.23, -0.88, -0.34, 0.12, 0.13, 0.56, -0.5, -0.4, 0.12, 0.23, 0.98, -0.12, -0.05, 0.91, 0.99, 0.78, 0.87, -0.03, 0.89, 0.97]\n"
          ]
        },
        {
          "data": {
            "text/plain": [
              "<matplotlib.collections.PathCollection at 0x2510e091f00>"
            ]
          },
          "execution_count": 2,
          "metadata": {},
          "output_type": "execute_result"
        },
        {
          "data": {
            "image/png": "[encoded data removed]",
            "text/plain": [
              "<Figure size 432x288 with 1 Axes>"
            ]
          },
          "metadata": {
            "needs_background": "light"
          },
          "output_type": "display_data"
        }
      ],
      "source": [
        "import pennylane as qml\n",
        "from pennylane import numpy as np\n",
        "import matplotlib.pyplot as plt\n",
        "\n",
        "# Generamos nuestro dataset\n",
        "\n",
        "data = np.arange(-1,1,0.1)\n",
        "data = [0.23,-0.88,-0.34,.12,.13,.56,-.5,-.4,.12,0.23,0.98,-0.12,-0.05,.91,.99,.78,.87,-.03,.89,0.97]\n",
        "print(data)\n",
        "labels = np.ones(len(data))\n",
        "labels[len(data)//4:-len(data)//4] *= -1\n",
        "\n",
        "plt.scatter(data, np.zeros(len(data)), color = \"blue\")\n",
        "plt.scatter(data[:len(data)//4], np.zeros(len(data)//4), color = \"orange\")\n",
        "plt.scatter(data[-len(data)//4:], np.zeros(len(data)//4), color = \"orange\")"
      ]
    },
    {
      "cell_type": "code",
      "execution_count": 3,
      "metadata": {
        "id": "BKxHOZ3kZOFP"
      },
      "outputs": [],
      "source": [
        "# Entrenamiento estandar de una red neuronal cuántica\n",
        "\n",
        "def feature_map(x):\n",
        "    qml.Hadamard(wires = 0)\n",
        "    qml.RZ(x , wires = 0)\n",
        "    qml.Hadamard(wires = 1)\n",
        "    qml.RZ(x , wires = 1)\n",
        "\n",
        "def variational_block(params):\n",
        "    qml.U3(params[0], params[1], params[2], wires = 0)\n",
        "    qml.U3(params[0], params[1], params[2], wires = 1)\n",
        "\n",
        "dev = qml.device(\"default.qubit\", wires = 2)\n",
        "\n",
        "@qml.qnode(dev)\n",
        "def circuit(x, params):\n",
        "    feature_map(x)\n",
        "    variational_block(params)\n",
        "    return qml.expval(qml.PauliZ(0)), qml.expval(qml.PauliZ(1))\n",
        "\n",
        "\n",
        "def error(data, labels, params):\n",
        "    err = 0\n",
        "    for i in range(len(data)):\n",
        "        d0 = circuit(data[i], params)[0]\n",
        "        d1 = circuit(data[i], params)[1]\n",
        "        err -= (labels[i] * d0+labels[i] * d1)\n",
        "    return err / len(data)\n",
        "\n",
        "def accuracy(data, labels, params):\n",
        "    n = 0\n",
        "    for i in range(len(data)):\n",
        "        if labels[i] == np.sign(circuit(data[i], params)[0]):\n",
        "            n += 1\n",
        "        if labels[i] == np.sign(circuit(data[i], params)[1]):\n",
        "            n += 1\n",
        "    return n / len(data)\n",
        "\n",
        "\n",
        "def train(data, labels, error_function, params, stepsize = 0.1, epochs = 100, plot = True):\n",
        "    opt = qml.AdagradOptimizer(stepsize = stepsize)\n",
        "\n",
        "    costs = []\n",
        "    for epoch in range(epochs):\n",
        "        params, cost = opt.step_and_cost(lambda params: error_function(data, labels, params), params)\n",
        "        costs.append(cost)\n",
        "\n",
        "    if plot:\n",
        "        plt.plot(costs)\n",
        "\n",
        "    return params\n"
      ]
    },
    {
      "cell_type": "code",
      "execution_count": 4,
      "metadata": {
        "colab": {
          "base_uri": "https://localhost:8080/",
          "height": 502
        },
        "id": "yEJLs99lZbyP",
        "outputId": "071e52df-953f-4615-dd7e-b4dd7c60d031"
      },
      "outputs": [
        {
          "name": "stderr",
          "output_type": "stream",
          "text": [
            "C:\\Users\\usuario\\AppData\\Roaming\\Python\\Python310\\site-packages\\autograd\\numpy\\numpy_vjps.py:698: ComplexWarning: Casting complex values to real discards the imaginary part\n",
            "  onp.add.at(A, idx, x)\n"
          ]
        },
        {
          "name": "stdout",
          "output_type": "stream",
          "text": [
            "1.0\n"
          ]
        },
        {
          "data": {
            "image/png": "[encoded data removed]",
            "text/plain": [
              "<Figure size 432x288 with 1 Axes>"
            ]
          },
          "metadata": {
            "needs_background": "light"
          },
          "output_type": "display_data"
        }
      ],
      "source": [
        "initial_params = np.random.rand(3, requires_grad = True)\n",
        "#print(initial_params)\n",
        "params = train(data, labels, error, initial_params)\n",
        "print(accuracy(data, labels, params))"
      ]
    },
    {
      "cell_type": "code",
      "execution_count": 5,
      "metadata": {
        "id": "Kr1K-3oOZfbc"
      },
      "outputs": [],
      "source": [
        "def feature_map(x, feature_param):\n",
        "    qml.Hadamard(wires = 0)\n",
        "    qml.RZ(x * feature_param, wires = 0)\n",
        "\n",
        "def feature_error(data, labels, feature_param):\n",
        "\n",
        "    dev = qml.device(\"default.qubit\", wires = 1)\n",
        "    @qml.qnode(dev)\n",
        "    def circuit(x1, x2):\n",
        "        feature_map(x1, feature_param)\n",
        "        qml.adjoint(feature_map)(x2, feature_param)\n",
        "        return qml.probs(wires = 0)\n",
        "\n",
        "    err = 0\n",
        "    for i in range(len(data)):\n",
        "        for j in range(i, len(data)):\n",
        "            d = circuit(data[i], data[j])\n",
        "            err -= labels[i] * labels[j] * d[0][0]\n",
        "    return err\n"
      ]
    },
    {
      "cell_type": "code",
      "execution_count": 6,
      "metadata": {
        "colab": {
          "base_uri": "https://localhost:8080/",
          "height": 447
        },
        "id": "XUgMOfURZk3o",
        "outputId": "cd82cf74-5b61-4ed5-b09a-e0a91844df4f"
      },
      "outputs": [
        {
          "data": {
            "text/plain": [
              "tensor([3.36422896], requires_grad=True)"
            ]
          },
          "execution_count": 6,
          "metadata": {},
          "output_type": "execute_result"
        },
        {
          "data": {
            "image/png": "[encoded data removed]",
            "text/plain": [
              "<Figure size 432x288 with 1 Axes>"
            ]
          },
          "metadata": {
            "needs_background": "light"
          },
          "output_type": "display_data"
        }
      ],
      "source": [
        "initial_param = np.random.rand(1, requires_grad = True)\n",
        "param = train(data, labels, feature_error, initial_param)\n",
        "param"
      ]
    }
  ],
  "metadata": {
    "colab": {
      "provenance": []
    },
    "kernelspec": {
      "display_name": "Python 3",
      "name": "python3"
    },
    "language_info": {
      "codemirror_mode": {
        "name": "ipython",
        "version": 3
      },
      "file_extension": ".py",
      "mimetype": "text/x-python",
      "name": "python",
      "nbconvert_exporter": "python",
      "pygments_lexer": "ipython3",
      "version": "3.10.4"
    }
  },
  "nbformat": 4,
  "nbformat_minor": 0
}
