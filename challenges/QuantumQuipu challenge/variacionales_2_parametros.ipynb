{
  "cells": [
    {
      "cell_type": "code",
      "execution_count": 1,
      "metadata": {
        "colab": {
          "base_uri": "https://localhost:8080/"
        },
        "id": "g3C_f1o1x435",
        "outputId": "73d7f58c-a1d7-41de-bd36-31c3e211fd63"
      },
      "outputs": [
        {
          "name": "stdout",
          "output_type": "stream",
          "text": [
            "[[0.23, -0.88, -0.34, 0.12, 0.13, 0.56, -0.5, -0.4, 0.12, 0.23, 0.98, -0.12, -0.05, 0.91, 0.99, 0.78, 0.87, -0.03, 0.89, 0.97], [-1, -1, -1, -1, -1, 1, -1, -1, -1, -1, 1, -1, -1, 1, 1, 1, 1, -1, 1, 1]]\n"
          ]
        }
      ],
      "source": [
        "import pennylane as qml\n",
        "from pennylane import numpy as np\n",
        "import matplotlib.pyplot as plt\n",
        "\n",
        "# Generamos nuestro dataset\n",
        "\n",
        "# data = [0.23,-0.88,-0.34,.12,.13,.56,-.5,-.4,.12,0.23,0.98,-0.12,-0.05,.91,.99,.78,.87,-.03,.89,0.97]\n",
        "# data2 =  [-1,-1,-1,-1,-1,1,-1,-1,-1,-1,1,-1,-1,1,1,1,1,-1,1,1]\n",
        "data = [[0.23,-0.88,-0.34,0.12,0.13,0.56,-0.5,-0.4,0.12,0.23,0.98,-0.12,-0.05,0.91,0.99,0.78,0.87,-0.03,0.89,0.97],\n",
        "        [-1,-1,-1,-1,-1,1,-1,-1,-1,-1,1,-1,-1,1,1,1,1,-1,1,1]]\n",
        "print(data)\n",
        "labels =  [-1,-1,-1,-1,-1,1,-1,-1,-1,-1,1,-1,-1,1,1,1,1,-1,1,1]\n",
        "\n",
        "\n",
        "#plt.scatter(data, np.zeros(len(data)), color = \"blue\")\n",
        "#plt.scatter(data[:len(data)//4], np.zeros(len(data)//4), color = \"orange\")\n",
        "#plt.scatter(data[-len(data)//4:], np.zeros(len(data)//4), color = \"orange\")"
      ]
    },
    {
      "cell_type": "markdown",
      "metadata": {},
      "source": [
        "## Cargar los datos"
      ]
    },
    {
      "cell_type": "code",
      "execution_count": null,
      "metadata": {},
      "outputs": [],
      "source": [
        "data = np.genfromtxt(\"challenge_train.csv\", delimiter=\",\", skip_header=1)\n",
        "datos = data[:,1:-1]\n",
        "# labels = data[:,-1:]\n",
        "print(datos.shape)\n",
        "# print(labels.shape)\n",
        "\n",
        "print(len(datos))\n",
        "print(len(datos[0]))"
      ]
    },
    {
      "cell_type": "code",
      "execution_count": 17,
      "metadata": {
        "id": "Uf08bQYJx8xo"
      },
      "outputs": [],
      "source": [
        "# Entrenamiento estandar de una red neuronal cuántica\n",
        "\n",
        "def feature_map(x, param, i):\n",
        "    print(i)\n",
        "    qml.Hadamard(wires = i)\n",
        "    qml.RZ(x*param , wires = i)\n",
        "\n",
        "def variational_block(params):\n",
        "    for i in range(len(params)-1):\n",
        "        for j in range(i+1,len(params)):\n",
        "            print(i,\"-\",j)\n",
        "            qml.CNOT(wires = [i,j])\n",
        "    \n",
        "\n",
        "\n",
        "dev = qml.device(\"default.qubit\", wires = 2)\n",
        "@qml.qnode(dev)\n",
        "def circuit(x, params):\n",
        "    print(len(params)-1,\"x:\",x)\n",
        "    for dato in x:\n",
        "        print(dato)\n",
        "        # feature_map(dato,params[i],i)\n",
        "    # variational_block(params)\n",
        "    # return qml.expval(qml.PauliZ(len(params)-1))\n",
        "    return qml.expval(qml.Hermitian(x, wires = [0,1]))\n",
        "\n",
        "\n",
        "def error(qnode, data, labels, params):\n",
        "    err = 0\n",
        "    for i,fila in enumerate(data):\n",
        "        print(i, \"-\", fila)\n",
        "        print(params)\n",
        "        d = qnode(fila, params)\n",
        "        err -= (labels[i] * d[0])\n",
        "    return err / len(data[0])\n",
        "\n",
        "def accuracy(qnode,data, labels, params):\n",
        "    n = 0\n",
        "    for i,fila in enumerate(data):\n",
        "        if labels[i] == np.sign(qnode(fila, params[i])[0]):\n",
        "            n += 1\n",
        "        if labels[i] == np.sign(qnode(fila, params[i])[1]):\n",
        "            n += 1\n",
        "    return n / (len(data[0])*2)\n",
        "\n",
        "\n",
        "def train(data, labels, error_function, params, stepsize = 0.1, epochs = 100, plot = True):\n",
        "    print(len(data))\n",
        "    dev = qml.device(\"default.qubit\", wires = len(data))\n",
        "    qnode = qml.QNode(circuit, dev)\n",
        "    \n",
        "    opt = qml.AdagradOptimizer(stepsize = stepsize)\n",
        "\n",
        "    costs = []\n",
        "    for epoch in range(epochs):\n",
        "        params, cost = opt.step_and_cost(lambda params: error_function(qnode,data, labels, params), params)\n",
        "        costs.append(cost)\n",
        "\n",
        "    if plot:\n",
        "        plt.plot(costs)\n",
        "\n",
        "    return params"
      ]
    },
    {
      "cell_type": "code",
      "execution_count": 18,
      "metadata": {
        "colab": {
          "base_uri": "https://localhost:8080/",
          "height": 447
        },
        "id": "wpKFxT9WyAbg",
        "outputId": "44833c73-f69e-4c4c-a396-30199902b536"
      },
      "outputs": [
        {
          "name": "stdout",
          "output_type": "stream",
          "text": [
            "[0.53293653]\n",
            "2\n",
            "0 - [0.23, -0.88, -0.34, 0.12, 0.13, 0.56, -0.5, -0.4, 0.12, 0.23, 0.98, -0.12, -0.05, 0.91, 0.99, 0.78, 0.87, -0.03, 0.89, 0.97]\n",
            "Autograd ArrayBox with value [0.53293653]\n",
            "0 x: [0.23, -0.88, -0.34, 0.12, 0.13, 0.56, -0.5, -0.4, 0.12, 0.23, 0.98, -0.12, -0.05, 0.91, 0.99, 0.78, 0.87, -0.03, 0.89, 0.97]\n",
            "0.23\n",
            "-0.88\n",
            "-0.34\n",
            "0.12\n",
            "0.13\n",
            "0.56\n",
            "-0.5\n",
            "-0.4\n",
            "0.12\n",
            "0.23\n",
            "0.98\n",
            "-0.12\n",
            "-0.05\n",
            "0.91\n",
            "0.99\n",
            "0.78\n",
            "0.87\n",
            "-0.03\n",
            "0.89\n",
            "0.97\n"
          ]
        },
        {
          "ename": "ValueError",
          "evalue": "Observable must be a square matrix.",
          "output_type": "error",
          "traceback": [
            "\u001b[1;31m---------------------------------------------------------------------------\u001b[0m",
            "\u001b[1;31mValueError\u001b[0m                                Traceback (most recent call last)",
            "\u001b[1;32mc:\\Users\\usuario\\Documents\\Yessi\\EscuelaCuanticaEspañol\\escuela-de-computacion-cuantica-2023\\challenges\\QuantumQuipu challenge\\variacionales_2_parametros.ipynb Cell 5\u001b[0m line \u001b[0;36m<cell line: 3>\u001b[1;34m()\u001b[0m\n\u001b[0;32m      <a href='vscode-notebook-cell:/c%3A/Users/usuario/Documents/Yessi/EscuelaCuanticaEspa%C3%B1ol/escuela-de-computacion-cuantica-2023/challenges/QuantumQuipu%20challenge/variacionales_2_parametros.ipynb#W4sZmlsZQ%3D%3D?line=0'>1</a>\u001b[0m initial_params \u001b[39m=\u001b[39m np\u001b[39m.\u001b[39mrandom\u001b[39m.\u001b[39mrand(\u001b[39mlen\u001b[39m(data)\u001b[39m-\u001b[39m\u001b[39m1\u001b[39m, requires_grad \u001b[39m=\u001b[39m \u001b[39mTrue\u001b[39;00m)\n\u001b[0;32m      <a href='vscode-notebook-cell:/c%3A/Users/usuario/Documents/Yessi/EscuelaCuanticaEspa%C3%B1ol/escuela-de-computacion-cuantica-2023/challenges/QuantumQuipu%20challenge/variacionales_2_parametros.ipynb#W4sZmlsZQ%3D%3D?line=1'>2</a>\u001b[0m \u001b[39mprint\u001b[39m(initial_params)\n\u001b[1;32m----> <a href='vscode-notebook-cell:/c%3A/Users/usuario/Documents/Yessi/EscuelaCuanticaEspa%C3%B1ol/escuela-de-computacion-cuantica-2023/challenges/QuantumQuipu%20challenge/variacionales_2_parametros.ipynb#W4sZmlsZQ%3D%3D?line=2'>3</a>\u001b[0m params \u001b[39m=\u001b[39m train(data, labels, error, initial_params)\n\u001b[0;32m      <a href='vscode-notebook-cell:/c%3A/Users/usuario/Documents/Yessi/EscuelaCuanticaEspa%C3%B1ol/escuela-de-computacion-cuantica-2023/challenges/QuantumQuipu%20challenge/variacionales_2_parametros.ipynb#W4sZmlsZQ%3D%3D?line=3'>4</a>\u001b[0m \u001b[39mprint\u001b[39m(accuracy(data, labels, params))\n",
            "\u001b[1;32mc:\\Users\\usuario\\Documents\\Yessi\\EscuelaCuanticaEspañol\\escuela-de-computacion-cuantica-2023\\challenges\\QuantumQuipu challenge\\variacionales_2_parametros.ipynb Cell 5\u001b[0m line \u001b[0;36mtrain\u001b[1;34m(data, labels, error_function, params, stepsize, epochs, plot)\u001b[0m\n\u001b[0;32m     <a href='vscode-notebook-cell:/c%3A/Users/usuario/Documents/Yessi/EscuelaCuanticaEspa%C3%B1ol/escuela-de-computacion-cuantica-2023/challenges/QuantumQuipu%20challenge/variacionales_2_parametros.ipynb#W4sZmlsZQ%3D%3D?line=53'>54</a>\u001b[0m costs \u001b[39m=\u001b[39m []\n\u001b[0;32m     <a href='vscode-notebook-cell:/c%3A/Users/usuario/Documents/Yessi/EscuelaCuanticaEspa%C3%B1ol/escuela-de-computacion-cuantica-2023/challenges/QuantumQuipu%20challenge/variacionales_2_parametros.ipynb#W4sZmlsZQ%3D%3D?line=54'>55</a>\u001b[0m \u001b[39mfor\u001b[39;00m epoch \u001b[39min\u001b[39;00m \u001b[39mrange\u001b[39m(epochs):\n\u001b[1;32m---> <a href='vscode-notebook-cell:/c%3A/Users/usuario/Documents/Yessi/EscuelaCuanticaEspa%C3%B1ol/escuela-de-computacion-cuantica-2023/challenges/QuantumQuipu%20challenge/variacionales_2_parametros.ipynb#W4sZmlsZQ%3D%3D?line=55'>56</a>\u001b[0m     params, cost \u001b[39m=\u001b[39m opt\u001b[39m.\u001b[39;49mstep_and_cost(\u001b[39mlambda\u001b[39;49;00m params: error_function(qnode,data, labels, params), params)\n\u001b[0;32m     <a href='vscode-notebook-cell:/c%3A/Users/usuario/Documents/Yessi/EscuelaCuanticaEspa%C3%B1ol/escuela-de-computacion-cuantica-2023/challenges/QuantumQuipu%20challenge/variacionales_2_parametros.ipynb#W4sZmlsZQ%3D%3D?line=56'>57</a>\u001b[0m     costs\u001b[39m.\u001b[39mappend(cost)\n\u001b[0;32m     <a href='vscode-notebook-cell:/c%3A/Users/usuario/Documents/Yessi/EscuelaCuanticaEspa%C3%B1ol/escuela-de-computacion-cuantica-2023/challenges/QuantumQuipu%20challenge/variacionales_2_parametros.ipynb#W4sZmlsZQ%3D%3D?line=58'>59</a>\u001b[0m \u001b[39mif\u001b[39;00m plot:\n",
            "File \u001b[1;32m~\\AppData\\Roaming\\Python\\Python310\\site-packages\\pennylane\\optimize\\gradient_descent.py:59\u001b[0m, in \u001b[0;36mGradientDescentOptimizer.step_and_cost\u001b[1;34m(self, objective_fn, grad_fn, *args, **kwargs)\u001b[0m\n\u001b[0;32m     39\u001b[0m \u001b[39mdef\u001b[39;00m \u001b[39mstep_and_cost\u001b[39m(\u001b[39mself\u001b[39m, objective_fn, \u001b[39m*\u001b[39margs, grad_fn\u001b[39m=\u001b[39m\u001b[39mNone\u001b[39;00m, \u001b[39m*\u001b[39m\u001b[39m*\u001b[39mkwargs):\n\u001b[0;32m     40\u001b[0m     \u001b[39m\"\"\"Update trainable arguments with one step of the optimizer and return the corresponding\u001b[39;00m\n\u001b[0;32m     41\u001b[0m \u001b[39m    objective function value prior to the step.\u001b[39;00m\n\u001b[0;32m     42\u001b[0m \n\u001b[1;32m   (...)\u001b[0m\n\u001b[0;32m     56\u001b[0m \u001b[39m        If single arg is provided, list [array] is replaced by array.\u001b[39;00m\n\u001b[0;32m     57\u001b[0m \u001b[39m    \"\"\"\u001b[39;00m\n\u001b[1;32m---> 59\u001b[0m     g, forward \u001b[39m=\u001b[39m \u001b[39mself\u001b[39;49m\u001b[39m.\u001b[39;49mcompute_grad(objective_fn, args, kwargs, grad_fn\u001b[39m=\u001b[39;49mgrad_fn)\n\u001b[0;32m     60\u001b[0m     new_args \u001b[39m=\u001b[39m \u001b[39mself\u001b[39m\u001b[39m.\u001b[39mapply_grad(g, args)\n\u001b[0;32m     62\u001b[0m     \u001b[39mif\u001b[39;00m forward \u001b[39mis\u001b[39;00m \u001b[39mNone\u001b[39;00m:\n",
            "File \u001b[1;32m~\\AppData\\Roaming\\Python\\Python310\\site-packages\\pennylane\\optimize\\gradient_descent.py:117\u001b[0m, in \u001b[0;36mGradientDescentOptimizer.compute_grad\u001b[1;34m(objective_fn, args, kwargs, grad_fn)\u001b[0m\n\u001b[0;32m     99\u001b[0m \u001b[39mr\u001b[39m\u001b[39m\"\"\"Compute gradient of the objective function at the given point and return it along with\u001b[39;00m\n\u001b[0;32m    100\u001b[0m \u001b[39mthe objective function forward pass (if available).\u001b[39;00m\n\u001b[0;32m    101\u001b[0m \n\u001b[1;32m   (...)\u001b[0m\n\u001b[0;32m    114\u001b[0m \u001b[39m    will not be evaluted and instead ``None`` will be returned.\u001b[39;00m\n\u001b[0;32m    115\u001b[0m \u001b[39m\"\"\"\u001b[39;00m\n\u001b[0;32m    116\u001b[0m g \u001b[39m=\u001b[39m get_gradient(objective_fn) \u001b[39mif\u001b[39;00m grad_fn \u001b[39mis\u001b[39;00m \u001b[39mNone\u001b[39;00m \u001b[39melse\u001b[39;00m grad_fn\n\u001b[1;32m--> 117\u001b[0m grad \u001b[39m=\u001b[39m g(\u001b[39m*\u001b[39margs, \u001b[39m*\u001b[39m\u001b[39m*\u001b[39mkwargs)\n\u001b[0;32m    118\u001b[0m forward \u001b[39m=\u001b[39m \u001b[39mgetattr\u001b[39m(g, \u001b[39m\"\u001b[39m\u001b[39mforward\u001b[39m\u001b[39m\"\u001b[39m, \u001b[39mNone\u001b[39;00m)\n\u001b[0;32m    120\u001b[0m num_trainable_args \u001b[39m=\u001b[39m \u001b[39msum\u001b[39m(\u001b[39mgetattr\u001b[39m(arg, \u001b[39m\"\u001b[39m\u001b[39mrequires_grad\u001b[39m\u001b[39m\"\u001b[39m, \u001b[39mFalse\u001b[39;00m) \u001b[39mfor\u001b[39;00m arg \u001b[39min\u001b[39;00m args)\n",
            "File \u001b[1;32m~\\AppData\\Roaming\\Python\\Python310\\site-packages\\pennylane\\_grad.py:118\u001b[0m, in \u001b[0;36mgrad.__call__\u001b[1;34m(self, *args, **kwargs)\u001b[0m\n\u001b[0;32m    115\u001b[0m     \u001b[39mself\u001b[39m\u001b[39m.\u001b[39m_forward \u001b[39m=\u001b[39m \u001b[39mself\u001b[39m\u001b[39m.\u001b[39m_fun(\u001b[39m*\u001b[39margs, \u001b[39m*\u001b[39m\u001b[39m*\u001b[39mkwargs)\n\u001b[0;32m    116\u001b[0m     \u001b[39mreturn\u001b[39;00m ()\n\u001b[1;32m--> 118\u001b[0m grad_value, ans \u001b[39m=\u001b[39m grad_fn(\u001b[39m*\u001b[39margs, \u001b[39m*\u001b[39m\u001b[39m*\u001b[39mkwargs)  \u001b[39m# pylint: disable=not-callable\u001b[39;00m\n\u001b[0;32m    119\u001b[0m \u001b[39mself\u001b[39m\u001b[39m.\u001b[39m_forward \u001b[39m=\u001b[39m ans\n\u001b[0;32m    121\u001b[0m \u001b[39mreturn\u001b[39;00m grad_value\n",
            "File \u001b[1;32m~\\AppData\\Roaming\\Python\\Python310\\site-packages\\autograd\\wrap_util.py:20\u001b[0m, in \u001b[0;36munary_to_nary.<locals>.nary_operator.<locals>.nary_f\u001b[1;34m(*args, **kwargs)\u001b[0m\n\u001b[0;32m     18\u001b[0m \u001b[39melse\u001b[39;00m:\n\u001b[0;32m     19\u001b[0m     x \u001b[39m=\u001b[39m \u001b[39mtuple\u001b[39m(args[i] \u001b[39mfor\u001b[39;00m i \u001b[39min\u001b[39;00m argnum)\n\u001b[1;32m---> 20\u001b[0m \u001b[39mreturn\u001b[39;00m unary_operator(unary_f, x, \u001b[39m*\u001b[39mnary_op_args, \u001b[39m*\u001b[39m\u001b[39m*\u001b[39mnary_op_kwargs)\n",
            "File \u001b[1;32m~\\AppData\\Roaming\\Python\\Python310\\site-packages\\pennylane\\_grad.py:136\u001b[0m, in \u001b[0;36mgrad._grad_with_forward\u001b[1;34m(fun, x)\u001b[0m\n\u001b[0;32m    130\u001b[0m \u001b[39m@staticmethod\u001b[39m\n\u001b[0;32m    131\u001b[0m \u001b[39m@unary_to_nary\u001b[39m\n\u001b[0;32m    132\u001b[0m \u001b[39mdef\u001b[39;00m \u001b[39m_grad_with_forward\u001b[39m(fun, x):\n\u001b[0;32m    133\u001b[0m     \u001b[39m\"\"\"This function is a replica of ``autograd.grad``, with the only\u001b[39;00m\n\u001b[0;32m    134\u001b[0m \u001b[39m    difference being that it returns both the gradient *and* the forward pass\u001b[39;00m\n\u001b[0;32m    135\u001b[0m \u001b[39m    value.\"\"\"\u001b[39;00m\n\u001b[1;32m--> 136\u001b[0m     vjp, ans \u001b[39m=\u001b[39m _make_vjp(fun, x)\n\u001b[0;32m    138\u001b[0m     \u001b[39mif\u001b[39;00m \u001b[39mnot\u001b[39;00m vspace(ans)\u001b[39m.\u001b[39msize \u001b[39m==\u001b[39m \u001b[39m1\u001b[39m:\n\u001b[0;32m    139\u001b[0m         \u001b[39mraise\u001b[39;00m \u001b[39mTypeError\u001b[39;00m(\n\u001b[0;32m    140\u001b[0m             \u001b[39m\"\u001b[39m\u001b[39mGrad only applies to real scalar-output functions. \u001b[39m\u001b[39m\"\u001b[39m\n\u001b[0;32m    141\u001b[0m             \u001b[39m\"\u001b[39m\u001b[39mTry jacobian, elementwise_grad or holomorphic_grad.\u001b[39m\u001b[39m\"\u001b[39m\n\u001b[0;32m    142\u001b[0m         )\n",
            "File \u001b[1;32m~\\AppData\\Roaming\\Python\\Python310\\site-packages\\autograd\\core.py:10\u001b[0m, in \u001b[0;36mmake_vjp\u001b[1;34m(fun, x)\u001b[0m\n\u001b[0;32m      8\u001b[0m \u001b[39mdef\u001b[39;00m \u001b[39mmake_vjp\u001b[39m(fun, x):\n\u001b[0;32m      9\u001b[0m     start_node \u001b[39m=\u001b[39m VJPNode\u001b[39m.\u001b[39mnew_root()\n\u001b[1;32m---> 10\u001b[0m     end_value, end_node \u001b[39m=\u001b[39m  trace(start_node, fun, x)\n\u001b[0;32m     11\u001b[0m     \u001b[39mif\u001b[39;00m end_node \u001b[39mis\u001b[39;00m \u001b[39mNone\u001b[39;00m:\n\u001b[0;32m     12\u001b[0m         \u001b[39mdef\u001b[39;00m \u001b[39mvjp\u001b[39m(g): \u001b[39mreturn\u001b[39;00m vspace(x)\u001b[39m.\u001b[39mzeros()\n",
            "File \u001b[1;32m~\\AppData\\Roaming\\Python\\Python310\\site-packages\\autograd\\tracer.py:10\u001b[0m, in \u001b[0;36mtrace\u001b[1;34m(start_node, fun, x)\u001b[0m\n\u001b[0;32m      8\u001b[0m \u001b[39mwith\u001b[39;00m trace_stack\u001b[39m.\u001b[39mnew_trace() \u001b[39mas\u001b[39;00m t:\n\u001b[0;32m      9\u001b[0m     start_box \u001b[39m=\u001b[39m new_box(x, t, start_node)\n\u001b[1;32m---> 10\u001b[0m     end_box \u001b[39m=\u001b[39m fun(start_box)\n\u001b[0;32m     11\u001b[0m     \u001b[39mif\u001b[39;00m isbox(end_box) \u001b[39mand\u001b[39;00m end_box\u001b[39m.\u001b[39m_trace \u001b[39m==\u001b[39m start_box\u001b[39m.\u001b[39m_trace:\n\u001b[0;32m     12\u001b[0m         \u001b[39mreturn\u001b[39;00m end_box\u001b[39m.\u001b[39m_value, end_box\u001b[39m.\u001b[39m_node\n",
            "File \u001b[1;32m~\\AppData\\Roaming\\Python\\Python310\\site-packages\\autograd\\wrap_util.py:15\u001b[0m, in \u001b[0;36munary_to_nary.<locals>.nary_operator.<locals>.nary_f.<locals>.unary_f\u001b[1;34m(x)\u001b[0m\n\u001b[0;32m     13\u001b[0m \u001b[39melse\u001b[39;00m:\n\u001b[0;32m     14\u001b[0m     subargs \u001b[39m=\u001b[39m subvals(args, \u001b[39mzip\u001b[39m(argnum, x))\n\u001b[1;32m---> 15\u001b[0m \u001b[39mreturn\u001b[39;00m fun(\u001b[39m*\u001b[39msubargs, \u001b[39m*\u001b[39m\u001b[39m*\u001b[39mkwargs)\n",
            "\u001b[1;32mc:\\Users\\usuario\\Documents\\Yessi\\EscuelaCuanticaEspañol\\escuela-de-computacion-cuantica-2023\\challenges\\QuantumQuipu challenge\\variacionales_2_parametros.ipynb Cell 5\u001b[0m line \u001b[0;36mtrain.<locals>.<lambda>\u001b[1;34m(params)\u001b[0m\n\u001b[0;32m     <a href='vscode-notebook-cell:/c%3A/Users/usuario/Documents/Yessi/EscuelaCuanticaEspa%C3%B1ol/escuela-de-computacion-cuantica-2023/challenges/QuantumQuipu%20challenge/variacionales_2_parametros.ipynb#W4sZmlsZQ%3D%3D?line=53'>54</a>\u001b[0m costs \u001b[39m=\u001b[39m []\n\u001b[0;32m     <a href='vscode-notebook-cell:/c%3A/Users/usuario/Documents/Yessi/EscuelaCuanticaEspa%C3%B1ol/escuela-de-computacion-cuantica-2023/challenges/QuantumQuipu%20challenge/variacionales_2_parametros.ipynb#W4sZmlsZQ%3D%3D?line=54'>55</a>\u001b[0m \u001b[39mfor\u001b[39;00m epoch \u001b[39min\u001b[39;00m \u001b[39mrange\u001b[39m(epochs):\n\u001b[1;32m---> <a href='vscode-notebook-cell:/c%3A/Users/usuario/Documents/Yessi/EscuelaCuanticaEspa%C3%B1ol/escuela-de-computacion-cuantica-2023/challenges/QuantumQuipu%20challenge/variacionales_2_parametros.ipynb#W4sZmlsZQ%3D%3D?line=55'>56</a>\u001b[0m     params, cost \u001b[39m=\u001b[39m opt\u001b[39m.\u001b[39mstep_and_cost(\u001b[39mlambda\u001b[39;00m params: error_function(qnode,data, labels, params), params)\n\u001b[0;32m     <a href='vscode-notebook-cell:/c%3A/Users/usuario/Documents/Yessi/EscuelaCuanticaEspa%C3%B1ol/escuela-de-computacion-cuantica-2023/challenges/QuantumQuipu%20challenge/variacionales_2_parametros.ipynb#W4sZmlsZQ%3D%3D?line=56'>57</a>\u001b[0m     costs\u001b[39m.\u001b[39mappend(cost)\n\u001b[0;32m     <a href='vscode-notebook-cell:/c%3A/Users/usuario/Documents/Yessi/EscuelaCuanticaEspa%C3%B1ol/escuela-de-computacion-cuantica-2023/challenges/QuantumQuipu%20challenge/variacionales_2_parametros.ipynb#W4sZmlsZQ%3D%3D?line=58'>59</a>\u001b[0m \u001b[39mif\u001b[39;00m plot:\n",
            "\u001b[1;32mc:\\Users\\usuario\\Documents\\Yessi\\EscuelaCuanticaEspañol\\escuela-de-computacion-cuantica-2023\\challenges\\QuantumQuipu challenge\\variacionales_2_parametros.ipynb Cell 5\u001b[0m line \u001b[0;36merror\u001b[1;34m(qnode, data, labels, params)\u001b[0m\n\u001b[0;32m     <a href='vscode-notebook-cell:/c%3A/Users/usuario/Documents/Yessi/EscuelaCuanticaEspa%C3%B1ol/escuela-de-computacion-cuantica-2023/challenges/QuantumQuipu%20challenge/variacionales_2_parametros.ipynb#W4sZmlsZQ%3D%3D?line=30'>31</a>\u001b[0m     \u001b[39mprint\u001b[39m(i, \u001b[39m\"\u001b[39m\u001b[39m-\u001b[39m\u001b[39m\"\u001b[39m, fila)\n\u001b[0;32m     <a href='vscode-notebook-cell:/c%3A/Users/usuario/Documents/Yessi/EscuelaCuanticaEspa%C3%B1ol/escuela-de-computacion-cuantica-2023/challenges/QuantumQuipu%20challenge/variacionales_2_parametros.ipynb#W4sZmlsZQ%3D%3D?line=31'>32</a>\u001b[0m     \u001b[39mprint\u001b[39m(params)\n\u001b[1;32m---> <a href='vscode-notebook-cell:/c%3A/Users/usuario/Documents/Yessi/EscuelaCuanticaEspa%C3%B1ol/escuela-de-computacion-cuantica-2023/challenges/QuantumQuipu%20challenge/variacionales_2_parametros.ipynb#W4sZmlsZQ%3D%3D?line=32'>33</a>\u001b[0m     d \u001b[39m=\u001b[39m circuit(fila, params)\n\u001b[0;32m     <a href='vscode-notebook-cell:/c%3A/Users/usuario/Documents/Yessi/EscuelaCuanticaEspa%C3%B1ol/escuela-de-computacion-cuantica-2023/challenges/QuantumQuipu%20challenge/variacionales_2_parametros.ipynb#W4sZmlsZQ%3D%3D?line=33'>34</a>\u001b[0m     err \u001b[39m-\u001b[39m\u001b[39m=\u001b[39m (labels[i] \u001b[39m*\u001b[39m d[\u001b[39m0\u001b[39m])\n\u001b[0;32m     <a href='vscode-notebook-cell:/c%3A/Users/usuario/Documents/Yessi/EscuelaCuanticaEspa%C3%B1ol/escuela-de-computacion-cuantica-2023/challenges/QuantumQuipu%20challenge/variacionales_2_parametros.ipynb#W4sZmlsZQ%3D%3D?line=34'>35</a>\u001b[0m \u001b[39mreturn\u001b[39;00m err \u001b[39m/\u001b[39m \u001b[39mlen\u001b[39m(data[\u001b[39m0\u001b[39m])\n",
            "File \u001b[1;32m~\\AppData\\Roaming\\Python\\Python310\\site-packages\\pennylane\\qnode.py:970\u001b[0m, in \u001b[0;36mQNode.__call__\u001b[1;34m(self, *args, **kwargs)\u001b[0m\n\u001b[0;32m    967\u001b[0m         kwargs[\u001b[39m\"\u001b[39m\u001b[39mshots\u001b[39m\u001b[39m\"\u001b[39m] \u001b[39m=\u001b[39m _get_device_shots(\u001b[39mself\u001b[39m\u001b[39m.\u001b[39m_original_device)\n\u001b[0;32m    969\u001b[0m \u001b[39m# construct the tape\u001b[39;00m\n\u001b[1;32m--> 970\u001b[0m \u001b[39mself\u001b[39;49m\u001b[39m.\u001b[39;49mconstruct(args, kwargs)\n\u001b[0;32m    972\u001b[0m cache \u001b[39m=\u001b[39m \u001b[39mself\u001b[39m\u001b[39m.\u001b[39mexecute_kwargs\u001b[39m.\u001b[39mget(\u001b[39m\"\u001b[39m\u001b[39mcache\u001b[39m\u001b[39m\"\u001b[39m, \u001b[39mFalse\u001b[39;00m)\n\u001b[0;32m    973\u001b[0m using_custom_cache \u001b[39m=\u001b[39m (\n\u001b[0;32m    974\u001b[0m     \u001b[39mhasattr\u001b[39m(cache, \u001b[39m\"\u001b[39m\u001b[39m__getitem__\u001b[39m\u001b[39m\"\u001b[39m)\n\u001b[0;32m    975\u001b[0m     \u001b[39mand\u001b[39;00m \u001b[39mhasattr\u001b[39m(cache, \u001b[39m\"\u001b[39m\u001b[39m__setitem__\u001b[39m\u001b[39m\"\u001b[39m)\n\u001b[0;32m    976\u001b[0m     \u001b[39mand\u001b[39;00m \u001b[39mhasattr\u001b[39m(cache, \u001b[39m\"\u001b[39m\u001b[39m__delitem__\u001b[39m\u001b[39m\"\u001b[39m)\n\u001b[0;32m    977\u001b[0m )\n",
            "File \u001b[1;32m~\\AppData\\Roaming\\Python\\Python310\\site-packages\\pennylane\\qnode.py:856\u001b[0m, in \u001b[0;36mQNode.construct\u001b[1;34m(self, args, kwargs)\u001b[0m\n\u001b[0;32m    853\u001b[0m     \u001b[39mself\u001b[39m\u001b[39m.\u001b[39minterface \u001b[39m=\u001b[39m qml\u001b[39m.\u001b[39mmath\u001b[39m.\u001b[39mget_interface(\u001b[39m*\u001b[39margs, \u001b[39m*\u001b[39m\u001b[39mlist\u001b[39m(kwargs\u001b[39m.\u001b[39mvalues()))\n\u001b[0;32m    855\u001b[0m \u001b[39mwith\u001b[39;00m qml\u001b[39m.\u001b[39mqueuing\u001b[39m.\u001b[39mAnnotatedQueue() \u001b[39mas\u001b[39;00m q:\n\u001b[1;32m--> 856\u001b[0m     \u001b[39mself\u001b[39m\u001b[39m.\u001b[39m_qfunc_output \u001b[39m=\u001b[39m \u001b[39mself\u001b[39m\u001b[39m.\u001b[39mfunc(\u001b[39m*\u001b[39margs, \u001b[39m*\u001b[39m\u001b[39m*\u001b[39mkwargs)\n\u001b[0;32m    858\u001b[0m \u001b[39mself\u001b[39m\u001b[39m.\u001b[39m_tape \u001b[39m=\u001b[39m QuantumScript\u001b[39m.\u001b[39mfrom_queue(q, shots)\n\u001b[0;32m    860\u001b[0m params \u001b[39m=\u001b[39m \u001b[39mself\u001b[39m\u001b[39m.\u001b[39mtape\u001b[39m.\u001b[39mget_parameters(trainable_only\u001b[39m=\u001b[39m\u001b[39mFalse\u001b[39;00m)\n",
            "\u001b[1;32mc:\\Users\\usuario\\Documents\\Yessi\\EscuelaCuanticaEspañol\\escuela-de-computacion-cuantica-2023\\challenges\\QuantumQuipu challenge\\variacionales_2_parametros.ipynb Cell 5\u001b[0m line \u001b[0;36mcircuit\u001b[1;34m(x, params)\u001b[0m\n\u001b[0;32m     <a href='vscode-notebook-cell:/c%3A/Users/usuario/Documents/Yessi/EscuelaCuanticaEspa%C3%B1ol/escuela-de-computacion-cuantica-2023/challenges/QuantumQuipu%20challenge/variacionales_2_parametros.ipynb#W4sZmlsZQ%3D%3D?line=20'>21</a>\u001b[0m     \u001b[39mprint\u001b[39m(dato)\n\u001b[0;32m     <a href='vscode-notebook-cell:/c%3A/Users/usuario/Documents/Yessi/EscuelaCuanticaEspa%C3%B1ol/escuela-de-computacion-cuantica-2023/challenges/QuantumQuipu%20challenge/variacionales_2_parametros.ipynb#W4sZmlsZQ%3D%3D?line=21'>22</a>\u001b[0m     \u001b[39m# feature_map(dato,params[i],i)\u001b[39;00m\n\u001b[0;32m     <a href='vscode-notebook-cell:/c%3A/Users/usuario/Documents/Yessi/EscuelaCuanticaEspa%C3%B1ol/escuela-de-computacion-cuantica-2023/challenges/QuantumQuipu%20challenge/variacionales_2_parametros.ipynb#W4sZmlsZQ%3D%3D?line=22'>23</a>\u001b[0m \u001b[39m# variational_block(params)\u001b[39;00m\n\u001b[0;32m     <a href='vscode-notebook-cell:/c%3A/Users/usuario/Documents/Yessi/EscuelaCuanticaEspa%C3%B1ol/escuela-de-computacion-cuantica-2023/challenges/QuantumQuipu%20challenge/variacionales_2_parametros.ipynb#W4sZmlsZQ%3D%3D?line=23'>24</a>\u001b[0m \u001b[39m# return qml.expval(qml.PauliZ(len(params)-1))\u001b[39;00m\n\u001b[1;32m---> <a href='vscode-notebook-cell:/c%3A/Users/usuario/Documents/Yessi/EscuelaCuanticaEspa%C3%B1ol/escuela-de-computacion-cuantica-2023/challenges/QuantumQuipu%20challenge/variacionales_2_parametros.ipynb#W4sZmlsZQ%3D%3D?line=24'>25</a>\u001b[0m \u001b[39mreturn\u001b[39;00m qml\u001b[39m.\u001b[39mexpval(qml\u001b[39m.\u001b[39;49mHermitian(x, wires \u001b[39m=\u001b[39;49m [\u001b[39m0\u001b[39;49m,\u001b[39m1\u001b[39;49m]))\n",
            "File \u001b[1;32m~\\AppData\\Roaming\\Python\\Python310\\site-packages\\pennylane\\ops\\qubit\\observables.py:80\u001b[0m, in \u001b[0;36mHermitian.__init__\u001b[1;34m(self, A, wires, id)\u001b[0m\n\u001b[0;32m     76\u001b[0m     \u001b[39melse\u001b[39;00m:\n\u001b[0;32m     77\u001b[0m         \u001b[39m# Assumably wires is an int; further validation checks are performed by calling super().__init__\u001b[39;00m\n\u001b[0;32m     78\u001b[0m         expected_mx_shape \u001b[39m=\u001b[39m \u001b[39mself\u001b[39m\u001b[39m.\u001b[39m_num_basis_states\n\u001b[1;32m---> 80\u001b[0m     Hermitian\u001b[39m.\u001b[39;49m_validate_input(A, expected_mx_shape)\n\u001b[0;32m     82\u001b[0m \u001b[39msuper\u001b[39m()\u001b[39m.\u001b[39m\u001b[39m__init__\u001b[39m(A, wires\u001b[39m=\u001b[39mwires, \u001b[39mid\u001b[39m\u001b[39m=\u001b[39m\u001b[39mid\u001b[39m)\n",
            "File \u001b[1;32m~\\AppData\\Roaming\\Python\\Python310\\site-packages\\pennylane\\ops\\qubit\\observables.py:88\u001b[0m, in \u001b[0;36mHermitian._validate_input\u001b[1;34m(A, expected_mx_shape)\u001b[0m\n\u001b[0;32m     86\u001b[0m \u001b[39m\"\"\"Validate the input matrix.\"\"\"\u001b[39;00m\n\u001b[0;32m     87\u001b[0m \u001b[39mif\u001b[39;00m \u001b[39mlen\u001b[39m(A\u001b[39m.\u001b[39mshape) \u001b[39m!=\u001b[39m \u001b[39m2\u001b[39m \u001b[39mor\u001b[39;00m A\u001b[39m.\u001b[39mshape[\u001b[39m0\u001b[39m] \u001b[39m!=\u001b[39m A\u001b[39m.\u001b[39mshape[\u001b[39m1\u001b[39m]:\n\u001b[1;32m---> 88\u001b[0m     \u001b[39mraise\u001b[39;00m \u001b[39mValueError\u001b[39;00m(\u001b[39m\"\u001b[39m\u001b[39mObservable must be a square matrix.\u001b[39m\u001b[39m\"\u001b[39m)\n\u001b[0;32m     90\u001b[0m \u001b[39mif\u001b[39;00m expected_mx_shape \u001b[39mis\u001b[39;00m \u001b[39mnot\u001b[39;00m \u001b[39mNone\u001b[39;00m \u001b[39mand\u001b[39;00m A\u001b[39m.\u001b[39mshape[\u001b[39m0\u001b[39m] \u001b[39m!=\u001b[39m expected_mx_shape:\n\u001b[0;32m     91\u001b[0m     \u001b[39mraise\u001b[39;00m \u001b[39mValueError\u001b[39;00m(\n\u001b[0;32m     92\u001b[0m         \u001b[39mf\u001b[39m\u001b[39m\"\u001b[39m\u001b[39mExpected input matrix to have shape \u001b[39m\u001b[39m{\u001b[39;00mexpected_mx_shape\u001b[39m}\u001b[39;00m\u001b[39mx\u001b[39m\u001b[39m{\u001b[39;00mexpected_mx_shape\u001b[39m}\u001b[39;00m\u001b[39m, but \u001b[39m\u001b[39m\"\u001b[39m\n\u001b[0;32m     93\u001b[0m         \u001b[39mf\u001b[39m\u001b[39m\"\u001b[39m\u001b[39ma matrix with shape \u001b[39m\u001b[39m{\u001b[39;00mA\u001b[39m.\u001b[39mshape[\u001b[39m0\u001b[39m]\u001b[39m}\u001b[39;00m\u001b[39mx\u001b[39m\u001b[39m{\u001b[39;00mA\u001b[39m.\u001b[39mshape[\u001b[39m0\u001b[39m]\u001b[39m}\u001b[39;00m\u001b[39m was passed.\u001b[39m\u001b[39m\"\u001b[39m\n\u001b[0;32m     94\u001b[0m     )\n",
            "\u001b[1;31mValueError\u001b[0m: Observable must be a square matrix."
          ]
        }
      ],
      "source": [
        "initial_params = np.random.rand(len(data)-1, requires_grad = True)\n",
        "print(initial_params)\n",
        "params = train(data, labels, error, initial_params)\n",
        "print(accuracy(data, labels, params))"
      ]
    },
    {
      "cell_type": "code",
      "execution_count": null,
      "metadata": {
        "id": "p187sShLyCxQ"
      },
      "outputs": [],
      "source": [
        "def feature_map(x, feature_param):\n",
        "    qml.Hadamard(wires = 0)\n",
        "    qml.RZ(x * feature_param, wires = 0)\n",
        "\n",
        "def feature_error(data, labels, feature_param):\n",
        "\n",
        "    dev = qml.device(\"default.qubit\", wires = 1)\n",
        "    @qml.qnode(dev)\n",
        "    def circuit(x1, x2):\n",
        "        feature_map(x1, feature_param)\n",
        "        qml.adjoint(feature_map)(x2, feature_param)\n",
        "        return qml.probs(wires = 0)\n",
        "\n",
        "    err = 0\n",
        "    for i in range(len(data)):\n",
        "        for j in range(i, len(data)):\n",
        "            d = circuit(data[i], data[j])\n",
        "            err -= labels[i] * labels[j] * d[0][0]\n",
        "    return err\n"
      ]
    },
    {
      "cell_type": "code",
      "execution_count": null,
      "metadata": {},
      "outputs": [],
      "source": [
        "initial_param = np.random.rand(1, requires_grad = True)\n",
        "param = train(data, labels, feature_error, initial_param)"
      ]
    },
    {
      "cell_type": "code",
      "execution_count": null,
      "metadata": {},
      "outputs": [],
      "source": [
        "print(accuracy(data, labels, params))"
      ]
    }
  ],
  "metadata": {
    "colab": {
      "provenance": []
    },
    "kernelspec": {
      "display_name": "Python 3",
      "name": "python3"
    },
    "language_info": {
      "codemirror_mode": {
        "name": "ipython",
        "version": 3
      },
      "file_extension": ".py",
      "mimetype": "text/x-python",
      "name": "python",
      "nbconvert_exporter": "python",
      "pygments_lexer": "ipython3",
      "version": "3.10.4"
    }
  },
  "nbformat": 4,
  "nbformat_minor": 0
}
