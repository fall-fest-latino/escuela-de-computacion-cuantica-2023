{
 "cells": [
  {
   "cell_type": "code",
   "execution_count": 3,
   "metadata": {},
   "outputs": [
    {
     "ename": "ImportError",
     "evalue": "cannot import name 'QAOA' from 'openqaoa' (c:\\ProgramData\\Anaconda3\\lib\\site-packages\\openqaoa\\__init__.py)",
     "output_type": "error",
     "traceback": [
      "\u001b[1;31m---------------------------------------------------------------------------\u001b[0m",
      "\u001b[1;31mImportError\u001b[0m                               Traceback (most recent call last)",
      "\u001b[1;32m~\\AppData\\Local\\Temp/ipykernel_15324/943877316.py\u001b[0m in \u001b[0;36m<module>\u001b[1;34m\u001b[0m\n\u001b[0;32m     10\u001b[0m \u001b[1;33m\u001b[0m\u001b[0m\n\u001b[0;32m     11\u001b[0m \u001b[1;31m# Import the libraries needed to employ the QAOA quantum algorithm using OpenQAOA\u001b[0m\u001b[1;33m\u001b[0m\u001b[1;33m\u001b[0m\u001b[0m\n\u001b[1;32m---> 12\u001b[1;33m \u001b[1;32mfrom\u001b[0m \u001b[0mopenqaoa\u001b[0m \u001b[1;32mimport\u001b[0m \u001b[0mQAOA\u001b[0m\u001b[1;33m\u001b[0m\u001b[1;33m\u001b[0m\u001b[0m\n\u001b[0m\u001b[0;32m     13\u001b[0m \u001b[1;33m\u001b[0m\u001b[0m\n\u001b[0;32m     14\u001b[0m \u001b[1;31m# method to covnert a docplex model to a qubo problem\u001b[0m\u001b[1;33m\u001b[0m\u001b[1;33m\u001b[0m\u001b[0m\n",
      "\u001b[1;31mImportError\u001b[0m: cannot import name 'QAOA' from 'openqaoa' (c:\\ProgramData\\Anaconda3\\lib\\site-packages\\openqaoa\\__init__.py)"
     ]
    }
   ],
   "source": [
    "%matplotlib notebook\n",
    "\n",
    "# Import external libraries to present an manipulate the data\n",
    "import numpy as np\n",
    "import matplotlib.pyplot as plt\n",
    "import pandas as pd\n",
    "\n",
    "# Import docplex model to generate the problem to optimize\n",
    "from docplex.mp.model import Model\n",
    "\n",
    "# Import the libraries needed to employ the QAOA quantum algorithm using OpenQAOA\n",
    "from openqaoa import QAOA\n",
    "\n",
    "# method to covnert a docplex model to a qubo problem\n",
    "from openqaoa.problems.converters import FromDocplex2IsingModel #check this method and properties\n",
    "from openqaoa.backends import create_device\n",
    "\n",
    "# method to find the correct states for the QAOA object \n",
    "from openqaoa.utilities import ground_state_hamiltonian"
   ]
  },
  {
   "cell_type": "markdown",
   "metadata": {},
   "source": [
    "## El problema de la mochila \n",
    "\n",
    "El problema de la mochila es un problema combinatorio que considera un conjunto de objetos que tiene un valor peso/costo, el objetivo consiste en seleccionar un subconjunto de elementos que permita maximizar el peso/costo. Este problema esta restringido a una capacidad máxima específica.\n",
    "\n",
    "Para ello se debe cumplir que el peso máximo debe ser mayor al menor de los pesos de los elementos, en el caso trivial la suma de todos los elementos es menor al peso máximo.\n",
    "\n",
    "Para la transformación a un problema QUBO se deben considerar las restricciones de la desigualdad. \n",
    "\n",
    "La función puede describirse fomo:\n",
    "\n",
    "$$\n",
    "\n",
    "max \\left(  \\sum_{i=0}^n v_i x_i \\right) \n",
    "\n",
    "$$\n",
    "\n",
    "La restricción es:\n",
    "\n",
    "$$\n",
    "\n",
    "\\sum_{i=1}^n w_i x_i \\leq W\n",
    "$$\n",
    "\n",
    "$$\n",
    "\n",
    "x_i = \\{0,1\\}\n",
    "\n",
    "$$\n",
    "\n",
    "### Problema de optimización\n",
    "\n",
    "Existe una gran variedad de problemas que pueden resolverde con ese planteamiento, por ejemplo:\n",
    "-Si se desea maximizar la producción agricola en un invernadero dados la cantidad de sustratos y el costo de los productos a coshechar.\n",
    "-Se desea maximizar la contratación de profesores dado un presupuesto definido que permita ofrecer la mayor cantidad de áreas de conocimiento.\n",
    "-Para maximizar el almacenamiento de productos para su translado, la etensión de este caso se proyecta al uso de múltiples mochilas en donde se pueden almacenar, la misma o diferentes cantidad de peso.\n"
   ]
  },
  {
   "cell_type": "code",
   "execution_count": 8,
   "metadata": {},
   "outputs": [
    {
     "name": "stdout",
     "output_type": "stream",
     "text": [
      "[6 7 6 8 6 4 5 9 1 1]\n",
      "[1 9 9 6 4 9 6 6 3 6]\n",
      "23\n"
     ]
    }
   ],
   "source": [
    "# Datos del problema de Prueba\n",
    "values = np.random.randint(10, size=10)\n",
    "weights = np.random.randint(10, size=10)\n",
    "max_weight = np.random.randint(10,50)\n",
    "\n",
    "print(values)\n",
    "print(weights)\n",
    "print(max_weight)\n"
   ]
  },
  {
   "cell_type": "markdown",
   "metadata": {},
   "source": [
    "#### Definir el problema, la función objetivo y las restricciones."
   ]
  },
  {
   "cell_type": "code",
   "execution_count": null,
   "metadata": {},
   "outputs": [],
   "source": [
    "def Problem(values, weights, max_weight):\n",
    "    \n",
    "    # initialize a model\n",
    "    mdl = Model(name=\"Knaspack\")\n",
    "    \n",
    "    x = {i: mdl.binary_var(name=f\"x_{i}\") for i in range(len(values))}  \n",
    "    # define the objective function\n",
    "    mdl.minimize(mdl.sum(values[i] * x[i] for i in x))    \n",
    "    # add the constraints\n",
    "    mdl.add_constraint(mdl.sum(weights[i] * x[i] for i in x) <= max_weight)\n",
    "    return  FromDocplex2IsingModel(mdl)"
   ]
  },
  {
   "cell_type": "code",
   "execution_count": null,
   "metadata": {},
   "outputs": [],
   "source": [
    "problem =  Problem(values, weights, max_weight)\n",
    "\n",
    "# Ising encoding of the QUBO problem for binpacking problem\n",
    "qubo = problem.ising_model\n",
    "\n",
    "# Docplex encoding of the QUBO problem for binpacking problem\n",
    "mdl_qubo_docplex = problem.qubo_docplex\n",
    "\n",
    "mdl_qubo_docplex.prettyprint()"
   ]
  },
  {
   "cell_type": "markdown",
   "metadata": {},
   "source": [
    "#### Probar los parámetros para obtener los mejores resultados de la optimización"
   ]
  },
  {
   "cell_type": "code",
   "execution_count": null,
   "metadata": {},
   "outputs": [],
   "source": [
    "def funcionesQAOA(device,tipo,ham):\n",
    "    qaoa = QAOA()\n",
    "    qaoa.set_device(device)\n",
    "\n",
    "    # Set the parameters to use the QAOA algorithm\n",
    "    qaoa.set_backend_properties(n_shots=1024, seed_simulator=1)\n",
    "    qaoa.set_circuit_properties(p=1, param_type='standard', init_type=tipo, mixer_hamiltonian=ham)\n",
    "\n",
    "    qaoa.compile(qubo)\n",
    "\n",
    "    # Run the QAOA algorithm\n",
    "    qaoa.optimize()\n",
    "    return qaoa.result"
   ]
  },
  {
   "cell_type": "code",
   "execution_count": null,
   "metadata": {},
   "outputs": [],
   "source": [
    "# Initialize the QAOA object and use a device\n",
    "tipos = ['rand','ramp']\n",
    "ham = ['xy','x']\n",
    "dispositivos = ['qiskit.statevector_simulator','qiskit.qasm_simulator']\n",
    "for k in dispositivos:\n",
    "    for i in tipos:\n",
    "        for j in ham:\n",
    "            device = create_device(\"local\", k)\n",
    "            results_sv = funcionesQAOA(device,i,j)\n",
    "            print(\"Dispositivo: \",k, \" Tipo: \",i, \" Mixer: \",j)\n",
    "            print(pd.DataFrame(results_sv.lowest_cost_bitstrings(5)))"
   ]
  },
  {
   "cell_type": "code",
   "execution_count": null,
   "metadata": {},
   "outputs": [],
   "source": [
    "correct_solution = ground_state_hamiltonian(qaoa.cost_hamil)\n",
    "print(correct_solution)"
   ]
  }
 ],
 "metadata": {
  "kernelspec": {
   "display_name": "Python 3",
   "language": "python",
   "name": "python3"
  },
  "language_info": {
   "codemirror_mode": {
    "name": "ipython",
    "version": 3
   },
   "file_extension": ".py",
   "mimetype": "text/x-python",
   "name": "python",
   "nbconvert_exporter": "python",
   "pygments_lexer": "ipython3",
   "version": "3.9.7"
  }
 },
 "nbformat": 4,
 "nbformat_minor": 2
}
