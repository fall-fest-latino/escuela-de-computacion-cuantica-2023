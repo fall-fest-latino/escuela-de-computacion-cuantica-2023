{
 "cells": [
  {
   "cell_type": "markdown",
   "metadata": {},
   "source": []
  },
  {
   "cell_type": "code",
   "execution_count": 3,
   "metadata": {},
   "outputs": [
    {
     "ename": "ImportError",
     "evalue": "Missing optional 'qiskit' dependencies. To install run: pip install azure-quantum[qiskit]",
     "output_type": "error",
     "traceback": [
      "\u001b[1;31m---------------------------------------------------------------------------\u001b[0m",
      "\u001b[1;31mImportError\u001b[0m                               Traceback (most recent call last)",
      "File \u001b[1;32md:\\laragon\\bin\\python\\python-3.10\\lib\\site-packages\\azure\\quantum\\qiskit\\backends\\backend.py:29\u001b[0m\n\u001b[0;32m     28\u001b[0m \u001b[39mfrom\u001b[39;00m \u001b[39mqiskit\u001b[39;00m\u001b[39m.\u001b[39;00m\u001b[39mproviders\u001b[39;00m\u001b[39m.\u001b[39;00m\u001b[39mmodels\u001b[39;00m \u001b[39mimport\u001b[39;00m BackendConfiguration\n\u001b[1;32m---> 29\u001b[0m \u001b[39mfrom\u001b[39;00m \u001b[39mqiskit\u001b[39;00m\u001b[39m.\u001b[39;00m\u001b[39mqobj\u001b[39;00m \u001b[39mimport\u001b[39;00m Qobj, QasmQobj\n\u001b[0;32m     30\u001b[0m \u001b[39mfrom\u001b[39;00m \u001b[39mpyqir\u001b[39;00m \u001b[39mimport\u001b[39;00m Module\n",
      "\u001b[1;31mImportError\u001b[0m: cannot import name 'Qobj' from 'qiskit.qobj' (d:\\laragon\\bin\\python\\python-3.10\\lib\\site-packages\\qiskit\\qobj\\__init__.py)",
      "\nDuring handling of the above exception, another exception occurred:\n",
      "\u001b[1;31mImportError\u001b[0m                               Traceback (most recent call last)",
      "\u001b[1;32mc:\\Users\\Estoico\\Documents\\Doctorado\\Hackaton\\EscuelaCuantoca2023\\escuela-de-computacion-cuantica-2023\\challenges\\openqaoa challenge\\main.ipynb Celda 2\u001b[0m line \u001b[0;36m1\n\u001b[0;32m      <a href='vscode-notebook-cell:/c%3A/Users/Estoico/Documents/Doctorado/Hackaton/EscuelaCuantoca2023/escuela-de-computacion-cuantica-2023/challenges/openqaoa%20challenge/main.ipynb#W1sZmlsZQ%3D%3D?line=8'>9</a>\u001b[0m \u001b[39mfrom\u001b[39;00m \u001b[39mdocplex\u001b[39;00m\u001b[39m.\u001b[39;00m\u001b[39mmp\u001b[39;00m\u001b[39m.\u001b[39;00m\u001b[39mmodel\u001b[39;00m \u001b[39mimport\u001b[39;00m Model\n\u001b[0;32m     <a href='vscode-notebook-cell:/c%3A/Users/Estoico/Documents/Doctorado/Hackaton/EscuelaCuantoca2023/escuela-de-computacion-cuantica-2023/challenges/openqaoa%20challenge/main.ipynb#W1sZmlsZQ%3D%3D?line=10'>11</a>\u001b[0m \u001b[39m# Import the libraries needed to employ the QAOA quantum algorithm using OpenQAOA\u001b[39;00m\n\u001b[1;32m---> <a href='vscode-notebook-cell:/c%3A/Users/Estoico/Documents/Doctorado/Hackaton/EscuelaCuantoca2023/escuela-de-computacion-cuantica-2023/challenges/openqaoa%20challenge/main.ipynb#W1sZmlsZQ%3D%3D?line=11'>12</a>\u001b[0m \u001b[39mfrom\u001b[39;00m \u001b[39mopenqaoa\u001b[39;00m \u001b[39mimport\u001b[39;00m QAOA\n\u001b[0;32m     <a href='vscode-notebook-cell:/c%3A/Users/Estoico/Documents/Doctorado/Hackaton/EscuelaCuantoca2023/escuela-de-computacion-cuantica-2023/challenges/openqaoa%20challenge/main.ipynb#W1sZmlsZQ%3D%3D?line=13'>14</a>\u001b[0m \u001b[39m# method to covnert a docplex model to a qubo problem\u001b[39;00m\n\u001b[0;32m     <a href='vscode-notebook-cell:/c%3A/Users/Estoico/Documents/Doctorado/Hackaton/EscuelaCuantoca2023/escuela-de-computacion-cuantica-2023/challenges/openqaoa%20challenge/main.ipynb#W1sZmlsZQ%3D%3D?line=14'>15</a>\u001b[0m \u001b[39mfrom\u001b[39;00m \u001b[39mopenqaoa\u001b[39;00m\u001b[39m.\u001b[39;00m\u001b[39mproblems\u001b[39;00m\u001b[39m.\u001b[39;00m\u001b[39mconverters\u001b[39;00m \u001b[39mimport\u001b[39;00m FromDocplex2IsingModel \u001b[39m#check this method and properties\u001b[39;00m\n",
      "File \u001b[1;32md:\\laragon\\bin\\python\\python-3.10\\lib\\site-packages\\openqaoa\\__init__.py:1\u001b[0m\n\u001b[1;32m----> 1\u001b[0m \u001b[39mfrom\u001b[39;00m \u001b[39m.\u001b[39;00m\u001b[39malgorithms\u001b[39;00m \u001b[39mimport\u001b[39;00m QAOA, RQAOA, QAOABenchmark\n\u001b[0;32m      2\u001b[0m \u001b[39mfrom\u001b[39;00m \u001b[39m.\u001b[39;00m\u001b[39mproblems\u001b[39;00m \u001b[39mimport\u001b[39;00m QUBO\n\u001b[0;32m      3\u001b[0m \u001b[39mfrom\u001b[39;00m \u001b[39m.\u001b[39;00m\u001b[39mbackends\u001b[39;00m \u001b[39mimport\u001b[39;00m create_device\n",
      "File \u001b[1;32md:\\laragon\\bin\\python\\python-3.10\\lib\\site-packages\\openqaoa\\algorithms\\__init__.py:1\u001b[0m\n\u001b[1;32m----> 1\u001b[0m \u001b[39mfrom\u001b[39;00m \u001b[39m.\u001b[39;00m\u001b[39mqaoa\u001b[39;00m \u001b[39mimport\u001b[39;00m QAOA, QAOAResult, QAOABenchmark\n\u001b[0;32m      2\u001b[0m \u001b[39mfrom\u001b[39;00m \u001b[39m.\u001b[39;00m\u001b[39mrqaoa\u001b[39;00m \u001b[39mimport\u001b[39;00m RQAOA, RQAOAResult\n",
      "File \u001b[1;32md:\\laragon\\bin\\python\\python-3.10\\lib\\site-packages\\openqaoa\\algorithms\\qaoa\\__init__.py:1\u001b[0m\n\u001b[1;32m----> 1\u001b[0m \u001b[39mfrom\u001b[39;00m \u001b[39m.\u001b[39;00m\u001b[39mqaoa_workflow\u001b[39;00m \u001b[39mimport\u001b[39;00m QAOA\n\u001b[0;32m      2\u001b[0m \u001b[39mfrom\u001b[39;00m \u001b[39m.\u001b[39;00m\u001b[39mqaoa_result\u001b[39;00m \u001b[39mimport\u001b[39;00m QAOAResult\n\u001b[0;32m      3\u001b[0m \u001b[39mfrom\u001b[39;00m \u001b[39m.\u001b[39;00m\u001b[39mqaoa_benchmark\u001b[39;00m \u001b[39mimport\u001b[39;00m QAOABenchmark\n",
      "File \u001b[1;32md:\\laragon\\bin\\python\\python-3.10\\lib\\site-packages\\openqaoa\\algorithms\\qaoa\\qaoa_workflow.py:5\u001b[0m\n\u001b[0;32m      2\u001b[0m \u001b[39mfrom\u001b[39;00m \u001b[39mcopy\u001b[39;00m \u001b[39mimport\u001b[39;00m deepcopy\n\u001b[0;32m      3\u001b[0m \u001b[39mimport\u001b[39;00m \u001b[39mnumpy\u001b[39;00m \u001b[39mas\u001b[39;00m \u001b[39mnp\u001b[39;00m\n\u001b[1;32m----> 5\u001b[0m \u001b[39mfrom\u001b[39;00m \u001b[39m.\u001b[39;00m\u001b[39mqaoa_result\u001b[39;00m \u001b[39mimport\u001b[39;00m QAOAResult\n\u001b[0;32m      6\u001b[0m \u001b[39mfrom\u001b[39;00m \u001b[39m.\u001b[39;00m\u001b[39m.\u001b[39;00m\u001b[39mworkflow_properties\u001b[39;00m \u001b[39mimport\u001b[39;00m CircuitProperties\n\u001b[0;32m      7\u001b[0m \u001b[39mfrom\u001b[39;00m \u001b[39m.\u001b[39;00m\u001b[39m.\u001b[39;00m\u001b[39mbaseworkflow\u001b[39;00m \u001b[39mimport\u001b[39;00m Workflow, check_compiled\n",
      "File \u001b[1;32md:\\laragon\\bin\\python\\python-3.10\\lib\\site-packages\\openqaoa\\algorithms\\qaoa\\qaoa_result.py:18\u001b[0m\n\u001b[0;32m     11\u001b[0m     \u001b[39mfrom\u001b[39;00m \u001b[39m.\u001b[39;00m\u001b[39m.\u001b[39;00m\u001b[39m.\u001b[39;00m\u001b[39moptimizers\u001b[39;00m\u001b[39m.\u001b[39;00m\u001b[39mlogger_vqa\u001b[39;00m \u001b[39mimport\u001b[39;00m Logger\n\u001b[0;32m     12\u001b[0m \u001b[39mfrom\u001b[39;00m \u001b[39m.\u001b[39;00m\u001b[39m.\u001b[39;00m\u001b[39m.\u001b[39;00m\u001b[39mutilities\u001b[39;00m \u001b[39mimport\u001b[39;00m (\n\u001b[0;32m     13\u001b[0m     qaoa_probabilities,\n\u001b[0;32m     14\u001b[0m     bitstring_energy,\n\u001b[0;32m     15\u001b[0m     convert2serialize,\n\u001b[0;32m     16\u001b[0m     delete_keys_from_dict,\n\u001b[0;32m     17\u001b[0m )\n\u001b[1;32m---> 18\u001b[0m \u001b[39mfrom\u001b[39;00m \u001b[39m.\u001b[39;00m\u001b[39m.\u001b[39;00m\u001b[39m.\u001b[39;00m\u001b[39mbackends\u001b[39;00m\u001b[39m.\u001b[39;00m\u001b[39mbasebackend\u001b[39;00m \u001b[39mimport\u001b[39;00m QAOABaseBackend, QAOABaseBackendStatevector\n\u001b[0;32m     19\u001b[0m \u001b[39mfrom\u001b[39;00m \u001b[39m.\u001b[39;00m\u001b[39m.\u001b[39;00m\u001b[39m.\u001b[39;00m\u001b[39mbackends\u001b[39;00m\u001b[39m.\u001b[39;00m\u001b[39mqaoa_analytical_sim\u001b[39;00m \u001b[39mimport\u001b[39;00m QAOABackendAnalyticalSimulator\n\u001b[0;32m     22\u001b[0m \u001b[39mdef\u001b[39;00m \u001b[39mmost_probable_bitstring\u001b[39m(cost_hamiltonian, measurement_outcomes):\n",
      "File \u001b[1;32md:\\laragon\\bin\\python\\python-3.10\\lib\\site-packages\\openqaoa\\backends\\__init__.py:18\u001b[0m\n\u001b[0;32m     16\u001b[0m \u001b[39mfrom\u001b[39;00m \u001b[39m.\u001b[39;00m\u001b[39mqaoa_vectorized\u001b[39;00m \u001b[39mimport\u001b[39;00m QAOAvectorizedBackendSimulator\n\u001b[0;32m     17\u001b[0m \u001b[39mfrom\u001b[39;00m \u001b[39m.\u001b[39;00m\u001b[39mqaoa_analytical_sim\u001b[39;00m \u001b[39mimport\u001b[39;00m QAOABackendAnalyticalSimulator\n\u001b[1;32m---> 18\u001b[0m \u001b[39mfrom\u001b[39;00m \u001b[39m.\u001b[39;00m\u001b[39mdevices_core\u001b[39;00m \u001b[39mimport\u001b[39;00m DeviceLocal\n\u001b[0;32m     19\u001b[0m \u001b[39mfrom\u001b[39;00m \u001b[39m.\u001b[39;00m\u001b[39mqaoa_device\u001b[39;00m \u001b[39mimport\u001b[39;00m create_device\n",
      "File \u001b[1;32md:\\laragon\\bin\\python\\python-3.10\\lib\\site-packages\\openqaoa\\backends\\devices_core.py:5\u001b[0m\n\u001b[0;32m      2\u001b[0m \u001b[39mimport\u001b[39;00m \u001b[39mnetworkx\u001b[39;00m \u001b[39mas\u001b[39;00m \u001b[39mnx\u001b[39;00m\n\u001b[0;32m      4\u001b[0m \u001b[39mfrom\u001b[39;00m \u001b[39m.\u001b[39;00m\u001b[39mbasedevice\u001b[39;00m \u001b[39mimport\u001b[39;00m DeviceBase\n\u001b[1;32m----> 5\u001b[0m \u001b[39mfrom\u001b[39;00m \u001b[39m.\u001b[39;00m\u001b[39mplugin_finder\u001b[39;00m \u001b[39mimport\u001b[39;00m PLUGIN_DICT\n\u001b[0;32m      8\u001b[0m \u001b[39mdef\u001b[39;00m \u001b[39mobtain_support_simulators\u001b[39m() \u001b[39m-\u001b[39m\u001b[39m>\u001b[39m \u001b[39mlist\u001b[39m:\n\u001b[0;32m      9\u001b[0m \u001b[39m    \u001b[39m\u001b[39m\"\"\"This method returns a list containing the names of simulators supported\u001b[39;00m\n\u001b[0;32m     10\u001b[0m \u001b[39m    by OQ. This list varies depending on the plugins available.\u001b[39;00m\n\u001b[0;32m     11\u001b[0m \u001b[39m    \"\"\"\u001b[39;00m\n",
      "File \u001b[1;32md:\\laragon\\bin\\python\\python-3.10\\lib\\site-packages\\openqaoa\\backends\\plugin_finder.py:58\u001b[0m\n\u001b[0;32m     36\u001b[0m     \u001b[39mreturn\u001b[39;00m output_dict\n\u001b[0;32m     39\u001b[0m \u001b[39m#     output_dict = dict()\u001b[39;00m\n\u001b[0;32m     40\u001b[0m \n\u001b[0;32m     41\u001b[0m \u001b[39m#     try:\u001b[39;00m\n\u001b[1;32m   (...)\u001b[0m\n\u001b[0;32m     55\u001b[0m \n\u001b[0;32m     56\u001b[0m \u001b[39m#     return output_dict\u001b[39;00m\n\u001b[1;32m---> 58\u001b[0m PLUGIN_DICT \u001b[39m=\u001b[39m plugin_finder_dict()\n",
      "File \u001b[1;32md:\\laragon\\bin\\python\\python-3.10\\lib\\site-packages\\openqaoa\\backends\\plugin_finder.py:21\u001b[0m, in \u001b[0;36mplugin_finder_dict\u001b[1;34m()\u001b[0m\n\u001b[0;32m     19\u001b[0m \u001b[39mfor\u001b[39;00m each_plugin_entry_point \u001b[39min\u001b[39;00m available_plugins:\n\u001b[0;32m     20\u001b[0m     \u001b[39mtry\u001b[39;00m:\n\u001b[1;32m---> 21\u001b[0m         output_dict[each_plugin_entry_point\u001b[39m.\u001b[39mname] \u001b[39m=\u001b[39m each_plugin_entry_point\u001b[39m.\u001b[39;49mload()\n\u001b[0;32m     22\u001b[0m     \u001b[39mexcept\u001b[39;00m \u001b[39mModuleNotFoundError\u001b[39;00m \u001b[39mas\u001b[39;00m e:\n\u001b[0;32m     23\u001b[0m         \u001b[39mprint\u001b[39m(\n\u001b[0;32m     24\u001b[0m             \u001b[39m\"\u001b[39m\u001b[39mThe \u001b[39m\u001b[39m{}\u001b[39;00m\u001b[39m module has not been installed.\u001b[39m\u001b[39m\"\u001b[39m\u001b[39m.\u001b[39mformat(\n\u001b[0;32m     25\u001b[0m                 each_plugin_entry_point\u001b[39m.\u001b[39mname\n\u001b[0;32m     26\u001b[0m             )\n\u001b[0;32m     27\u001b[0m         )\n",
      "File \u001b[1;32md:\\laragon\\bin\\python\\python-3.10\\lib\\importlib\\metadata\\__init__.py:171\u001b[0m, in \u001b[0;36mEntryPoint.load\u001b[1;34m(self)\u001b[0m\n\u001b[0;32m    166\u001b[0m \u001b[39m\u001b[39m\u001b[39m\"\"\"Load the entry point from its definition. If only a module\u001b[39;00m\n\u001b[0;32m    167\u001b[0m \u001b[39mis indicated by the value, return that module. Otherwise,\u001b[39;00m\n\u001b[0;32m    168\u001b[0m \u001b[39mreturn the named object.\u001b[39;00m\n\u001b[0;32m    169\u001b[0m \u001b[39m\"\"\"\u001b[39;00m\n\u001b[0;32m    170\u001b[0m match \u001b[39m=\u001b[39m \u001b[39mself\u001b[39m\u001b[39m.\u001b[39mpattern\u001b[39m.\u001b[39mmatch(\u001b[39mself\u001b[39m\u001b[39m.\u001b[39mvalue)\n\u001b[1;32m--> 171\u001b[0m module \u001b[39m=\u001b[39m import_module(match\u001b[39m.\u001b[39;49mgroup(\u001b[39m'\u001b[39;49m\u001b[39mmodule\u001b[39;49m\u001b[39m'\u001b[39;49m))\n\u001b[0;32m    172\u001b[0m attrs \u001b[39m=\u001b[39m \u001b[39mfilter\u001b[39m(\u001b[39mNone\u001b[39;00m, (match\u001b[39m.\u001b[39mgroup(\u001b[39m'\u001b[39m\u001b[39mattr\u001b[39m\u001b[39m'\u001b[39m) \u001b[39mor\u001b[39;00m \u001b[39m'\u001b[39m\u001b[39m'\u001b[39m)\u001b[39m.\u001b[39msplit(\u001b[39m'\u001b[39m\u001b[39m.\u001b[39m\u001b[39m'\u001b[39m))\n\u001b[0;32m    173\u001b[0m \u001b[39mreturn\u001b[39;00m functools\u001b[39m.\u001b[39mreduce(\u001b[39mgetattr\u001b[39m, attrs, module)\n",
      "File \u001b[1;32md:\\laragon\\bin\\python\\python-3.10\\lib\\importlib\\__init__.py:126\u001b[0m, in \u001b[0;36mimport_module\u001b[1;34m(name, package)\u001b[0m\n\u001b[0;32m    124\u001b[0m             \u001b[39mbreak\u001b[39;00m\n\u001b[0;32m    125\u001b[0m         level \u001b[39m+\u001b[39m\u001b[39m=\u001b[39m \u001b[39m1\u001b[39m\n\u001b[1;32m--> 126\u001b[0m \u001b[39mreturn\u001b[39;00m _bootstrap\u001b[39m.\u001b[39;49m_gcd_import(name[level:], package, level)\n",
      "File \u001b[1;32md:\\laragon\\bin\\python\\python-3.10\\lib\\site-packages\\openqaoa_azure\\backend_config.py:1\u001b[0m\n\u001b[1;32m----> 1\u001b[0m \u001b[39mfrom\u001b[39;00m \u001b[39m.\u001b[39;00m\u001b[39mbackends\u001b[39;00m \u001b[39mimport\u001b[39;00m DeviceAzure\n\u001b[0;32m      3\u001b[0m \u001b[39mfrom\u001b[39;00m \u001b[39mopenqaoa_qiskit\u001b[39;00m\u001b[39m.\u001b[39;00m\u001b[39mbackends\u001b[39;00m \u001b[39mimport\u001b[39;00m QAOAQiskitQPUBackend\n\u001b[0;32m      5\u001b[0m device_access \u001b[39m=\u001b[39m {DeviceAzure: QAOAQiskitQPUBackend}\n",
      "File \u001b[1;32md:\\laragon\\bin\\python\\python-3.10\\lib\\site-packages\\openqaoa_azure\\backends\\__init__.py:1\u001b[0m\n\u001b[1;32m----> 1\u001b[0m \u001b[39mfrom\u001b[39;00m \u001b[39m.\u001b[39;00m\u001b[39mdevices\u001b[39;00m \u001b[39mimport\u001b[39;00m DeviceAzure\n",
      "File \u001b[1;32md:\\laragon\\bin\\python\\python-3.10\\lib\\site-packages\\openqaoa_azure\\backends\\devices.py:3\u001b[0m\n\u001b[0;32m      1\u001b[0m \u001b[39mfrom\u001b[39;00m \u001b[39mtyping\u001b[39;00m \u001b[39mimport\u001b[39;00m List\n\u001b[1;32m----> 3\u001b[0m \u001b[39mfrom\u001b[39;00m \u001b[39mazure\u001b[39;00m\u001b[39m.\u001b[39;00m\u001b[39mquantum\u001b[39;00m\u001b[39m.\u001b[39;00m\u001b[39mqiskit\u001b[39;00m \u001b[39mimport\u001b[39;00m AzureQuantumProvider\n\u001b[0;32m      4\u001b[0m \u001b[39mfrom\u001b[39;00m \u001b[39mopenqaoa\u001b[39;00m\u001b[39m.\u001b[39;00m\u001b[39mbackends\u001b[39;00m\u001b[39m.\u001b[39;00m\u001b[39mdevices_core\u001b[39;00m \u001b[39mimport\u001b[39;00m DeviceBase\n\u001b[0;32m      7\u001b[0m \u001b[39mclass\u001b[39;00m \u001b[39mDeviceAzure\u001b[39;00m(DeviceBase):\n",
      "File \u001b[1;32md:\\laragon\\bin\\python\\python-3.10\\lib\\site-packages\\azure\\quantum\\qiskit\\__init__.py:8\u001b[0m\n\u001b[0;32m      1\u001b[0m \u001b[39m##\u001b[39;00m\n\u001b[0;32m      2\u001b[0m \u001b[39m# Copyright (c) Microsoft Corporation.\u001b[39;00m\n\u001b[0;32m      3\u001b[0m \u001b[39m# Licensed under the MIT License.\u001b[39;00m\n\u001b[0;32m      4\u001b[0m \u001b[39m##\u001b[39;00m\n\u001b[0;32m      6\u001b[0m \u001b[39m\"\"\"Azure Quantum Qiskit Provider\"\"\"\u001b[39;00m\n\u001b[1;32m----> 8\u001b[0m \u001b[39mfrom\u001b[39;00m \u001b[39m.\u001b[39;00m\u001b[39mprovider\u001b[39;00m \u001b[39mimport\u001b[39;00m AzureQuantumProvider\n\u001b[0;32m      9\u001b[0m \u001b[39mfrom\u001b[39;00m \u001b[39mazure\u001b[39;00m\u001b[39m.\u001b[39;00m\u001b[39mquantum\u001b[39;00m \u001b[39mimport\u001b[39;00m __version__\n\u001b[0;32m     11\u001b[0m __all__ \u001b[39m=\u001b[39m [\n\u001b[0;32m     12\u001b[0m     \u001b[39m\"\u001b[39m\u001b[39mAzureQuantumProvider\u001b[39m\u001b[39m\"\u001b[39m,\n\u001b[0;32m     13\u001b[0m     \u001b[39m\"\u001b[39m\u001b[39m__version__\u001b[39m\u001b[39m\"\u001b[39m\n\u001b[0;32m     14\u001b[0m ]\n",
      "File \u001b[1;32md:\\laragon\\bin\\python\\python-3.10\\lib\\site-packages\\azure\\quantum\\qiskit\\provider.py:20\u001b[0m\n\u001b[0;32m     18\u001b[0m \u001b[39mfrom\u001b[39;00m \u001b[39mtyping\u001b[39;00m \u001b[39mimport\u001b[39;00m Dict, List, Tuple, Type\n\u001b[0;32m     19\u001b[0m \u001b[39mfrom\u001b[39;00m \u001b[39mazure\u001b[39;00m\u001b[39m.\u001b[39;00m\u001b[39mquantum\u001b[39;00m \u001b[39mimport\u001b[39;00m Workspace\n\u001b[1;32m---> 20\u001b[0m \u001b[39mfrom\u001b[39;00m \u001b[39mazure\u001b[39;00m\u001b[39m.\u001b[39;00m\u001b[39mquantum\u001b[39;00m\u001b[39m.\u001b[39;00m\u001b[39mqiskit\u001b[39;00m\u001b[39m.\u001b[39;00m\u001b[39mbackends\u001b[39;00m\u001b[39m.\u001b[39;00m\u001b[39mbackend\u001b[39;00m \u001b[39mimport\u001b[39;00m AzureBackendBase\n\u001b[0;32m     21\u001b[0m \u001b[39mfrom\u001b[39;00m \u001b[39mazure\u001b[39;00m\u001b[39m.\u001b[39;00m\u001b[39mquantum\u001b[39;00m\u001b[39m.\u001b[39;00m\u001b[39mqiskit\u001b[39;00m\u001b[39m.\u001b[39;00m\u001b[39mjob\u001b[39;00m \u001b[39mimport\u001b[39;00m AzureQuantumJob\n\u001b[0;32m     22\u001b[0m \u001b[39mfrom\u001b[39;00m \u001b[39mazure\u001b[39;00m\u001b[39m.\u001b[39;00m\u001b[39mquantum\u001b[39;00m\u001b[39m.\u001b[39;00m\u001b[39mqiskit\u001b[39;00m\u001b[39m.\u001b[39;00m\u001b[39mbackends\u001b[39;00m \u001b[39mimport\u001b[39;00m \u001b[39m*\u001b[39m\n",
      "File \u001b[1;32md:\\laragon\\bin\\python\\python-3.10\\lib\\site-packages\\azure\\quantum\\qiskit\\backends\\__init__.py:6\u001b[0m\n\u001b[0;32m      1\u001b[0m \u001b[39m##\u001b[39;00m\n\u001b[0;32m      2\u001b[0m \u001b[39m# Copyright (c) Microsoft Corporation.\u001b[39;00m\n\u001b[0;32m      3\u001b[0m \u001b[39m# Licensed under the MIT License.\u001b[39;00m\n\u001b[0;32m      4\u001b[0m \u001b[39m##\u001b[39;00m\n\u001b[1;32m----> 6\u001b[0m \u001b[39mfrom\u001b[39;00m \u001b[39mazure\u001b[39;00m\u001b[39m.\u001b[39;00m\u001b[39mquantum\u001b[39;00m\u001b[39m.\u001b[39;00m\u001b[39mqiskit\u001b[39;00m\u001b[39m.\u001b[39;00m\u001b[39mbackends\u001b[39;00m\u001b[39m.\u001b[39;00m\u001b[39mionq\u001b[39;00m \u001b[39mimport\u001b[39;00m (\n\u001b[0;32m      7\u001b[0m     IonQBackend,\n\u001b[0;32m      8\u001b[0m     IonQQPUBackend,\n\u001b[0;32m      9\u001b[0m     IonQAriaBackend,\n\u001b[0;32m     10\u001b[0m     IonQSimulatorBackend,\n\u001b[0;32m     11\u001b[0m     IonQQPUQirBackend,\n\u001b[0;32m     12\u001b[0m     IonQAriaQirBackend,\n\u001b[0;32m     13\u001b[0m     IonQSimulatorQirBackend,\n\u001b[0;32m     14\u001b[0m )\n\u001b[0;32m     16\u001b[0m \u001b[39mfrom\u001b[39;00m \u001b[39mazure\u001b[39;00m\u001b[39m.\u001b[39;00m\u001b[39mquantum\u001b[39;00m\u001b[39m.\u001b[39;00m\u001b[39mqiskit\u001b[39;00m\u001b[39m.\u001b[39;00m\u001b[39mbackends\u001b[39;00m\u001b[39m.\u001b[39;00m\u001b[39mquantinuum\u001b[39;00m \u001b[39mimport\u001b[39;00m (\n\u001b[0;32m     17\u001b[0m     QuantinuumBackend,\n\u001b[0;32m     18\u001b[0m     QuantinuumQPUBackend,\n\u001b[1;32m   (...)\u001b[0m\n\u001b[0;32m     23\u001b[0m     QuantinuumEmulatorQirBackend,\n\u001b[0;32m     24\u001b[0m )\n\u001b[0;32m     26\u001b[0m \u001b[39mfrom\u001b[39;00m \u001b[39mazure\u001b[39;00m\u001b[39m.\u001b[39;00m\u001b[39mquantum\u001b[39;00m\u001b[39m.\u001b[39;00m\u001b[39mqiskit\u001b[39;00m\u001b[39m.\u001b[39;00m\u001b[39mbackends\u001b[39;00m\u001b[39m.\u001b[39;00m\u001b[39mrigetti\u001b[39;00m \u001b[39mimport\u001b[39;00m (\n\u001b[0;32m     27\u001b[0m     RigettiBackend,\n\u001b[0;32m     28\u001b[0m     RigettiQPUBackend,\n\u001b[0;32m     29\u001b[0m     RigettiSimulatorBackend,\n\u001b[0;32m     30\u001b[0m )\n",
      "File \u001b[1;32md:\\laragon\\bin\\python\\python-3.10\\lib\\site-packages\\azure\\quantum\\qiskit\\backends\\ionq.py:10\u001b[0m\n\u001b[0;32m      7\u001b[0m \u001b[39mfrom\u001b[39;00m \u001b[39mazure\u001b[39;00m\u001b[39m.\u001b[39;00m\u001b[39mquantum\u001b[39;00m\u001b[39m.\u001b[39;00m\u001b[39mtarget\u001b[39;00m\u001b[39m.\u001b[39;00m\u001b[39mionq\u001b[39;00m \u001b[39mimport\u001b[39;00m IonQ\n\u001b[0;32m      8\u001b[0m \u001b[39mfrom\u001b[39;00m \u001b[39mabc\u001b[39;00m \u001b[39mimport\u001b[39;00m abstractmethod\n\u001b[1;32m---> 10\u001b[0m \u001b[39mfrom\u001b[39;00m \u001b[39m.\u001b[39;00m\u001b[39mbackend\u001b[39;00m \u001b[39mimport\u001b[39;00m AzureBackend, AzureQirBackend\n\u001b[0;32m     12\u001b[0m \u001b[39mfrom\u001b[39;00m \u001b[39mqiskit\u001b[39;00m\u001b[39m.\u001b[39;00m\u001b[39mproviders\u001b[39;00m\u001b[39m.\u001b[39;00m\u001b[39mmodels\u001b[39;00m \u001b[39mimport\u001b[39;00m BackendConfiguration\n\u001b[0;32m     13\u001b[0m \u001b[39mfrom\u001b[39;00m \u001b[39mqiskit\u001b[39;00m\u001b[39m.\u001b[39;00m\u001b[39mproviders\u001b[39;00m \u001b[39mimport\u001b[39;00m Options, Provider\n",
      "File \u001b[1;32md:\\laragon\\bin\\python\\python-3.10\\lib\\site-packages\\azure\\quantum\\qiskit\\backends\\backend.py:34\u001b[0m\n\u001b[0;32m     31\u001b[0m     \u001b[39mfrom\u001b[39;00m \u001b[39mqiskit_qir\u001b[39;00m \u001b[39mimport\u001b[39;00m to_qir_module\n\u001b[0;32m     33\u001b[0m \u001b[39mexcept\u001b[39;00m \u001b[39mImportError\u001b[39;00m:\n\u001b[1;32m---> 34\u001b[0m     \u001b[39mraise\u001b[39;00m \u001b[39mImportError\u001b[39;00m(\n\u001b[0;32m     35\u001b[0m         \u001b[39m\"\u001b[39m\u001b[39mMissing optional \u001b[39m\u001b[39m'\u001b[39m\u001b[39mqiskit\u001b[39m\u001b[39m'\u001b[39m\u001b[39m dependencies. \u001b[39m\u001b[39m\\\u001b[39;00m\n\u001b[0;32m     36\u001b[0m \u001b[39mTo install run: pip install azure-quantum[qiskit]\u001b[39m\u001b[39m\"\u001b[39m\n\u001b[0;32m     37\u001b[0m     )\n\u001b[0;32m     40\u001b[0m \u001b[39mclass\u001b[39;00m \u001b[39mAzureBackendBase\u001b[39;00m(Backend, SessionHost):\n\u001b[0;32m     41\u001b[0m     \u001b[39m@abstractmethod\u001b[39m\n\u001b[0;32m     42\u001b[0m     \u001b[39mdef\u001b[39;00m \u001b[39m__init__\u001b[39m(\n\u001b[0;32m     43\u001b[0m         \u001b[39mself\u001b[39m,\n\u001b[1;32m   (...)\u001b[0m\n\u001b[0;32m     46\u001b[0m         \u001b[39m*\u001b[39m\u001b[39m*\u001b[39mfields\n\u001b[0;32m     47\u001b[0m     ):\n",
      "\u001b[1;31mImportError\u001b[0m: Missing optional 'qiskit' dependencies. To install run: pip install azure-quantum[qiskit]"
     ]
    }
   ],
   "source": [
    "%matplotlib notebook\n",
    "\n",
    "# Import external libraries to present an manipulate the data\n",
    "import numpy as np\n",
    "import matplotlib.pyplot as plt\n",
    "import pandas as pd\n",
    "\n",
    "# Import docplex model to generate the problem to optimize\n",
    "from docplex.mp.model import Model\n",
    "\n",
    "# Import the libraries needed to employ the QAOA quantum algorithm using OpenQAOA\n",
    "from openqaoa import QAOA\n",
    "\n",
    "# method to covnert a docplex model to a qubo problem\n",
    "from openqaoa.problems.converters import FromDocplex2IsingModel #check this method and properties\n",
    "from openqaoa.backends import create_device\n",
    "\n",
    "# method to find the correct states for the QAOA object \n",
    "from openqaoa.utilities import ground_state_hamiltonian"
   ]
  },
  {
   "cell_type": "code",
   "execution_count": null,
   "metadata": {},
   "outputs": [],
   "source": [
    "# Datos del problema de Prueba\n",
    "\n"
   ]
  },
  {
   "cell_type": "code",
   "execution_count": null,
   "metadata": {},
   "outputs": [],
   "source": [
    "def Problem(values, weights, max_weight):\n",
    "    \n",
    "    # initialize a model\n",
    "    mdl = Model(name=\"Knaspack\")\n",
    "    # indicate the binary variables \n",
    "    x = {i: mdl.binary_var(name=f\"x_{i}\") for i in range(len(values))}  \n",
    "    # define the objective function\n",
    "    mdl.minimize(mdl.sum(values[i] * x[i] for i in x))    \n",
    "    # add the constraints\n",
    "    mdl.add_constraint(mdl.sum(weights[i] * x[i] for i in x) <= max_weight)\n",
    "    return  FromDocplex2IsingModel(mdl)"
   ]
  },
  {
   "cell_type": "code",
   "execution_count": null,
   "metadata": {},
   "outputs": [],
   "source": [
    "problem =  Problem(values, weights, max_weight)\n",
    "\n",
    "# Ising encoding of the QUBO problem for binpacking problem\n",
    "qubo = problem.ising_model\n",
    "\n",
    "# Docplex encoding of the QUBO problem for binpacking problem\n",
    "mdl_qubo_docplex = problem.qubo_docplex\n",
    "\n",
    "mdl_qubo_docplex.prettyprint()"
   ]
  },
  {
   "cell_type": "code",
   "execution_count": null,
   "metadata": {},
   "outputs": [],
   "source": [
    "def funcionesQAOA(device,tipo,ham):\n",
    "    qaoa = QAOA()\n",
    "    qaoa.set_device(device)\n",
    "\n",
    "    # Set the parameters to use the QAOA algorithm\n",
    "    qaoa.set_backend_properties(n_shots=1024, seed_simulator=1)\n",
    "    qaoa.set_circuit_properties(p=1, param_type='standard', init_type=tipo, mixer_hamiltonian=ham)\n",
    "\n",
    "    qaoa.compile(qubo)\n",
    "\n",
    "    # Run the QAOA algorithm\n",
    "    qaoa.optimize()\n",
    "    return qaoa.result"
   ]
  },
  {
   "cell_type": "code",
   "execution_count": null,
   "metadata": {},
   "outputs": [],
   "source": [
    "# Initialize the QAOA object and use a device\n",
    "tipos = ['rand','ramp']\n",
    "ham = ['xy','x']\n",
    "dispositivos = ['qiskit.statevector_simulator','qiskit.qasm_simulator']\n",
    "for k in dispositivos:\n",
    "    for i in tipos:\n",
    "        for j in ham:\n",
    "            device = create_device(\"local\", k)\n",
    "            results_sv = funcionesQAOA(device,i,j)\n",
    "            print(\"Dispositivo: \",k, \" Tipo: \",i, \" Mixer: \",j)\n",
    "            print(pd.DataFrame(results_sv.lowest_cost_bitstrings(5)))"
   ]
  },
  {
   "cell_type": "code",
   "execution_count": null,
   "metadata": {},
   "outputs": [],
   "source": [
    "correct_solution = ground_state_hamiltonian(qaoa.cost_hamil)\n",
    "print(correct_solution)"
   ]
  }
 ],
 "metadata": {
  "kernelspec": {
   "display_name": "Python 3",
   "language": "python",
   "name": "python3"
  },
  "language_info": {
   "codemirror_mode": {
    "name": "ipython",
    "version": 3
   },
   "file_extension": ".py",
   "mimetype": "text/x-python",
   "name": "python",
   "nbconvert_exporter": "python",
   "pygments_lexer": "ipython3",
   "version": "3.10.6"
  }
 },
 "nbformat": 4,
 "nbformat_minor": 2
}
