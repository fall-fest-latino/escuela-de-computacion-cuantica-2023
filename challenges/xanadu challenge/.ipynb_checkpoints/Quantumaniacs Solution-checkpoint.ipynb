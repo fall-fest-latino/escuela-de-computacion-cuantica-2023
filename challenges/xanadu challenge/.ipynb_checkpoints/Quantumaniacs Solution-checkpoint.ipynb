{
 "cells": [
  {
   "cell_type": "code",
   "execution_count": 1,
   "id": "7e70cf91",
   "metadata": {},
   "outputs": [],
   "source": [
    "### DO NOT CHANGE ANYTHING BELOW THIS LINE\n",
    "\n",
    "import pennylane as qml\n",
    "from pennylane import numpy as np\n",
    "\n",
    "WIRES = 2\n",
    "LAYERS = 5\n",
    "NUM_PARAMETERS = LAYERS * WIRES * 3\n",
    "\n",
    "def variational_circuit(params,hamiltonian):\n",
    "    \"\"\"\n",
    "    This is a template variational quantum circuit containing a fixed layout of gates with variable\n",
    "    parameters. To be used as a QNode, it must either be wrapped with the @qml.qnode decorator or\n",
    "    converted using the qml.QNode function.\n",
    "\n",
    "    The output of this circuit is the expectation value of a Hamiltonian, somehow encoded in\n",
    "    the hamiltonian argument\n",
    "\n",
    "    Args:\n",
    "        - params (np.ndarray): An array of optimizable parameters of shape (30,)\n",
    "        - hamiltonian (np.ndarray): An array of real parameters encoding the Hamiltonian\n",
    "        whose expectation value is returned.\n",
    "    \n",
    "    Returns:\n",
    "        (float): The expectation value of the Hamiltonian\n",
    "    \"\"\"\n",
    "    parameters = params.reshape((LAYERS, WIRES, 3))\n",
    "    qml.templates.StronglyEntanglingLayers(parameters, wires=range(WIRES))\n",
    "    return qml.expval(qml.Hermitian(hamiltonian, wires = [0,1]))\n",
    "\n",
    "def optimize_circuit(hamiltonian):\n",
    "    \"\"\"Minimize the variational circuit and return its minimum value.\n",
    "    You should create a device and convert the variational_circuit function \n",
    "    into an executable QNode. \n",
    "    Next, you should minimize the variational circuit using gradient-based \n",
    "    optimization to update the input params. \n",
    "    Return the optimized value of the QNode as a single floating-point number.\n",
    "\n",
    "    Args:\n",
    "        - params (np.ndarray): Input parameters to be optimized, of dimension 30\n",
    "        - hamiltonian (np.ndarray): An array of real parameters encoding the Hamiltonian\n",
    "        whose expectation value you should minimize.\n",
    "    Returns:\n",
    "        float: the value of the optimized QNode\n",
    "    \"\"\"\n",
    "        \n",
    "    hamiltonian = np.array(hamiltonian, requires_grad = False)\n",
    "\n",
    "    hamiltonian = np.array(hamiltonian,float).reshape((2 ** WIRES), (2 ** WIRES))\n",
    "\n",
    "    ### WRITE YOUR CODE BELOW THIS LINE\n",
    "    \n",
    "    ### Solution Template/Soluciones\n",
    "\n",
    "    dev = qml.device('default.qubit', wires=WIRES) # Initialize the device/Inicialización.\n",
    "\n",
    "    circuit = qml.QNode(variational_circuit, dev) # Instantiate the QNode from variational_circuit/Iniciar VQC.\n",
    "\n",
    "    # Write your code to minimize the circuit\n",
    "\n",
    "    # Initial guess for the parameters/Iniciamos los parametros de forma aleatoria.\n",
    "    params = np.random.rand(NUM_PARAMETERS)\n",
    "    \n",
    "    # Cost function that the optimization routine will minimize/Función de costo a ser optimizada.\n",
    "    def cost(params):\n",
    "        return circuit(params, hamiltonian)\n",
    "    \n",
    "    # Initialize the optimizer/Iniciar optimizador.\n",
    "    opt = qml.GradientDescentOptimizer(stepsize=0.38) # Descenso del gradiente.\n",
    "\n",
    "    # Set the number of optimization steps/Nuestro optimizador tomará 185 pasos.\n",
    "    steps = 185\n",
    "\n",
    "    # Optimization loop/Loop de optimización.\n",
    "    for i in range(steps):\n",
    "        params = opt.step(cost, params)\n",
    "\n",
    "    return cost(params) # Return the value of the minimized QNode/Mínimo."
   ]
  },
  {
   "cell_type": "code",
   "execution_count": 2,
   "id": "92e81486",
   "metadata": {},
   "outputs": [
    {
     "name": "stdout",
     "output_type": "stream",
     "text": [
      "Optimized Expectation Value: 0.617453410316887\n"
     ]
    }
   ],
   "source": [
    "# Test input:\n",
    "hamiltonian_test_input = [0.863327072347624, 0.0167108057202516, 0.07991447085492759, 0.0854049026262154, 0.0167108057202516, 0.8237963773906136, -0.07695947154193797, 0.03131548733285282, 0.07991447085492759, -0.07695947154193795, 0.8355417021014687, -0.11345916130631205, 0.08540490262621539, 0.03131548733285283, -0.11345916130631205, 0.758156886827099]\n",
    "\n",
    "# Run optimization/Corremos optimización.\n",
    "optimized_value = optimize_circuit(hamiltonian_test_input)\n",
    "print('Optimized Expectation Value:', optimized_value)"
   ]
  },
  {
   "cell_type": "code",
   "execution_count": 3,
   "id": "89907c19",
   "metadata": {},
   "outputs": [
    {
     "name": "stdout",
     "output_type": "stream",
     "text": [
      "Optimized Expectation Value: 0.0024648812008859953\n"
     ]
    }
   ],
   "source": [
    "# Test input 2:\n",
    "hamiltonian_test_input2 = [0.32158897156285354,-0.20689268438270836,0.12366748295758379,-0.11737425017261123,-0.20689268438270836,0.7747346055276305,-0.05159966365446514,0.08215539696259792,0.12366748295758379,-0.05159966365446514,0.5769050487087416,0.3853362904758938,-0.11737425017261123,0.08215539696259792,0.3853362904758938,0.3986256655167206]\n",
    "\n",
    "# Run optimization/Corremos optimización:\n",
    "optimized_value2 = optimize_circuit(hamiltonian_test_input2)\n",
    "print('Optimized Expectation Value:', optimized_value2)"
   ]
  },
  {
   "cell_type": "code",
   "execution_count": null,
   "id": "87462474",
   "metadata": {},
   "outputs": [],
   "source": []
  }
 ],
 "metadata": {
  "kernelspec": {
   "display_name": "Python 3 (ipykernel)",
   "language": "python",
   "name": "python3"
  },
  "language_info": {
   "codemirror_mode": {
    "name": "ipython",
    "version": 3
   },
   "file_extension": ".py",
   "mimetype": "text/x-python",
   "name": "python",
   "nbconvert_exporter": "python",
   "pygments_lexer": "ipython3",
   "version": "3.10.7"
  }
 },
 "nbformat": 4,
 "nbformat_minor": 5
}
