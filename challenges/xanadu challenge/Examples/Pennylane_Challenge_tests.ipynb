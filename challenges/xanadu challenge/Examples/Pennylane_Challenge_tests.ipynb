{
 "cells": [
  {
   "cell_type": "code",
   "execution_count": 2,
   "metadata": {},
   "outputs": [],
   "source": [
    "import pennylane as qml\n",
    "from pennylane import numpy as np"
   ]
  },
  {
   "cell_type": "code",
   "execution_count": 3,
   "metadata": {},
   "outputs": [],
   "source": [
    "WIRES = 2  # Número de hilos o qubits\n",
    "LAYERS = 5  # Número de capas en el circuito\n",
    "NUM_PARAMETERS = LAYERS * WIRES * 3  # Número total de parámetros en el circuito"
   ]
  },
  {
   "cell_type": "code",
   "execution_count": 4,
   "metadata": {},
   "outputs": [],
   "source": [
    "# Definiendo el circuito cuántico variacional dado por Pennylane\n",
    "def variational_circuit(params, hamiltonian):\n",
    "    # Reestructurando los parámetros para que coincidan con el número de capas y qubits\n",
    "    parameters = params.reshape((LAYERS, WIRES, 3))\n",
    "    # Aplicando capas de entrelazamiento fuerte (StronglyEntanglingLayers) al circuito\n",
    "    qml.templates.StronglyEntanglingLayers(parameters, wires=range(WIRES))\n",
    "    # Retornando el valor esperado del hamiltoniano\n",
    "    return qml.expval(qml.Hermitian(hamiltonian, wires=[0, 1]))"
   ]
  },
  {
   "cell_type": "code",
   "execution_count": 5,
   "metadata": {},
   "outputs": [],
   "source": [
    "# Función para optimizar el circuito cuántico dado un hamiltoniano\n",
    "def optimize_circuit(hamiltonian):\n",
    "    # Convirtiendo el hamiltoniano en un array y asegurando que no requiere gradiente\n",
    "    hamiltonian = np.array(hamiltonian, requires_grad=False)\n",
    "    # Reestructurando el hamiltoniano para que tenga la forma adecuada (4x4 en este caso)\n",
    "    hamiltonian = np.array(hamiltonian, float).reshape((2 ** WIRES), (2 ** WIRES))\n",
    "    # Definiendo el dispositivo cuántico\n",
    "    dev = qml.device('default.qubit', wires=WIRES)\n",
    "    # Creando el nodo cuántico del circuito\n",
    "    circuit = qml.QNode(variational_circuit, dev)\n",
    "    # Inicializando parámetros aleatoriamente para el circuito\n",
    "    init_params = np.random.randn(NUM_PARAMETERS)\n",
    "    # Función de costo que queremos minimizar (valor esperado del hamiltoniano)\n",
    "    def cost(params):\n",
    "        return circuit(params, hamiltonian)\n",
    "    # Definiendo el optimizador (Descenso de Gradiente)\n",
    "    optimizer = qml.GradientDescentOptimizer(stepsize=0.4)\n",
    "    num_steps = 200  # Número de pasos de optimización\n",
    "    params = init_params  # Iniciando con los parámetros aleatorios\n",
    "    # Loop de optimización\n",
    "    for _ in range(num_steps):\n",
    "        params = optimizer.step(cost, params)\n",
    "    # Retornando el valor del costo optimizado\n",
    "    return cost(params)"
   ]
  },
  {
   "cell_type": "code",
   "execution_count": 6,
   "metadata": {},
   "outputs": [
    {
     "name": "stdout",
     "output_type": "stream",
     "text": [
      "Optimized expectation value: 0.6174534093371777\n"
     ]
    }
   ],
   "source": [
    "min_value = float('inf')\n",
    "# Definiendo un ejemplo de hamiltoniano\n",
    "hamiltonian_example = np.array(\n",
    "    [0.863327072347624,0.0167108057202516,0.07991447085492759,0.0854049026262154,\n",
    "     0.0167108057202516,0.8237963773906136,-0.07695947154193797,0.03131548733285282,\n",
    "     0.07991447085492759,-0.07695947154193795,0.8355417021014687,-0.11345916130631205,\n",
    "     0.08540490262621539,0.03131548733285283,-0.11345916130631205,0.758156886827099])\n",
    "# Optimiza el circuito con el hamiltoniano \n",
    "optimized_value = optimize_circuit(hamiltonian_example)\n",
    "print(\"Optimized expectation value:\", optimized_value)"
   ]
  },
  {
   "cell_type": "code",
   "execution_count": 7,
   "metadata": {},
   "outputs": [
    {
     "name": "stdout",
     "output_type": "stream",
     "text": [
      "Optimized expectation value: 0.0024648812008860738\n"
     ]
    }
   ],
   "source": [
    "min_value = float('inf')\n",
    "# Definiendo un ejemplo de hamiltoniano\n",
    "hamiltonian_example = np.array(\n",
    "    [0.32158897156285354,-0.20689268438270836,0.12366748295758379,-0.11737425017261123,\n",
    "     -0.20689268438270836,0.7747346055276305,-0.05159966365446514,0.08215539696259792,\n",
    "     0.12366748295758379,-0.05159966365446514,0.5769050487087416,0.3853362904758938,\n",
    "     -0.11737425017261123,0.08215539696259792,0.3853362904758938,0.3986256655167206])\n",
    "# Optimiza el circuito con el hamiltoniano \n",
    "optimized_value = optimize_circuit(hamiltonian_example)\n",
    "print(\"Optimized expectation value:\", optimized_value)"
   ]
  }
 ],
 "metadata": {
  "kernelspec": {
   "display_name": "Python 3",
   "language": "python",
   "name": "python3"
  },
  "language_info": {
   "codemirror_mode": {
    "name": "ipython",
    "version": 3
   },
   "file_extension": ".py",
   "mimetype": "text/x-python",
   "name": "python",
   "nbconvert_exporter": "python",
   "pygments_lexer": "ipython3",
   "version": "3.11.2"
  }
 },
 "nbformat": 4,
 "nbformat_minor": 2
}
