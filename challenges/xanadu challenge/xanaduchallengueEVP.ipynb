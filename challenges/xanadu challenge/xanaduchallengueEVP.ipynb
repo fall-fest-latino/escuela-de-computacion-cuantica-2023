{
  "nbformat": 4,
  "nbformat_minor": 0,
  "metadata": {
    "colab": {
      "provenance": []
    },
    "kernelspec": {
      "name": "python3",
      "display_name": "Python 3"
    },
    "language_info": {
      "name": "python"
    }
  },
  "cells": [
    {
      "cell_type": "code",
      "execution_count": 1,
      "metadata": {
        "colab": {
          "base_uri": "https://localhost:8080/"
        },
        "id": "AcQGeyjFffvv",
        "outputId": "2e8c4037-6cab-4fb7-bd3d-2c846539fcb9"
      },
      "outputs": [
        {
          "output_type": "stream",
          "name": "stdout",
          "text": [
            "Collecting pennylane\n",
            "  Downloading PennyLane-0.33.1-py3-none-any.whl (1.5 MB)\n",
            "\u001b[2K     \u001b[90m━━━━━━━━━━━━━━━━━━━━━━━━━━━━━━━━━━━━━━━━\u001b[0m \u001b[32m1.5/1.5 MB\u001b[0m \u001b[31m20.8 MB/s\u001b[0m eta \u001b[36m0:00:00\u001b[0m\n",
            "\u001b[?25hRequirement already satisfied: numpy in /usr/local/lib/python3.10/dist-packages (from pennylane) (1.23.5)\n",
            "Requirement already satisfied: scipy in /usr/local/lib/python3.10/dist-packages (from pennylane) (1.11.3)\n",
            "Requirement already satisfied: networkx in /usr/local/lib/python3.10/dist-packages (from pennylane) (3.2.1)\n",
            "Collecting rustworkx (from pennylane)\n",
            "  Downloading rustworkx-0.13.2-cp310-cp310-manylinux_2_17_x86_64.manylinux2014_x86_64.whl (2.0 MB)\n",
            "\u001b[2K     \u001b[90m━━━━━━━━━━━━━━━━━━━━━━━━━━━━━━━━━━━━━━━━\u001b[0m \u001b[32m2.0/2.0 MB\u001b[0m \u001b[31m51.2 MB/s\u001b[0m eta \u001b[36m0:00:00\u001b[0m\n",
            "\u001b[?25hRequirement already satisfied: autograd in /usr/local/lib/python3.10/dist-packages (from pennylane) (1.6.2)\n",
            "Requirement already satisfied: toml in /usr/local/lib/python3.10/dist-packages (from pennylane) (0.10.2)\n",
            "Requirement already satisfied: appdirs in /usr/local/lib/python3.10/dist-packages (from pennylane) (1.4.4)\n",
            "Collecting semantic-version>=2.7 (from pennylane)\n",
            "  Downloading semantic_version-2.10.0-py2.py3-none-any.whl (15 kB)\n",
            "Collecting autoray>=0.6.1 (from pennylane)\n",
            "  Downloading autoray-0.6.7-py3-none-any.whl (49 kB)\n",
            "\u001b[2K     \u001b[90m━━━━━━━━━━━━━━━━━━━━━━━━━━━━━━━━━━━━━━━━\u001b[0m \u001b[32m49.9/49.9 kB\u001b[0m \u001b[31m7.6 MB/s\u001b[0m eta \u001b[36m0:00:00\u001b[0m\n",
            "\u001b[?25hRequirement already satisfied: cachetools in /usr/local/lib/python3.10/dist-packages (from pennylane) (5.3.2)\n",
            "Collecting pennylane-lightning>=0.33 (from pennylane)\n",
            "  Downloading PennyLane_Lightning-0.33.1-cp310-cp310-manylinux_2_17_x86_64.manylinux2014_x86_64.whl (14.0 MB)\n",
            "\u001b[2K     \u001b[90m━━━━━━━━━━━━━━━━━━━━━━━━━━━━━━━━━━━━━━━━\u001b[0m \u001b[32m14.0/14.0 MB\u001b[0m \u001b[31m88.6 MB/s\u001b[0m eta \u001b[36m0:00:00\u001b[0m\n",
            "\u001b[?25hRequirement already satisfied: requests in /usr/local/lib/python3.10/dist-packages (from pennylane) (2.31.0)\n",
            "Requirement already satisfied: typing-extensions in /usr/local/lib/python3.10/dist-packages (from pennylane) (4.5.0)\n",
            "Requirement already satisfied: future>=0.15.2 in /usr/local/lib/python3.10/dist-packages (from autograd->pennylane) (0.18.3)\n",
            "Requirement already satisfied: charset-normalizer<4,>=2 in /usr/local/lib/python3.10/dist-packages (from requests->pennylane) (3.3.2)\n",
            "Requirement already satisfied: idna<4,>=2.5 in /usr/local/lib/python3.10/dist-packages (from requests->pennylane) (3.4)\n",
            "Requirement already satisfied: urllib3<3,>=1.21.1 in /usr/local/lib/python3.10/dist-packages (from requests->pennylane) (2.0.7)\n",
            "Requirement already satisfied: certifi>=2017.4.17 in /usr/local/lib/python3.10/dist-packages (from requests->pennylane) (2023.7.22)\n",
            "Installing collected packages: semantic-version, rustworkx, autoray, pennylane-lightning, pennylane\n",
            "Successfully installed autoray-0.6.7 pennylane-0.33.1 pennylane-lightning-0.33.1 rustworkx-0.13.2 semantic-version-2.10.0\n"
          ]
        }
      ],
      "source": [
        "pip install pennylane --upgrade"
      ]
    },
    {
      "cell_type": "code",
      "source": [
        "import pennylane as qml\n",
        "from pennylane import numpy as np\n",
        "WIRES = 2\n",
        "LAYERS = 5\n",
        "NUM_PARAMETERS = LAYERS * WIRES * 3\n",
        "#params 1 es los parametros dados por el sistema osea los parametros del hamiltoniano\n",
        "params1=np.array([0.863327072347624,0.0167108057202516,0.07991447085492759,0.0854049026262154,0.0167108057202516,0.8237963773906136,-0.07695947154193797,0.03131548733285282,0.07991447085492759,-0.07695947154193795,0.8355417021014687,-0.11345916130631205,0.08540490262621539,0.03131548733285283,-0.11345916130631205,0.758156886827099])\n",
        "print(\"ARRAY OF hamiltonian parameters:   \",params1)\n",
        "hsquare= np.reshape(params1,(4,4)) #hacemos cuadratico el  hamiltoniano para utilizarlo en el circuito variacional\n",
        "print(hsquare)\n",
        "hsq2=np.array(params1,float).reshape((2 ** WIRES), (2 ** WIRES)) #usando el comando dado por el book del desafiro /reshaping quadratic our hamiltonian\n",
        "print(hsq2)\n",
        "print(\"ESTE ES EL HAMIILTONIANO DADO\")\n",
        "paramsopt = np.random.random(30)\n",
        "print(paramsopt)\n",
        "print(\"ESTOS SON LOS PRIMEROS VALORES DE LOS PARAMETROS A OPTIMIZAR // THIS BE THE FIRST SET OF OPTIMIZABLE PARAMETERS\")\n",
        "\n",
        "dev = qml.device(\"default.qubit\", wires = WIRES)\n",
        "params=paramsopt\n",
        "hamiltonian=hsq2\n",
        "@qml.qnode(dev)\n",
        "def variational_circuit(params,hamiltonian):\n",
        "    \"\"\"\n",
        "    This is a template variational quantum circuit containing a fixed layout of gates with variable\n",
        "    parameters. To be used as a QNode, it must either be wrapped with the @qml.qnode decorator or\n",
        "    converted using the qml.QNode function.\n",
        "\n",
        "    The output of this circuit is the expectation value of a Hamiltonian, somehow encoded in\n",
        "    the hamiltonian argument\n",
        "\n",
        "    Args:\n",
        "        - params (np.ndarray): An array of optimizable parameters of shape (30,)\n",
        "        - hamiltonian (np.ndarray): An array of real parameters encoding the Hamiltonian\n",
        "        whose expectation value is returned.\n",
        "\n",
        "    Returns:\n",
        "        (float): The expectation value of the Hamiltonian\n",
        "    \"\"\"\n",
        "    parameters = params.reshape((LAYERS, WIRES, 3))\n",
        "    qml.templates.StronglyEntanglingLayers(parameters, wires=range(WIRES))\n",
        "    return qml.expval(qml.Hermitian(hsq2, wires = [0,1]))\n",
        "params=paramsopt\n",
        "hamiltonian=hsq2\n",
        "print(qml.draw_mpl(variational_circuit)(paramsopt,hsq2))\n"
      ],
      "metadata": {
        "colab": {
          "base_uri": "https://localhost:8080/",
          "height": 719
        },
        "id": "nD8qKB-1ghid",
        "outputId": "11f4325e-2c93-48d9-9668-f43bac6a49a1"
      },
      "execution_count": 2,
      "outputs": [
        {
          "output_type": "stream",
          "name": "stdout",
          "text": [
            "ARRAY OF hamiltonian parameters:    [ 0.86332707  0.01671081  0.07991447  0.0854049   0.01671081  0.82379638\n",
            " -0.07695947  0.03131549  0.07991447 -0.07695947  0.8355417  -0.11345916\n",
            "  0.0854049   0.03131549 -0.11345916  0.75815689]\n",
            "[[ 0.86332707  0.01671081  0.07991447  0.0854049 ]\n",
            " [ 0.01671081  0.82379638 -0.07695947  0.03131549]\n",
            " [ 0.07991447 -0.07695947  0.8355417  -0.11345916]\n",
            " [ 0.0854049   0.03131549 -0.11345916  0.75815689]]\n",
            "[[ 0.86332707  0.01671081  0.07991447  0.0854049 ]\n",
            " [ 0.01671081  0.82379638 -0.07695947  0.03131549]\n",
            " [ 0.07991447 -0.07695947  0.8355417  -0.11345916]\n",
            " [ 0.0854049   0.03131549 -0.11345916  0.75815689]]\n",
            "ESTE ES EL HAMIILTONIANO DADO\n",
            "[1.68629718e-01 2.71806998e-01 6.72614097e-01 3.77401797e-01\n",
            " 9.45486432e-01 5.91174774e-01 2.92381801e-01 6.19368973e-01\n",
            " 6.77119960e-01 7.38652930e-01 2.53289090e-01 9.26035535e-01\n",
            " 2.79326411e-01 2.47286122e-01 5.22522347e-01 7.71139698e-01\n",
            " 4.14999558e-01 9.17683591e-01 4.28843477e-01 8.49627994e-02\n",
            " 9.99834217e-01 4.35911366e-01 7.41952509e-01 9.22272751e-01\n",
            " 1.13426782e-04 4.43982681e-01 9.29580611e-01 5.25259290e-01\n",
            " 9.13121691e-01 5.31580797e-01]\n",
            "ESTOS SON LOS PRIMEROS VALORES DE LOS PARAMETROS A OPTIMIZAR // THIS BE THE FIRST SET OF OPTIMIZABLE PARAMETERS\n",
            "(<Figure size 400x300 with 1 Axes>, <Axes: >)\n"
          ]
        },
        {
          "output_type": "display_data",
          "data": {
            "text/plain": [
              "<Figure size 400x300 with 1 Axes>"
            ],
            "image/png": "[encoded data removed]"
          },
          "metadata": {}
        }
      ]
    },
    {
      "cell_type": "code",
      "source": [
        "variational_circuit(paramsopt,hsq2)"
      ],
      "metadata": {
        "colab": {
          "base_uri": "https://localhost:8080/"
        },
        "id": "0MM_iPNrha5H",
        "outputId": "2d42d017-28ea-451e-f176-ba6a10e27862"
      },
      "execution_count": 3,
      "outputs": [
        {
          "output_type": "execute_result",
          "data": {
            "text/plain": [
              "tensor(0.88386272, requires_grad=True)"
            ]
          },
          "metadata": {},
          "execution_count": 3
        }
      ]
    },
    {
      "cell_type": "code",
      "source": [
        "opt=qml.GradientDescentOptimizer(stepsize=0.2)"
      ],
      "metadata": {
        "id": "9F0pvlbPhcPn"
      },
      "execution_count": 4,
      "outputs": []
    },
    {
      "cell_type": "code",
      "source": [
        "for it in range(20):\n",
        "  (paramsopt,hsq2)=opt.step(variational_circuit,paramsopt,hsq2)\n",
        "  print(\"step:  \",it+1,\"VARIATIONAL CIRCUIT MINIMIZE :  \",variational_circuit(paramsopt,hsq2),\"parametros optimizados// optimized parameter:  \",paramsopt)\n",
        "print(\"final value of minimized Qnode:    \",variational_circuit(paramsopt,hsq2))"
      ],
      "metadata": {
        "colab": {
          "base_uri": "https://localhost:8080/"
        },
        "id": "siDIXWZuhiWf",
        "outputId": "7c93558e-2da9-4f16-d0ab-de0c5bcfae30"
      },
      "execution_count": 5,
      "outputs": [
        {
          "output_type": "stream",
          "name": "stdout",
          "text": [
            "step:   1 VARIATIONAL CIRCUIT MINIMIZE :   0.8769865487014216 parametros optimizados// optimized parameter:   [ 0.16862972  0.28659666  0.67505678  0.3774018   0.94730013  0.58653788\n",
            "  0.2877449   0.61644638  0.67712106  0.73775356  0.24307504  0.92828052\n",
            "  0.28157139  0.23455322  0.52519272  0.77577109  0.42049714  0.92654731\n",
            "  0.43770719  0.10052903  1.00830664  0.43559141  0.74359364  0.91872474\n",
            " -0.00343458  0.44055174  0.92926868  0.52576954  0.9194797   0.54433176]\n",
            "step:   2 VARIATIONAL CIRCUIT MINIMIZE :   0.8691658015066206 parametros optimizados// optimized parameter:   [ 0.16862972  0.30285185  0.67769591  0.3774018   0.9492819   0.58187801\n",
            "  0.28308504  0.61305062  0.67731747  0.73713024  0.23262535  0.93096741\n",
            "  0.28425829  0.22107836  0.52832778  0.78082285  0.42640203  0.93602253\n",
            "  0.44718241  0.11724486  1.01728482  0.43530626  0.74542829  0.91505559\n",
            " -0.00710373  0.43710278  0.92915951  0.52618155  0.92599892  0.55794167]\n",
            "step:   3 VARIATIONAL CIRCUIT MINIMIZE :   0.8603447253072858 parametros optimizados// optimized parameter:   [ 0.16862972  0.3206099   0.68052949  0.3774018   0.95142673  0.57721904\n",
            "  0.27842607  0.60916453  0.67770394  0.73681241  0.22202278  0.9341056\n",
            "  0.28739647  0.20688741  0.53193109  0.78628493  0.43272533  0.94609225\n",
            "  0.45725214  0.13513166  1.02673882  0.43505301  0.74745509  0.91126964\n",
            " -0.01088968  0.43364452  0.92927604  0.52645792  0.93262889  0.57242167]\n",
            "step:   4 VARIATIONAL CIRCUIT MINIMIZE :   0.8504947734911059 parametros optimizados// optimized parameter:   [ 0.16862972  0.33988184  0.68354716  0.3774018   0.95372597  0.57258922\n",
            "  0.27379624  0.60477786  0.67826967  0.73682446  0.21136918  0.93769438\n",
            "  0.29098526  0.19202562  0.53599435  0.79213474  0.43947202  0.95672097\n",
            "  0.46788086  0.15419172  1.03662213  0.43482796  0.74967041  0.90737375\n",
            " -0.01478557  0.43018601  0.92963965  0.52655594  0.93930787  0.5877655 ]\n",
            "step:   5 VARIATIONAL CIRCUIT MINIMIZE :   0.8396247289557182 parametros optimizados// optimized parameter:   [ 0.16862972  0.3606454   0.68672802  0.3774018   0.95616713  0.56802072\n",
            "  0.26922775  0.59988943  0.6789978   0.73718265  0.20078474  0.94172034\n",
            "  0.29501121  0.17655983  0.54049492  0.79833508  0.44663905  0.96785172\n",
            "  0.47901161  0.17440376  1.04686994  0.43462689  0.75206812  0.90337777\n",
            " -0.01878156  0.42673659  0.9302689   0.52642846  0.94596353  0.60394549]\n",
            "step:   6 VARIATIONAL CIRCUIT MINIMIZE :   0.8277899421956643 parametros optimizados// optimized parameter:   [ 0.16862972  0.38283852  0.69003889  0.3774018   0.95873385  0.56354885\n",
            "  0.26475588  0.59450932  0.67986524  0.73789186  0.19040539  0.94615496\n",
            "  0.29944583  0.16057964  0.5453939   0.80483268  0.45421344  0.97940411\n",
            "  0.490564    0.19571862  1.05739839  0.43444553  0.75463943  0.89929494\n",
            " -0.02286439  0.42330602  0.93117809  0.5260255   0.95251477  0.62090901]\n",
            "step:   7 VARIATIONAL CIRCUIT MINIMIZE :   0.8150987205755934 parametros optimizados// optimized parameter:   [ 0.16862972  0.40635434  0.69343333  0.3774018   0.96140621  0.55921071\n",
            "  0.26041774  0.58866069  0.68084308  0.73894262  0.18037816  0.95095311\n",
            "  0.30424399  0.14419717  0.55063512  0.81155779  0.46217072  0.99127384\n",
            "  0.50243373  0.21805598  1.06810527  0.43428017  0.75737288  0.89514222\n",
            " -0.02701711  0.41990447  0.93237576  0.52529665  0.95887478  0.63857604]\n",
            "step:   8 VARIATIONAL CIRCUIT MINIMIZE :   0.8017137172084049 parametros optimizados// optimized parameter:   [ 0.16862972  0.43103885  0.6968518   0.3774018   0.96416135  0.55504345\n",
            "  0.25625047  0.5823811   0.68189752  0.74030906  0.17085448  0.95605279\n",
            "  0.30934366  0.12754477  0.55614574  0.81842526  0.47047399  1.00333437\n",
            "  0.51449425  0.24130285  1.07887251  0.43412824  0.7602544   0.89094032\n",
            " -0.031219    0.41654272  0.93386331  0.52419424  0.96495536  0.65683849]\n",
            "step:   9 VARIATIONAL CIRCUIT MINIMIZE :   0.7878465921017133 parametros optimizados// optimized parameter:   [ 0.16862972  0.4566922   0.70022355  0.3774018   0.9669745   0.55108219\n",
            "  0.25228922  0.57572279  0.68299151  0.74194825  0.16198172  0.96137652\n",
            "  0.3146674   0.11077071  0.56183863  0.82533734  0.47907382  1.01544113\n",
            "  0.52660102  0.26531424  1.08957066  0.43398888  0.76326751  0.88671344\n",
            " -0.03544588  0.41323215  0.93563391  0.52267701  0.97067216  0.67556194]\n",
            "step:   10 VARIATIONAL CIRCUIT MINIMIZE :   0.7737453822341721 parametros optimizados// optimized parameter:   [ 0.16862972  0.48307442  0.70347027  0.3774018   0.96982014  0.54735793\n",
            "  0.24856496  0.56875178  0.68408687  0.74380167  0.15389384  0.96683486\n",
            "  0.32012574  0.0940327   0.5676167   0.83218823  0.4879094   1.02743831\n",
            "  0.5385982   0.28991678  1.10006513  0.43386329  0.76639356  0.88248851\n",
            " -0.03967081  0.40998479  0.9376719   0.52071393  0.97595032  0.69458995]\n",
            "step:   11 VARIATIONAL CIRCUIT MINIMIZE :   0.7596757416803803 parametros optimizados// optimized parameter:   [ 0.16862972  0.50991556  0.70651123  0.3774018   0.97267334  0.54389551\n",
            "  0.24510253  0.56154555  0.68514665  0.74579865  0.1467023   0.97233153\n",
            "  0.32562241  0.07749001  0.57337886  0.83887018  0.49691082  1.03916766\n",
            "  0.55032755  0.31491504  1.11022385  0.43375474  0.76961208  0.87829408\n",
            " -0.04386525  0.40681307  0.9399528   0.51828755  0.98072972  0.713751  ]\n",
            "step:   12 VARIATIONAL CIRCUIT MINIMIZE :   0.7458989582716238 parametros optimizados// optimized parameter:   [ 0.16862972  0.53692924  0.70926956  0.3774018   0.97551096  0.54071215\n",
            "  0.24191918  0.55418955  0.68613752  0.74786174  0.14048863  0.97776985\n",
            "  0.33106073  0.06129494  0.57902688  0.84528025  0.50600245  1.05047839\n",
            "  0.56163827  0.34010023  1.1199251   0.43366825  0.77290109  0.8741588\n",
            " -0.04800053  0.40372948  0.94244407  0.51539642  0.98496909  0.73286722]\n",
            "step:   13 VARIATIONAL CIRCUIT MINIMIZE :   0.7326507062853396 parametros optimizados// optimized parameter:   [ 0.16862972  0.56382816  0.71167845  0.3774018   0.9783126   0.5378167\n",
            "  0.23902373  0.54677283  0.6870317   0.74991309  0.13529968  0.9830595\n",
            "  0.33635037  0.04558482  0.58447215  0.85132688  0.51510694  1.06123669\n",
            "  0.57239657  0.3652602   1.12906482  0.4336099   0.77623752  0.87010983\n",
            " -0.0520495   0.40074601  0.94510658  0.51205594  0.98864817  0.75176399]\n",
            "step:   14 VARIATIONAL CIRCUIT MINIMIZE :   0.7201243461071428 parametros optimizados// optimized parameter:   [ 0.16862972  0.59033936  0.71368636  0.3774018   0.98106122  0.53520962\n",
            "  0.23641664  0.53938333  0.68780824  0.75188083  0.13114642  0.98812243\n",
            "  0.34141331  0.03047559  0.5896413   0.85693538  0.52414931  1.07133353\n",
            "  0.58249342  0.39018963  1.13756199  0.43358601  0.77959766  0.86617125\n",
            " -0.05598807  0.39787353  0.94789658  0.50829763  0.99176782  0.77027893]\n",
            "step:   15 VARIATIONAL CIRCUIT MINIMIZE :   0.7084612545946585 parametros optimizados// optimized parameter:   [ 0.16862972  0.61621719  0.7152605   0.3774018   0.98374329  0.53288374\n",
            "  0.23409077  0.53210355  0.68845352  0.75370446  0.128006    0.9928973\n",
            "  0.34618818  0.01605775  0.59447981  0.86205136  0.53306061  1.08068966\n",
            "  0.59184955  0.41469895  1.14536171  0.43360218  0.78295762  0.86236288\n",
            " -0.05979644  0.3951212   0.95076799  0.50416686  0.99434793  0.78826932]\n",
            "step:   16 VARIATIONAL CIRCUIT MINIMIZE :   0.6977487332535949 parametros optimizados// optimized parameter:   [ 0.16862972  0.64125278  0.71638798  0.3774018   0.9863487   0.53082565\n",
            "  0.23203268  0.52500702  0.68896101  0.7553383   0.12582676  0.99734158\n",
            "  0.35063246  0.00239493  0.5989534   0.86664203  0.54178065  1.08925728\n",
            "  0.60041717  0.43862122  1.15243554  0.43366254  0.78629394  0.85869952\n",
            " -0.06345981  0.39249595  0.95367472  0.49971941  0.99642388  0.80561696]\n",
            "step:   17 VARIATIONAL CIRCUIT MINIMIZE :   0.6880242787183882 parametros optimizados// optimized parameter:   [ 0.16862972  0.66527905  0.7170748   0.3774018   0.98887034  0.52901724\n",
            "  0.23022427  0.51815594  0.68933036  0.756753    0.12453493  1.00143162\n",
            "  0.3547225  -0.01047524  0.60304716  0.87069529  0.55025965  1.09701869\n",
            "  0.60817857  0.46181643  1.15877962  0.43376926  0.78958415  0.85519076\n",
            " -0.06696856  0.39000222  0.95657281  0.49501755  0.99804215  0.82223048]\n",
            "step:   18 VARIATIONAL CIRCUIT MINIMIZE :   0.6792839795403741 parametros optimizados// optimized parameter:   [ 0.16862972  0.68817182  0.71734318  0.3774018   0.99130368  0.52743743\n",
            "  0.22864446  0.51159995  0.68956621  0.75793491  0.12404189  1.00516085\n",
            "  0.35845173 -0.02253826  0.606763    0.87421722  0.55845886  1.10398254\n",
            "  0.61514242  0.48417323  1.16441099  0.43392233  0.79280736  0.85184131\n",
            " -0.07031801  0.3876419   0.95942211  0.49012603  0.99925571  0.83804518]\n",
            "step:   19 VARIATIONAL CIRCUIT MINIMIZE :   0.6714926522169313 parametros optimizados// optimized parameter:   [ 0.16862972  0.7098476   0.7172278   0.3774018   0.99364619  0.52606369\n",
            "  0.22727072  0.5053761   0.68967681  0.75888417  0.1242512   1.00853681\n",
            "  0.36182769 -0.03379898  0.61011615  0.87722853  0.56635016  1.11017864\n",
            "  0.62133852  0.50560852  1.16936307  0.43411963  0.79594473  0.84865163\n",
            " -0.0735077   0.38541446  0.96218753  0.48510864  1.00011996  0.85302102]\n",
            "step:   20 VARIATIONAL CIRCUIT MINIMIZE :   0.6645938068269678 parametros optimizados// optimized parameter:   [ 0.16862972  0.7302592   0.71677176  0.3774018   0.99589693  0.52487326\n",
            "  0.22608029  0.49950955  0.68967276  0.75961181  0.12506453  1.01157763\n",
            "  0.36486851 -0.04427728  0.61313127  0.87976069  0.57391517  1.11565227\n",
            "  0.62681216  0.52606543  1.17368089  0.43435729  0.7989799   0.84561876\n",
            " -0.07654056  0.38331725  0.96483969  0.48002539  1.00068946  0.86713945]\n",
            "final value of minimized Qnode:     0.6645938068269678\n"
          ]
        }
      ]
    },
    {
      "cell_type": "code",
      "source": [
        "print(\"final value of minimized Qnode:    \",variational_circuit(paramsopt,hsq2))"
      ],
      "metadata": {
        "id": "sPMbWuToMoF0",
        "colab": {
          "base_uri": "https://localhost:8080/"
        },
        "outputId": "8e1b6224-0590-42b4-af64-bb4ecd2f0241"
      },
      "execution_count": 6,
      "outputs": [
        {
          "output_type": "stream",
          "name": "stdout",
          "text": [
            "final value of minimized Qnode:     0.6645938068269678\n"
          ]
        }
      ]
    }
  ]
}