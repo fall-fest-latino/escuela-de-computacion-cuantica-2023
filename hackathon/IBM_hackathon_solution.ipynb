{
  "nbformat": 4,
  "nbformat_minor": 0,
  "metadata": {
    "colab": {
      "provenance": []
    },
    "kernelspec": {
      "name": "python3",
      "display_name": "Python 3"
    },
    "language_info": {
      "name": "python"
    }
  },
  "cells": [
    {
      "cell_type": "markdown",
      "source": [
        "#IBM hackathon solution"
      ],
      "metadata": {
        "id": "SFKjskHe-Sbf"
      }
    },
    {
      "cell_type": "markdown",
      "source": [
        "Para este challenge tomamos el reto de Xanadu de la escuela de computación cuántica 2023 del Fall Fest Latino como inspiración para generar una solución análoga en Qiskit.\n",
        "\n",
        "En ese desafío, se proporciona un circuito cuántico variacional que depende de un conjunto de parámetros entrenables. El circuito genera un único número como valor esperado de una medición fija.\n",
        "\n",
        "El objetivo que nos propusimos fue encontrar el valor mínimo esperado que este circuito puede producir optimizando sus parámetros.\n",
        "Se obtuvieron valores satisfactorios con precisión de hasta 5 decimales.\n"
      ],
      "metadata": {
        "id": "MtEpte7-CrCK"
      }
    },
    {
      "cell_type": "code",
      "execution_count": null,
      "metadata": {
        "id": "OoHfFDGH-O5A"
      },
      "outputs": [],
      "source": [
        "# Importación de módulos y clases necesarios de Qiskit y NumPy\n",
        "from qiskit.algorithms.minimum_eigensolvers import VQE\n",
        "from qiskit.algorithms.optimizers import SLSQP\n",
        "from qiskit.circuit.library import TwoLocal\n",
        "from qiskit.quantum_info import SparsePauliOp\n",
        "from qiskit.primitives import Estimator\n",
        "from qiskit.quantum_info.operators import Operator, Pauli\n",
        "from qiskit.circuit.library import TwoLocal\n",
        "import numpy as np"
      ]
    },
    {
      "cell_type": "code",
      "source": [
        "# Número de qubits o cables en el sistema cuántico\n",
        "WIRES = 2\n",
        "\n",
        "# Función para convertir una matriz en un operador cuántico\n",
        "def array_to_op(hamiltonian):\n",
        "    hamiltonian = np.array(hamiltonian)\n",
        "    hamiltonian = np.array(hamiltonian, float).reshape((2 ** WIRES), (2 ** WIRES))\n",
        "    return Operator(hamiltonian)\n",
        "\n",
        "# Definición de dos matrices que representan operadores cuánticos\n",
        "in1 = np.array([0.863327072347624, 0.0167108057202516, 0.07991447085492759, 0.0854049026262154,\n",
        "                0.0167108057202516, 0.8237963773906136, -0.07695947154193797, 0.03131548733285282,\n",
        "                0.07991447085492759, -0.07695947154193795, 0.8355417021014687, -0.11345916130631205,\n",
        "                0.08540490262621539, 0.03131548733285283, -0.11345916130631205, 0.758156886827099])\n",
        "\n",
        "in2 = np.array([0.32158897156285354, -0.20689268438270836, 0.12366748295758379, -0.11737425017261123,\n",
        "                -0.20689268438270836, 0.7747346055276305, -0.05159966365446514, 0.08215539696259792,\n",
        "                0.12366748295758379, -0.05159966365446514, 0.5769050487087416, 0.3853362904758938,\n",
        "                -0.11737425017261123, 0.08215539696259792, 0.3853362904758938, 0.3986256655167206])\n",
        "\n",
        "# Crear objetos Operator a partir de las matrices\n",
        "H1 = array_to_op(in1)\n",
        "H2 = array_to_op(in2)\n",
        "\n",
        "# Estimador cuántico para evaluar la energía\n",
        "estimator = Estimator()\n",
        "\n",
        "# Optimizador para el VQE (Simultaneous Perturbation Stochastic Approximation)\n",
        "optimizer = SLSQP(maxiter=140)\n",
        "\n",
        "# Ansatz (circuito cuántico variacional) para la función de onda\n",
        "ansatz = TwoLocal(WIRES, ['rx', 'ry', 'rz'], 'cz', reps=5, entanglement='linear')\n",
        "\n",
        "# Configuración del VQE con el estimador, el ansatz y el optimizador\n",
        "vqe = VQE(estimator, ansatz, optimizer)\n",
        "\n",
        "# Calcular el valor propio mínimo para H1\n",
        "result1 = vqe.compute_minimum_eigenvalue(operator=H1)\n",
        "eigenvalue1 = result1.eigenvalue\n",
        "print(\"Valor propio mínimo para H1: %.8f\" % eigenvalue1)\n",
        "\n",
        "# Calcular el valor propio mínimo para H2\n",
        "result2 = vqe.compute_minimum_eigenvalue(operator=H2)\n",
        "eigenvalue2 = result2.eigenvalue\n",
        "print(\"Valor propio mínimo para H2: %.8f\" % eigenvalue2)"
      ],
      "metadata": {
        "id": "MUYL9nJP-eBp"
      },
      "execution_count": null,
      "outputs": []
    }
  ]
}