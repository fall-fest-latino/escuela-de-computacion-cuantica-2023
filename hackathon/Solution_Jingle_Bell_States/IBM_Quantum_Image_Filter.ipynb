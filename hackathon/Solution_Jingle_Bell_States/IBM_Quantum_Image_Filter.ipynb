{
  "cells": [
    {
      "cell_type": "markdown",
      "metadata": {
        "id": "view-in-github",
        "colab_type": "text"
      },
      "source": [
        "<a href=\"https://colab.research.google.com/github/MiguelAngel-ht/escuela-de-computacion-cuantica-2023/blob/main/hackathon/Solution_Jingle_Bell_States/IBM_Quantum_Image_Filter.ipynb\" target=\"_parent\"><img src=\"https://colab.research.google.com/assets/colab-badge.svg\" alt=\"Open In Colab\"/></a>"
      ]
    },
    {
      "cell_type": "markdown",
      "metadata": {
        "id": "eo2pFJgPLMrC"
      },
      "source": [
        "⚪\n",
        "\n",
        "---\n",
        "---\n",
        "# **⚛️— — — — — Quantum Image Filtering — — — — —⚛️**\n",
        "---\n",
        "---\n",
        "\n",
        "⚪\n",
        "\n"
      ]
    },
    {
      "cell_type": "markdown",
      "source": [
        "# Quantum Circuits for Random Number Generation and Image Modification\n",
        "\n",
        "In this notebook, we implement two types of quantum circuits to generate random numbers and use them to modify images in different ways.\n",
        "\n",
        "We have designed two processes/methodologies to build our quantum circuits depending on the problem at hand. The problems in question are:\n",
        "\n",
        "- **Black/White Images**\n",
        "- **Grayscale Images**"
      ],
      "metadata": {
        "id": "sQRj0Xgyy5fT"
      }
    },
    {
      "cell_type": "markdown",
      "source": [
        "## Black/White Images\n",
        "\n",
        "In black/white images, pixels can only have two values: 0 (black) or 255 (white). For such images, we decided that each pixel in the image would correspond to a qubit in a quantum circuit. Upon measurement, this qubit will collapse to 0 or 1 with a probability that the user can control. Depending on the outcome, the effect on the pixel is as follows:\n",
        "\n",
        "- Collapses to 0: The corresponding pixel remains unchanged.\n",
        "- Collapses to 1: The corresponding pixel switches from white to black or vice versa.\n",
        "\n",
        "The user can control the following parameters:\n",
        "\n",
        "- **Input Image:** The user can upload and select the image on which to apply the filter. We recommend using 512x512 images for best results.\n",
        "- **Threshold:** The image chosen by the user might not always be in Black/White style. In such cases, the user can control the threshold value for converting the image.\n",
        "- **Probability/Noise:** This is a value between 0 - 1 that indicates the probability of each pixel to change (in other words, the qubits collapsing to 1). This is done by adding an RY gate, mapping the user-entered value to a phase in the range of -π/2 to π/2.\n",
        "- **Modify:** This parameter indicates where in the image the pixel changes are made. The user can control whether the modification occurs on white pixels, black pixels, or all pixels.\n"
      ],
      "metadata": {
        "id": "O5uuNC0VBb7V"
      }
    },
    {
      "cell_type": "markdown",
      "source": [
        "## Grayscale Images\n",
        "\n",
        "In grayscale images, pixels can have any value in the range from 0 (black) to 255 (white). For this case, we implemented a circuit that generates random numbers in a specific range [a, b), inspired by [[1]](https://doi.org/10.1140/epjqt/s40507-023-00174-1)\n",
        "\n",
        "Following a methodology similar to the \"filter\" technique in the field of digital image processing, we generate an ***nxn*** kernel that moves across the image and modifies it as follows:\n",
        "\n",
        "During each iteration, the kernel's center is positioned on an image pixel. The largest and smallest intensity values within the kernel's range are calculated. Based on this range of values, a circuit is automatically designed to generate random numbers within it. The result from measuring this circuit is assigned as the new value to the pixel at the kernel's center. This process is repeated until all the pixels in the image have been processed.\n",
        "\n",
        "This methodology has its limitations, as it generates and measures a quantum circuit for each image pixel. For a high-quality image (512x512 pixels), this means 262,144 circuits will be generated, implying substantial computational time. To address this, we have taken the following considerations:\n",
        "\n",
        "- **Image Resizing:** The user-uploaded image will be internally resized to a resolution of 128x128. The filter is applied to this resized image, and the output is then scaled back to the original image dimensions.\n",
        "- **Intensity Range Mapping:** To reduce the number of qubits needed to build the circuit, the original intensity range of 0 to 255 is mapped to a grayscale range of 0 to 31. Since humans do not perceive many shades of gray, this modification rarely alters our perception of the result.\n",
        "\n",
        "The user can control the following parameters:\n",
        "\n",
        "- **Input Image:** The user can upload and select the image to apply the filter.\n",
        "- **Kernel Size:** The user can choose from different kernel size configurations (e.g., 3x3, 5x5, etc.).\n",
        "- **Internal Resize Value:** We strongly recommend keeping this parameter set to the default of 128x128. Increasing it to 256x256 will aproximately quadruple the execution time (as the number of pixels also increases).\n",
        "\n"
      ],
      "metadata": {
        "id": "x81nlTLzB_SU"
      }
    },
    {
      "cell_type": "markdown",
      "source": [
        "## **Note for Grayscale Images:**\n",
        "\n",
        " Depending on the complexity of the image and the chosen internal resize setting, the code execution may take approximately:\n",
        "- **Resize 128x128:** About 3 to 6 minutes\n",
        "- **Resize 256x256:** About 12 to 24 minutes"
      ],
      "metadata": {
        "id": "DYwYNaJFDDdE"
      }
    },
    {
      "cell_type": "markdown",
      "source": [
        "## ⬇️ Install Qiskit and Import Libraries"
      ],
      "metadata": {
        "id": "K3Yt2r3KDKOL"
      }
    },
    {
      "cell_type": "code",
      "source": [
        "#@title ⬇️ *Install Qiskit*\n",
        "from google.colab import output     # clear output when is not necessary\n",
        "!pip install qiskit\n",
        "#!pip install qiskit-ibmq-provider    # Date: 2023 - Installing apart of 'qiskit'\n",
        "#!pip install qiskit[visualization]   # Qiskit to parameter \"mpl\" works in colab\n",
        "!pip install pylatexenc\n",
        "!pip install qiskit-aer\n",
        "output.clear()"
      ],
      "metadata": {
        "id": "PpBrEICCGkkG",
        "cellView": "form"
      },
      "execution_count": null,
      "outputs": []
    },
    {
      "cell_type": "code",
      "source": [
        "#@title ⬇️ *Import Libraries*\n",
        "# Basic Libraries\n",
        "import matplotlib.pyplot as plt\n",
        "import numpy as np\n",
        "import cv2\n",
        "# Qiskit modules\n",
        "from qiskit import QuantumCircuit, transpile,  Aer, execute\n",
        "from qiskit.primitives import Sampler\n",
        "# Libraries for interactive notebook (Colab)\n",
        "from google.colab import files, output\n",
        "from IPython.display import Image, display\n",
        "import ipywidgets as widgets\n",
        "import os"
      ],
      "metadata": {
        "id": "ZlVzoWn6Fvd4",
        "cellView": "form"
      },
      "execution_count": null,
      "outputs": []
    },
    {
      "cell_type": "markdown",
      "source": [
        "## ⬇️ Defining functions and Filter Classes"
      ],
      "metadata": {
        "id": "2nrE1M5Pfn2t"
      }
    },
    {
      "cell_type": "code",
      "source": [
        "#@title ⬇️ *Auxiliary Functions for Gray Scale Filter*\n",
        "\n",
        "# Auxiliar Functions for Gray Scale Filter\n",
        "def create_AND_gate():\n",
        "    # Creating a circuit where the AND gate will be designed\n",
        "    qc = QuantumCircuit(3)\n",
        "    # Adding CNOTs\n",
        "    qc.cx(0,2)\n",
        "    qc.cx(1,2)\n",
        "    qc.cx(2,1)\n",
        "    qc.cx(2,0)\n",
        "    # Adding T and T dagger gates\n",
        "    qc.tdg(0)\n",
        "    qc.tdg(1)\n",
        "    qc.t(2)\n",
        "    # Inverse operation of the last 2 CNOTs\n",
        "    qc.cx(2,0)\n",
        "    qc.cx(2,1)\n",
        "    # Hadamard and S gate on the qubit with the result\n",
        "    qc.h(2)\n",
        "    qc.s(2)\n",
        "    # Saving the circuit as a gate with the name \"AND\"\n",
        "    temp_log_and = qc.to_gate()\n",
        "    temp_log_and.name = \"AND\"\n",
        "    return temp_log_and\n",
        "\n",
        "def create_comparator(b, nqubits):\n",
        "    # Creating a circuit where the comparator will be designed\n",
        "    qc = QuantumCircuit(2*nqubits + 1)\n",
        "    # Create Temporary Logical AND Gate\n",
        "    temp_log_and = create_AND_gate()\n",
        "\n",
        "    # Positions of 'a' qubits\n",
        "    qbits_ai_position = [2*i + 1 if i != 0 else i for i in range(nqubits)]\n",
        "\n",
        "    # Add a CNOT to each 'a' qubit\n",
        "    for i in qbits_ai_position:\n",
        "        qc.x(i)\n",
        "\n",
        "    # Implementing the Comparator\n",
        "\n",
        "    # If the first digit of the binary number b is '1', place a Pauli X gate (on qubit 1), otherwise place an identity\n",
        "    if b[0] == '1':\n",
        "        qc.x(1)\n",
        "    else:\n",
        "        qc.id(1)\n",
        "\n",
        "    # Compare with an AND gate the qubits 0 (first 'a' qubit) and 1 (auxiliary qubit |0>) and send the result to qubit 2 (first auxiliary 'A' qubit)\n",
        "    qc.append(temp_log_and, [0,1,2])\n",
        "\n",
        "    # Perform the inverse operation on qubit 1\n",
        "    if b[0] == '1':\n",
        "        qc.x(1)\n",
        "    else:\n",
        "        qc.id(1)\n",
        "\n",
        "    # For aesthetics, add an identity on qubit 2\n",
        "    qc.id(2)\n",
        "\n",
        "    # Loop from 1 to N-1 to compare each digit of the binary number 'a' with 'b'\n",
        "    for j in range(1, nqubits):\n",
        "\n",
        "        # Compare the next digit of b\n",
        "        if b[j] == '1':\n",
        "            qc.x(1)\n",
        "        else:\n",
        "            qc.id(1)\n",
        "\n",
        "        # Perform a CNOT that takes the result stored in the corresponding auxiliary 'A' qubit\n",
        "        # and passes the outcome of the gate to the next 'a' qubit\n",
        "        qc.cx(2*j, 2*j+1)\n",
        "\n",
        "        # Take the result of 'A' to input to the AND in qubit 1\n",
        "        qc.cx(2*j, 1)\n",
        "\n",
        "        # AND gate that compares the temporary value of qubit 1 with each of the 'a' qubits and stores the result in the 'A' auxiliaries\n",
        "        qc.append(temp_log_and, [1, 2*j+1, 2*j+2])\n",
        "\n",
        "        # Inverse CNOT operation to the previous one\n",
        "        qc.cx(2*j, 1)\n",
        "\n",
        "        # Perform the inverse operation to the compared b digit\n",
        "        if b[j] == '1':\n",
        "            qc.x(1)\n",
        "        else:\n",
        "            qc.id(1)\n",
        "\n",
        "        # Pass the result to the next 'a' qubit\n",
        "        qc.cx(2*j, 2*j+2)\n",
        "\n",
        "    # Saving the circuit as a gate with the name \"COMPARATOR\"\n",
        "    COMPARATOR = qc.to_gate()\n",
        "    COMPARATOR.name = \"Comparator\"\n",
        "    return COMPARATOR\n",
        "\n",
        "def create_circuit(min_value,max_value):\n",
        "    # Computing the difference l between max_value - min_value (length of range)\n",
        "    l = max_value - min_value\n",
        "    # l can't be 0 because we need a range to generate the random numbers\n",
        "    if l==0:\n",
        "        l = 1\n",
        "    # Obtain the number of qubits needed to build the circuit\n",
        "    nqubits = len(bin(l)[2:])\n",
        "    # The minimun value of nqubits must be 3\n",
        "    if nqubits < 3:\n",
        "        nqubits = 3\n",
        "    # Convert the range to binary\n",
        "    b_init = format(l+1, '0{}b'.format(str(nqubits)))\n",
        "    a_init = format(0, '0{}b'.format(str(nqubits)))\n",
        "    a = a_init[::-1]\n",
        "    b = b_init[::-1]\n",
        "\n",
        "    # Customed Comparator Gate\n",
        "    COMPARATOR = create_comparator(b, nqubits)\n",
        "\n",
        "    # Defining intial states of A qubits (auxiliar qubits)\n",
        "    state = [1/np.sqrt(2), (1 + 1j)/2]\n",
        "\n",
        "    # Creating the quantum circuit of 2n + 2 qubits and n classical qubits (for measuring the final digits)\n",
        "    qc = QuantumCircuit(2*nqubits + 2, nqubits)\n",
        "\n",
        "    # Positions of qubits 'a' and 'A'\n",
        "    qbits_ai_position = [2*i + 1 if i != 0 else i for i in range(nqubits)]\n",
        "    qbits_Ai_position = [2*i + 2 for i in range(nqubits)]\n",
        "\n",
        "    # Inicializar el último qbit como 1\n",
        "    qc.x(2*nqubits + 1)\n",
        "    qc.barrier()\n",
        "\n",
        "    # Initialize the last qubit as 1\n",
        "    for i, j in zip(qbits_ai_position, qbits_Ai_position):\n",
        "        qc.h(i)                   # Put 'a' qubits into superposition\n",
        "        qc.initialize(state, j)   # Initialize with the state (0.707, 0.5+0.5j) on 'A' qubits\n",
        "    qc.barrier()\n",
        "\n",
        "    # Number of times the oracle and the amplifier should be used\n",
        "    N = int((np.pi/4) * np.sqrt(2**nqubits/l))\n",
        "\n",
        "    # Placing the Oracle and the Amplifier (N times)\n",
        "    for t in range(N):\n",
        "\n",
        "        # Adding the ORACLE to the circuit\n",
        "        qc.append(COMPARATOR, range(0, 2*nqubits+1))\n",
        "\n",
        "        # Get the result (0 if a<b, 1 otherwise)\n",
        "        qc.cx(2*nqubits, 2*nqubits+1)\n",
        "\n",
        "        # Performing inverse operations\n",
        "        qc.append(COMPARATOR.inverse(), range(0,2*nqubits+1))\n",
        "\n",
        "        # Separator\n",
        "        qc.barrier()\n",
        "\n",
        "        # Adding the AMPLIFIER to the circuit\n",
        "        for i in qbits_ai_position:\n",
        "            qc.h(i)     # Hadamard gate\n",
        "            qc.x(i)     # Pauli X gate\n",
        "\n",
        "        # Adding Hadamard gates on the last 'a' qubit around a Toffoli gate acting on 'a' qubits\n",
        "        qc.h(qbits_ai_position[-1])\n",
        "        qc.mcx(qbits_ai_position[:-1], qbits_ai_position[-1])\n",
        "        qc.h(qbits_ai_position[-1])\n",
        "\n",
        "        # Separator\n",
        "        qc.barrier()\n",
        "\n",
        "        # Completing the amplifier with inverse operations\n",
        "        for i in qbits_ai_position:\n",
        "\n",
        "            qc.x(i)     # Compuerta X de Pauli\n",
        "            qc.h(i)     # Compuerta Hadamard\n",
        "\n",
        "        # Hadamard gate on the last qubit to perform the inverse operation\n",
        "        qc.h(2*nqubits + 1)\n",
        "        qc.barrier()\n",
        "\n",
        "    # Measure each resulting qubit (bits of the generated random number)\n",
        "    for j, k in enumerate([2*i + 1 if i != 0 else i for i in range(nqubits)]):\n",
        "        qc.measure(k,j)\n",
        "\n",
        "    # Transpiling the circuit\n",
        "    qc = transpile(qc,optimization_level=3)\n",
        "    return qc\n",
        "\n",
        "def computing_kernel(original_image, kernel_size = 9):\n",
        "    # Reduce to 32 shades of gray\n",
        "    image = original_image // 8\n",
        "\n",
        "    # Auxiliary variable based on the kernel size\n",
        "    k = kernel_size // 2\n",
        "\n",
        "    # Create mirror padding (border)\n",
        "    padded_image = cv2.copyMakeBorder(image, k,k,k,k, cv2.BORDER_REFLECT)\n",
        "\n",
        "    # Prepare the array to store the results (min and max per kernel)\n",
        "    min_max_array = np.zeros((image.shape[0], image.shape[1], 2), dtype=image.dtype)\n",
        "\n",
        "    # Traverse the image with a kernel of 5x5\n",
        "    for i in range(k, padded_image.shape[0] - k):\n",
        "        for j in range(k, padded_image.shape[1] - k):\n",
        "\n",
        "            # Extract the 5x5 kernel\n",
        "            kernel = padded_image[i-k:i+k+1, j-k:j+k+1]\n",
        "\n",
        "            # Find the minimum and maximum in the kernel\n",
        "            min_val, max_val = np.min(kernel), np.max(kernel)\n",
        "\n",
        "            # Save the values in the corresponding array\n",
        "            min_max_array[i-k, j-k] = (min_val, max_val)\n",
        "\n",
        "    return min_max_array\n",
        "\n",
        "def run_circuits(original_image, circuits, kernels):\n",
        "    # Initialize the Sampler\n",
        "    sampler = Sampler()\n",
        "\n",
        "    # Prepare a new image array with the same size as the original image and the same data type\n",
        "    new_image = np.zeros((original_image.shape[0], original_image.shape[1]), dtype=original_image.dtype)\n",
        "\n",
        "    # Iterate over each row of the new image\n",
        "    for i in range(new_image.shape[0]):\n",
        "        # Run the quantum circuit for the current row with the specified number of shots\n",
        "        job = sampler.run(circuits=circuits.tolist()[i], shots = 100)\n",
        "        # Get the quasi-probability distributions of the circuit results\n",
        "        results = job.result().quasi_dists\n",
        "        # Update the new image row with the most probable result from each circuit's output\n",
        "        new_image[i,:] = [max(result, key=result.get) for result in results]\n",
        "\n",
        "    # Add the kernel's first layer (min value) to the new image for final processing\n",
        "    new_image = new_image + kernels[:,:,0]\n",
        "    return new_image"
      ],
      "metadata": {
        "id": "Nhc_UekmG4ef",
        "cellView": "form"
      },
      "execution_count": null,
      "outputs": []
    },
    {
      "cell_type": "code",
      "source": [
        "#@title ⬇️ *Gray Scale Filter class (Quantum_Filter)*\n",
        "class Quantum_Filter:\n",
        "    def __init__(self, image_path):\n",
        "        # Load the image from the specified path as a grayscale image and store it in self.original_image\n",
        "        self.original_image = cv2.imread(image_path, cv2.IMREAD_GRAYSCALE)\n",
        "        # Store the size of the original image\n",
        "        self.original_size = self.original_image.shape\n",
        "\n",
        "    def load_image(self, image_path):\n",
        "        # Load the image from the specified path and store it in self.original_image\n",
        "        self.original_image = cv2.imread(image_path, cv2.IMREAD_GRAYSCALE)\n",
        "        # Update the size of the original image\n",
        "        self.original_size = self.original_image.shape\n",
        "\n",
        "    def apply_quantum_filter(self, kernel_size = 3, resize =  128):\n",
        "        # Apply a quantum filter to the image and update self.image\n",
        "        # Resize the image for quantum processing\n",
        "        resized_image = cv2.resize(self.original_image,(resize, resize), cv2.INTER_LANCZOS4)\n",
        "        # Compute the kernel of the resized image for filtering\n",
        "        kernels = computing_kernel(resized_image, kernel_size)\n",
        "        # Initialize an array to keep track of repeated values\n",
        "        repeated = np.ones((resized_image.shape[0], resized_image.shape[1])) * -1\n",
        "        # Build quantum circuits for each pixel based on the kernel calculations\n",
        "        circuits = np.empty((resized_image.shape[0], resized_image.shape[1]), dtype=object)\n",
        "        for i in range(len(kernels)):\n",
        "            for j in range(len(kernels[0])):\n",
        "                min = kernels[i,j,0]\n",
        "                max = kernels[i,j,1]\n",
        "                l = max-min\n",
        "                pos_l = np.where(repeated == l)\n",
        "                pos_l = list(zip(pos_l[0], pos_l[1]))\n",
        "                if len(pos_l) == 0:\n",
        "                    circuits[i,j] = create_circuit(min,max)\n",
        "                    repeated[i,j] = l\n",
        "                else:\n",
        "                    circuits[i,j] = circuits[pos_l[0]]\n",
        "        # Run the quantum circuits to get the new filtered image\n",
        "        new_image = run_circuits(resized_image, circuits, kernels)\n",
        "        # Dealing with errors, due to the probabilistic nature of quantum circuits, some times the random value is out of range\n",
        "        new_image = np.where(new_image > kernels[:, :, 1], kernels[:, :, 1], new_image)\n",
        "        # Scale up the pixel values from the 32 gray shades used to 255\n",
        "        new_image = new_image*8\n",
        "        # Resize the new image back to the original dimensions\n",
        "        self.modified_image = cv2.resize(new_image, self.original_size[::-1], cv2.INTER_LANCZOS4)\n",
        "        return self.original_image, self.modified_image\n",
        "\n",
        "    def show_image(self, figsize = (8,4)):\n",
        "        # Show both the original and processed images\n",
        "        # Configure the plot to display both images\n",
        "        fig, axs = plt.subplots(1, 2, figsize = figsize)\n",
        "\n",
        "        # Display the original image\n",
        "        axs[0].imshow(self.original_image, cmap='gray')\n",
        "        axs[0].set_title('Original Image')\n",
        "        axs[0].axis('off')\n",
        "\n",
        "        # Display the modified image\n",
        "        axs[1].imshow(self.modified_image, cmap='gray')\n",
        "        axs[1].set_title('Modified Image')\n",
        "        axs[1].axis('off')\n",
        "\n",
        "        # Adjust the layout of the images\n",
        "        plt.tight_layout()\n",
        "\n",
        "        # Show the plot with the images\n",
        "        plt.show()"
      ],
      "metadata": {
        "id": "GhsHQTJyFNFC",
        "cellView": "form"
      },
      "execution_count": null,
      "outputs": []
    },
    {
      "cell_type": "code",
      "source": [
        "#@title ⬇️ *Auxiliary Functions for Black-White Filter*\n",
        "\n",
        "def expand_image_bw(img, m):\n",
        "    # Get the shape of the image\n",
        "    n = img.shape\n",
        "    # Compute the padding required to expand the image to a multiple of 'm' pixels\n",
        "    left_padding = m - (n[0] % m) # compute the remainder for the rows\n",
        "    top_padding = m - (n[1] % m)  # compute the remainder for the columns\n",
        "\n",
        "    # Expand the image by adding reflected padding to the top and left side\n",
        "    expanded_image = cv2.copyMakeBorder(img, top_padding, 0, left_padding, 0, cv2.BORDER_REFLECT)\n",
        "    return expanded_image, left_padding, top_padding\n",
        "\n",
        "def preprocess_image_bw(img, threshold = 128):\n",
        "    # Apply thresholding to convert the image to black and white\n",
        "    _ , thresholded_image = cv2.threshold(img, 128, 255, cv2.THRESH_BINARY)\n",
        "    # Expand the image to ensure its dimensions are a multiple of 3 pixels\n",
        "    expanded_image, left_padding, top_padding = expand_image_bw(thresholded_image, 3)\n",
        "    return expanded_image, left_padding, top_padding\n",
        "\n",
        "def create_circuit_bw(prob):\n",
        "    # Map a probability value from 0 - 1 to the range -pi/2 to pi/2 to set the phase\n",
        "    phase = -np.pi / 2 + prob * np.pi\n",
        "    # Build a quantum circuit for 9 qubits, with each qubit initialized to a Hadamard gate state\n",
        "    # followed by a rotation 'RY' gate based on the calculated phase\n",
        "    qc = QuantumCircuit(9, 9)\n",
        "    qc.h(range(9))\n",
        "    qc.ry(phase, range(9))\n",
        "    qc.measure(range(9),range(9))\n",
        "    return qc\n",
        "\n",
        "def simulate_circuit_bw(img, qc):\n",
        "    # Calculate the number of rows and columns in the expanded image\n",
        "    n_rows = int(img.shape[0]/3)  # Number of 3-pixel high rows\n",
        "    n_col = int(img.shape[1]/3)   # Number of 3-pixel wide columns\n",
        "    # Simulate the quantum circuit for each row block of the expanded image\n",
        "    backend = Aer.get_backend('qasm_simulator')\n",
        "    # Initialize an empty array for the new image\n",
        "    random_matrix = np.empty((0, img.shape[1]))\n",
        "    for i in range(n_rows):\n",
        "        row = np.empty((3, 0))  # Initialize an empty 3-pixel row\n",
        "        job = execute(qc, backend, shots=n_col, memory=True)\n",
        "        results = job.result().get_memory()\n",
        "        for result in results:\n",
        "            # Convert binary string results into a numpy array of integers\n",
        "            bin_array = np.array([int(bit) for bit in result])\n",
        "            # Reshape the 9 bits into a 3x3 block\n",
        "            bin_matrix = bin_array.reshape((3, 3))\n",
        "            # Concatenate to the row\n",
        "            row = np.concatenate((row, bin_matrix), axis=1)\n",
        "        # Add the 3-pixel row to the full image\n",
        "        random_matrix = np.concatenate((random_matrix, row), axis=0)\n",
        "    random_matrix = random_matrix.astype(np.uint8)\n",
        "    return random_matrix"
      ],
      "metadata": {
        "id": "ziT7D4Rh4cUD",
        "cellView": "form"
      },
      "execution_count": null,
      "outputs": []
    },
    {
      "cell_type": "code",
      "source": [
        "#@title ⬇️ *Black-White Filter class (Quantum_Filter_BW)*\n",
        "\n",
        "class Quantum_Filter_BW:\n",
        "    def __init__(self, image_path, threshold = 128):\n",
        "        # Load the image from the specified path as a grayscale image and store in self.original_image\n",
        "        self.original_image = cv2.imread(image_path, cv2.IMREAD_GRAYSCALE)\n",
        "        # Store the size of the original image\n",
        "        self.original_size = self.original_image.shape\n",
        "        # Store the threshold value for image preprocessing\n",
        "        self.threshold = 128\n",
        "\n",
        "    def load_image(self, image_path, threshold = 128):\n",
        "        # Load the image from the specified path as a grayscale image and store in self.original_image\n",
        "        self.original_image = cv2.imread(image_path, cv2.IMREAD_GRAYSCALE)\n",
        "        # Store the size of the original image\n",
        "        self.original_size = self.original_image.shape\n",
        "        # Store the threshold value for image preprocessing\n",
        "        self.threshold = 128\n",
        "\n",
        "    def apply_quantum_filter(self, prob = 0.5, modify = ''):\n",
        "        # Apply a quantum-inspired filter to the image\n",
        "        # Preprocess the image to black and white using the specified threshold\n",
        "        preprocessed_image, left_padding, top_padding = preprocess_image_bw(self.original_image, self.threshold)\n",
        "        # Define the quantum circuit based on the probability value\n",
        "        qc = create_circuit_bw(prob)\n",
        "        # Run the quantum circuit on the preprocessed image to get a random matrix\n",
        "        random_matrix = simulate_circuit_bw(preprocessed_image, qc)\n",
        "        # Use the random matrix to modify the preprocessed image based on quantum results\n",
        "        new_image = np.where(random_matrix == 1, 255 - preprocessed_image, preprocessed_image)\n",
        "        # If 'modify' is set to 'black', ensure that originally white pixels stay white\n",
        "        if modify == 'black':\n",
        "            new_image[np.where(preprocessed_image == 255)] = 255\n",
        "        # If 'modify' is set to 'white', ensure that originally black pixels stay black\n",
        "        if modify == 'white':\n",
        "            new_image[np.where(preprocessed_image == 0)] = 0\n",
        "\n",
        "        # Trim the padded area from the modified image to restore original dimensions\n",
        "        self.modified_image = new_image[left_padding:, top_padding:]\n",
        "\n",
        "        return self.original_image, self.modified_image\n",
        "\n",
        "    def show_image(self, figsize = (8,4)):\n",
        "        # Display the original and processed images side by side\n",
        "        # Configure the figure to display two subplots\n",
        "        fig, axs = plt.subplots(1, 2, figsize = figsize)\n",
        "\n",
        "        # Display the original image in the first subplot\n",
        "        axs[0].imshow(self.original_image, cmap='gray')\n",
        "        axs[0].set_title('Original Image')\n",
        "        axs[0].axis('off')\n",
        "\n",
        "        # Display the original image in the first subplot\n",
        "        axs[1].imshow(self.modified_image, cmap='gray')\n",
        "        axs[1].set_title('Modified Image')\n",
        "        axs[1].axis('off')\n",
        "\n",
        "        # Adjust the spacing between the images\n",
        "        plt.tight_layout()\n",
        "\n",
        "        plt.show()"
      ],
      "metadata": {
        "id": "IRI1LjfC4DtV",
        "cellView": "form"
      },
      "execution_count": null,
      "outputs": []
    },
    {
      "cell_type": "markdown",
      "metadata": {
        "id": "EkOR0vbYLC3L"
      },
      "source": [
        "## **STEP 1:**  Load Your Image 🏞️\n",
        "\n",
        "#### You should click on '***Choose File***' to upload an image file (of type .jpg, .jpeg, or .png) that is stored on your device."
      ]
    },
    {
      "cell_type": "code",
      "execution_count": null,
      "metadata": {
        "colab": {
          "base_uri": "https://localhost:8080/",
          "height": 564
        },
        "id": "fPEUjgm2CjZj",
        "outputId": "c5d1a11f-db31-4109-9be6-c80f272e5814",
        "cellView": "form"
      },
      "outputs": [
        {
          "output_type": "stream",
          "name": "stdout",
          "text": [
            "Uploaded image \"Image_512.jpg\" with a size of 31726 bytes \n",
            "\n"
          ]
        },
        {
          "output_type": "display_data",
          "data": {
            "image/jpeg": "[encoded data removed]",
            "text/plain": [
              "<IPython.core.display.Image object>"
            ]
          },
          "metadata": {}
        }
      ],
      "source": [
        "#@title ⬇️ *Run to load your image*\n",
        "\n",
        "# Upload files\n",
        "uploaded = files.upload()\n",
        "\n",
        "# Process the uploaded files\n",
        "for filename in uploaded.keys():\n",
        "    output.clear()  # Clear the output to remove the upload button\n",
        "    print('Uploaded image \"{name}\" with a size of {length} bytes \\n'.format(\n",
        "        name=filename, length=len(uploaded[filename])))\n",
        "\n",
        "    # If it's an image file, display it\n",
        "    if filename.lower().endswith(('.png', '.jpg', '.jpeg')):\n",
        "        display(Image(filename))  # Display the image\n"
      ]
    },
    {
      "cell_type": "markdown",
      "metadata": {
        "id": "84PrlfywMz7a"
      },
      "source": [
        "## **STEP 2:** Choose a Filter\n",
        "\n",
        "#### Select the filter you want to apply to your image. 🎨\n",
        "\n",
        "***Note that filter 2 may take longer to process** 🕒"
      ]
    },
    {
      "cell_type": "code",
      "execution_count": null,
      "metadata": {
        "cellView": "form",
        "colab": {
          "base_uri": "https://localhost:8080/",
          "height": 145,
          "referenced_widgets": [
            "34b8aaef85844ad3a803d0e68712d6c5",
            "6f519a2eb1e149c3b8edb196bc6f873d",
            "bfd94c27154b46d68990be6b5e6302dd",
            "17a0a8c6eb7c4a5cb27f5d5298cfdd42",
            "09e555a01102405b8aade0411d755736",
            "71bae5064178428abf3bda7690f2f2a0"
          ]
        },
        "id": "PIhizXe_JEza",
        "outputId": "95f7d12f-7cc4-499c-e817-e2e24c2dcf78"
      },
      "outputs": [
        {
          "output_type": "stream",
          "name": "stdout",
          "text": [
            "Choose one: \n",
            "\n"
          ]
        },
        {
          "output_type": "display_data",
          "data": {
            "text/plain": [
              "RadioButtons(options=('Filter 1 - Black/White', 'Filter 2 - Gray Scale'), value='Filter 1 - Black/White')"
            ],
            "application/vnd.jupyter.widget-view+json": {
              "version_major": 2,
              "version_minor": 0,
              "model_id": "34b8aaef85844ad3a803d0e68712d6c5"
            }
          },
          "metadata": {}
        },
        {
          "output_type": "display_data",
          "data": {
            "text/plain": [
              "Button(description='Confirm Selection', style=ButtonStyle())"
            ],
            "application/vnd.jupyter.widget-view+json": {
              "version_major": 2,
              "version_minor": 0,
              "model_id": "17a0a8c6eb7c4a5cb27f5d5298cfdd42"
            }
          },
          "metadata": {}
        },
        {
          "output_type": "stream",
          "name": "stdout",
          "text": [
            "You have selected: Filter 2 - Gray Scale 🎨\n"
          ]
        }
      ],
      "source": [
        "#@title ⬇️ Run to select the filter\n",
        "\n",
        "# Create the radio button widget\n",
        "filter_type = widgets.RadioButtons(\n",
        "    options=['Filter 1 - Black/White', 'Filter 2 - Gray Scale'],\n",
        "    description='',\n",
        "    disabled=False,\n",
        "    style={'options_width': 'initial'}\n",
        ")\n",
        "\n",
        "# Function to handle the confirmation button click\n",
        "def on_button_clicked(b):\n",
        "    global selection\n",
        "    selection = filter_type.value\n",
        "    print(\"You have selected:\", selection, \"🎨\")\n",
        "\n",
        "# Create and display the confirmation button\n",
        "print('Choose one: \\n')\n",
        "button = widgets.Button(description=\"Confirm Selection\")\n",
        "button.on_click(on_button_clicked)\n",
        "display(filter_type, button)"
      ]
    },
    {
      "cell_type": "markdown",
      "metadata": {
        "id": "_EBikxniUcxE"
      },
      "source": [
        "## **STEP 3:** Customize Values for Your Filter 🧐\n",
        "\n",
        "#### Enter the parameters depending the Filter Type (amount of noise, where to apply it, kernel size)"
      ]
    },
    {
      "cell_type": "code",
      "execution_count": null,
      "metadata": {
        "cellView": "form",
        "colab": {
          "base_uri": "https://localhost:8080/",
          "height": 164,
          "referenced_widgets": [
            "78aebba0de4c4e2388ae2c59bb504b9e",
            "1e59859028444fddae618a726ec0d937",
            "e67ad6e7707849109243cf95c7bf89cc",
            "647ee895e304480f87dd89301010c552",
            "6916ea66e78d43bbb81ac7fb2373783d",
            "ad544e65d564466dbdf083448fe63310",
            "8ef1a948cc76415fa101856d27b4300c",
            "a739bcaa1a2a4f57b6b98d3a15e0874d"
          ]
        },
        "id": "Lp7RFRgeVsmy",
        "outputId": "9bf92288-f786-461f-8e9a-54cb73205cea"
      },
      "outputs": [
        {
          "output_type": "display_data",
          "data": {
            "text/plain": [
              "Accordion(children=(Dropdown(description='Kernel:', options=('3x3', '5x5', '7x7'), value='3x3'), Dropdown(desc…"
            ],
            "application/vnd.jupyter.widget-view+json": {
              "version_major": 2,
              "version_minor": 0,
              "model_id": "78aebba0de4c4e2388ae2c59bb504b9e"
            }
          },
          "metadata": {}
        }
      ],
      "source": [
        "#@title ⬇️ Run to Customize\n",
        "\n",
        "# If the selected filter is the first option which is Black/White filter\n",
        "if filter_type.value[7] == '1':\n",
        "    # Accordion 1: Slider for noise amount\n",
        "    noise_slider = widgets.FloatSlider(\n",
        "        value=0.5,\n",
        "        min=0,\n",
        "        max=1,\n",
        "        step=0.1,\n",
        "        description='Noise:',\n",
        "        continuous_update=False,\n",
        "        disabled=False\n",
        "    )\n",
        "\n",
        "    # Accordion 2: Dropdown menu with 2 options\n",
        "    options_menu = widgets.Dropdown(\n",
        "        options=['In Black', 'In White', 'Across the image'],\n",
        "        value='In Black',\n",
        "        description='Menu:',\n",
        "        disabled=False\n",
        "    )\n",
        "\n",
        "    # Accordion 3: Threshold value\n",
        "    threshold_value = widgets.IntText(\n",
        "        value=128,\n",
        "        description='Threshold:',\n",
        "        disabled=False\n",
        "    )\n",
        "    # Create the accordions and assign the widgets to them\n",
        "    accordion = widgets.Accordion(children=[noise_slider, options_menu, threshold_value])\n",
        "    accordion.set_title(0, 'Noise Amount')\n",
        "    accordion.set_title(1, 'Where to apply the filter')\n",
        "    accordion.set_title(2, 'Threshold Value')\n",
        "\n",
        "else:\n",
        "    # Accordion 1: Selection list for kernel size\n",
        "    kernel_size_list = widgets.Dropdown(\n",
        "        options=['3x3', '5x5', '7x7'],\n",
        "        value='3x3',\n",
        "        description='Kernel:',\n",
        "        disabled=False\n",
        "    )\n",
        "    # Accordion 2: Resize options\n",
        "    resize_list = widgets.Dropdown(\n",
        "        options=['128x128 (Recommend)', '256x256'],\n",
        "        value='128x128 (Recommend)',\n",
        "        description='Resize:',\n",
        "        disabled=False\n",
        "    )\n",
        "    # Create the accordions and assign the widgets to them\n",
        "    accordion = widgets.Accordion(children=[kernel_size_list, resize_list])\n",
        "    accordion.set_title(0, 'Kernel Size')\n",
        "    accordion.set_title(1, 'Image Resize')\n",
        "\n",
        "# Display the accordion\n",
        "display(accordion)\n"
      ]
    },
    {
      "cell_type": "code",
      "source": [
        "#@title ⬇️ Select the image you want to apply the filter to\n",
        "\n",
        "# Get the list of files in the current directory (can be filtered by type if necessary)\n",
        "file_list = os.listdir()\n",
        "# Filter for image files if necessary, for example: .png, .jpg, .jpeg\n",
        "image_files = [file for file in file_list if file.lower().endswith(('.png', '.jpg', '.jpeg'))]\n",
        "\n",
        "# Dropdown menu with options being the uploaded image files\n",
        "images_menu = widgets.Dropdown(\n",
        "    options=image_files,  # Use the list of image files as options\n",
        "    description='Files:',\n",
        "    disabled=False\n",
        ")\n",
        "\n",
        "# Create the accordion and assign the widgets to it\n",
        "accordion = widgets.Accordion(children=[images_menu])\n",
        "accordion.set_title(0, 'Select Uploaded Image')\n",
        "\n",
        "# Display the accordion\n",
        "display(accordion)"
      ],
      "metadata": {
        "colab": {
          "base_uri": "https://localhost:8080/",
          "height": 122,
          "referenced_widgets": [
            "06286ea639a14d33b97d4ca106181f69",
            "32650be0e4004a4c96c5da4553cdcc9e",
            "ecb27eca4fab4f21a7256a1d1bff6e39",
            "8a515dd65a4948ca967ff35800fc29b6",
            "f9db2084c00f49159ab9b1bfa21781e7"
          ]
        },
        "cellView": "form",
        "id": "fkQLf-X8KbXE",
        "outputId": "a50105e5-79a2-464a-8707-9f2537a7eaed"
      },
      "execution_count": null,
      "outputs": [
        {
          "output_type": "display_data",
          "data": {
            "text/plain": [
              "Accordion(children=(Dropdown(description='Files:', options=('Image_512.jpg', 'Apple.jpeg'), value='Image_512.j…"
            ],
            "application/vnd.jupyter.widget-view+json": {
              "version_major": 2,
              "version_minor": 0,
              "model_id": "06286ea639a14d33b97d4ca106181f69"
            }
          },
          "metadata": {}
        }
      ]
    },
    {
      "cell_type": "markdown",
      "source": [
        "## **STEP 4:** Getting Results 📊"
      ],
      "metadata": {
        "id": "tSzM_bMtOPLH"
      }
    },
    {
      "cell_type": "code",
      "source": [
        "#@title ⬇️ Run to observe the result\n",
        "\n",
        "filename = images_menu.value\n",
        "\n",
        "if selection[7] == '1':\n",
        "    options_dict = {'In Black': 'black', 'In White': 'white', 'Across the image': ''}\n",
        "    qf_bw = Quantum_Filter_BW(filename, threshold = threshold_value.value)\n",
        "    original_image, new_image = qf_bw.apply_quantum_filter(prob = noise_slider.value, modify = options_dict[options_menu.value])\n",
        "    qf_bw.show_image()\n",
        "\n",
        "if selection[7] == '2':\n",
        "    kernel_size = int(kernel_size_list.value[0])\n",
        "    resize = int(resize_list.value[:3])\n",
        "    qf_gray = Quantum_Filter(filename)\n",
        "    original_image, new_image = qf_gray.apply_quantum_filter(kernel_size = kernel_size, resize = resize)\n",
        "    qf_gray.show_image()\n",
        "\n"
      ],
      "metadata": {
        "colab": {
          "base_uri": "https://localhost:8080/",
          "height": 300
        },
        "cellView": "form",
        "id": "NLlUBJRHOKBt",
        "outputId": "d3655a50-d0e3-4556-ac13-71522710394f"
      },
      "execution_count": null,
      "outputs": [
        {
          "output_type": "display_data",
          "data": {
            "text/plain": [
              "<Figure size 800x400 with 2 Axes>"
            ],
            "image/png": "[encoded data removed]"
          },
          "metadata": {}
        }
      ]
    },
    {
      "cell_type": "markdown",
      "metadata": {
        "id": "xR4XcEelKLny"
      },
      "source": [
        "## **Authors**\n",
        "\n",
        "* Miguel Ángel Hernández Tapia [Github](https://github.com/MiguelAngel-ht)\n",
        "* David Ángel Alba Bonilla [Github](https://github.com/DavidAlba2627) -- [Blog](https://datasciencelifelonglearn.blogspot.com/)"
      ]
    },
    {
      "cell_type": "markdown",
      "source": [
        "# **Bibliography**\n",
        "\n",
        "1. Orts, F., Filatovas, E., Garzón, E. G., & Ortega, G. (2023). A quantum circuit to generate random numbers within a specific interval. EPJ Quantum Technology, 10(1). https://doi.org/10.1140/epjqt/s40507-023-00174-1"
      ],
      "metadata": {
        "id": "zTHo7GDDG-pO"
      }
    }
  ],
  "metadata": {
    "colab": {
      "provenance": [],
      "include_colab_link": true
    },
    "kernelspec": {
      "display_name": "Python 3",
      "name": "python3"
    },
    "language_info": {
      "name": "python"
    },
    "widgets": {
      "application/vnd.jupyter.widget-state+json": {
        "34b8aaef85844ad3a803d0e68712d6c5": {
          "model_module": "@jupyter-widgets/controls",
          "model_name": "RadioButtonsModel",
          "model_module_version": "1.5.0",
          "state": {
            "_dom_classes": [],
            "_model_module": "@jupyter-widgets/controls",
            "_model_module_version": "1.5.0",
            "_model_name": "RadioButtonsModel",
            "_options_labels": [
              "Filter 1 - Black/White",
              "Filter 2 - Gray Scale"
            ],
            "_view_count": null,
            "_view_module": "@jupyter-widgets/controls",
            "_view_module_version": "1.5.0",
            "_view_name": "RadioButtonsView",
            "description": "",
            "description_tooltip": null,
            "disabled": false,
            "index": 1,
            "layout": "IPY_MODEL_6f519a2eb1e149c3b8edb196bc6f873d",
            "style": "IPY_MODEL_bfd94c27154b46d68990be6b5e6302dd"
          }
        },
        "6f519a2eb1e149c3b8edb196bc6f873d": {
          "model_module": "@jupyter-widgets/base",
          "model_name": "LayoutModel",
          "model_module_version": "1.2.0",
          "state": {
            "_model_module": "@jupyter-widgets/base",
            "_model_module_version": "1.2.0",
            "_model_name": "LayoutModel",
            "_view_count": null,
            "_view_module": "@jupyter-widgets/base",
            "_view_module_version": "1.2.0",
            "_view_name": "LayoutView",
            "align_content": null,
            "align_items": null,
            "align_self": null,
            "border": null,
            "bottom": null,
            "display": null,
            "flex": null,
            "flex_flow": null,
            "grid_area": null,
            "grid_auto_columns": null,
            "grid_auto_flow": null,
            "grid_auto_rows": null,
            "grid_column": null,
            "grid_gap": null,
            "grid_row": null,
            "grid_template_areas": null,
            "grid_template_columns": null,
            "grid_template_rows": null,
            "height": null,
            "justify_content": null,
            "justify_items": null,
            "left": null,
            "margin": null,
            "max_height": null,
            "max_width": null,
            "min_height": null,
            "min_width": null,
            "object_fit": null,
            "object_position": null,
            "order": null,
            "overflow": null,
            "overflow_x": null,
            "overflow_y": null,
            "padding": null,
            "right": null,
            "top": null,
            "visibility": null,
            "width": null
          }
        },
        "bfd94c27154b46d68990be6b5e6302dd": {
          "model_module": "@jupyter-widgets/controls",
          "model_name": "DescriptionStyleModel",
          "model_module_version": "1.5.0",
          "state": {
            "_model_module": "@jupyter-widgets/controls",
            "_model_module_version": "1.5.0",
            "_model_name": "DescriptionStyleModel",
            "_view_count": null,
            "_view_module": "@jupyter-widgets/base",
            "_view_module_version": "1.2.0",
            "_view_name": "StyleView",
            "description_width": ""
          }
        },
        "17a0a8c6eb7c4a5cb27f5d5298cfdd42": {
          "model_module": "@jupyter-widgets/controls",
          "model_name": "ButtonModel",
          "model_module_version": "1.5.0",
          "state": {
            "_dom_classes": [],
            "_model_module": "@jupyter-widgets/controls",
            "_model_module_version": "1.5.0",
            "_model_name": "ButtonModel",
            "_view_count": null,
            "_view_module": "@jupyter-widgets/controls",
            "_view_module_version": "1.5.0",
            "_view_name": "ButtonView",
            "button_style": "",
            "description": "Confirm Selection",
            "disabled": false,
            "icon": "",
            "layout": "IPY_MODEL_09e555a01102405b8aade0411d755736",
            "style": "IPY_MODEL_71bae5064178428abf3bda7690f2f2a0",
            "tooltip": ""
          }
        },
        "09e555a01102405b8aade0411d755736": {
          "model_module": "@jupyter-widgets/base",
          "model_name": "LayoutModel",
          "model_module_version": "1.2.0",
          "state": {
            "_model_module": "@jupyter-widgets/base",
            "_model_module_version": "1.2.0",
            "_model_name": "LayoutModel",
            "_view_count": null,
            "_view_module": "@jupyter-widgets/base",
            "_view_module_version": "1.2.0",
            "_view_name": "LayoutView",
            "align_content": null,
            "align_items": null,
            "align_self": null,
            "border": null,
            "bottom": null,
            "display": null,
            "flex": null,
            "flex_flow": null,
            "grid_area": null,
            "grid_auto_columns": null,
            "grid_auto_flow": null,
            "grid_auto_rows": null,
            "grid_column": null,
            "grid_gap": null,
            "grid_row": null,
            "grid_template_areas": null,
            "grid_template_columns": null,
            "grid_template_rows": null,
            "height": null,
            "justify_content": null,
            "justify_items": null,
            "left": null,
            "margin": null,
            "max_height": null,
            "max_width": null,
            "min_height": null,
            "min_width": null,
            "object_fit": null,
            "object_position": null,
            "order": null,
            "overflow": null,
            "overflow_x": null,
            "overflow_y": null,
            "padding": null,
            "right": null,
            "top": null,
            "visibility": null,
            "width": null
          }
        },
        "71bae5064178428abf3bda7690f2f2a0": {
          "model_module": "@jupyter-widgets/controls",
          "model_name": "ButtonStyleModel",
          "model_module_version": "1.5.0",
          "state": {
            "_model_module": "@jupyter-widgets/controls",
            "_model_module_version": "1.5.0",
            "_model_name": "ButtonStyleModel",
            "_view_count": null,
            "_view_module": "@jupyter-widgets/base",
            "_view_module_version": "1.2.0",
            "_view_name": "StyleView",
            "button_color": null,
            "font_weight": ""
          }
        },
        "78aebba0de4c4e2388ae2c59bb504b9e": {
          "model_module": "@jupyter-widgets/controls",
          "model_name": "AccordionModel",
          "model_module_version": "1.5.0",
          "state": {
            "_dom_classes": [],
            "_model_module": "@jupyter-widgets/controls",
            "_model_module_version": "1.5.0",
            "_model_name": "AccordionModel",
            "_titles": {
              "0": "Kernel Size",
              "1": "Image Resize"
            },
            "_view_count": null,
            "_view_module": "@jupyter-widgets/controls",
            "_view_module_version": "1.5.0",
            "_view_name": "AccordionView",
            "box_style": "",
            "children": [
              "IPY_MODEL_1e59859028444fddae618a726ec0d937",
              "IPY_MODEL_e67ad6e7707849109243cf95c7bf89cc"
            ],
            "layout": "IPY_MODEL_647ee895e304480f87dd89301010c552",
            "selected_index": 0
          }
        },
        "1e59859028444fddae618a726ec0d937": {
          "model_module": "@jupyter-widgets/controls",
          "model_name": "DropdownModel",
          "model_module_version": "1.5.0",
          "state": {
            "_dom_classes": [],
            "_model_module": "@jupyter-widgets/controls",
            "_model_module_version": "1.5.0",
            "_model_name": "DropdownModel",
            "_options_labels": [
              "3x3",
              "5x5",
              "7x7"
            ],
            "_view_count": null,
            "_view_module": "@jupyter-widgets/controls",
            "_view_module_version": "1.5.0",
            "_view_name": "DropdownView",
            "description": "Kernel:",
            "description_tooltip": null,
            "disabled": false,
            "index": 0,
            "layout": "IPY_MODEL_6916ea66e78d43bbb81ac7fb2373783d",
            "style": "IPY_MODEL_ad544e65d564466dbdf083448fe63310"
          }
        },
        "e67ad6e7707849109243cf95c7bf89cc": {
          "model_module": "@jupyter-widgets/controls",
          "model_name": "DropdownModel",
          "model_module_version": "1.5.0",
          "state": {
            "_dom_classes": [],
            "_model_module": "@jupyter-widgets/controls",
            "_model_module_version": "1.5.0",
            "_model_name": "DropdownModel",
            "_options_labels": [
              "128x128 (Recommend)",
              "256x256"
            ],
            "_view_count": null,
            "_view_module": "@jupyter-widgets/controls",
            "_view_module_version": "1.5.0",
            "_view_name": "DropdownView",
            "description": "Resize:",
            "description_tooltip": null,
            "disabled": false,
            "index": 0,
            "layout": "IPY_MODEL_8ef1a948cc76415fa101856d27b4300c",
            "style": "IPY_MODEL_a739bcaa1a2a4f57b6b98d3a15e0874d"
          }
        },
        "647ee895e304480f87dd89301010c552": {
          "model_module": "@jupyter-widgets/base",
          "model_name": "LayoutModel",
          "model_module_version": "1.2.0",
          "state": {
            "_model_module": "@jupyter-widgets/base",
            "_model_module_version": "1.2.0",
            "_model_name": "LayoutModel",
            "_view_count": null,
            "_view_module": "@jupyter-widgets/base",
            "_view_module_version": "1.2.0",
            "_view_name": "LayoutView",
            "align_content": null,
            "align_items": null,
            "align_self": null,
            "border": null,
            "bottom": null,
            "display": null,
            "flex": null,
            "flex_flow": null,
            "grid_area": null,
            "grid_auto_columns": null,
            "grid_auto_flow": null,
            "grid_auto_rows": null,
            "grid_column": null,
            "grid_gap": null,
            "grid_row": null,
            "grid_template_areas": null,
            "grid_template_columns": null,
            "grid_template_rows": null,
            "height": null,
            "justify_content": null,
            "justify_items": null,
            "left": null,
            "margin": null,
            "max_height": null,
            "max_width": null,
            "min_height": null,
            "min_width": null,
            "object_fit": null,
            "object_position": null,
            "order": null,
            "overflow": null,
            "overflow_x": null,
            "overflow_y": null,
            "padding": null,
            "right": null,
            "top": null,
            "visibility": null,
            "width": null
          }
        },
        "6916ea66e78d43bbb81ac7fb2373783d": {
          "model_module": "@jupyter-widgets/base",
          "model_name": "LayoutModel",
          "model_module_version": "1.2.0",
          "state": {
            "_model_module": "@jupyter-widgets/base",
            "_model_module_version": "1.2.0",
            "_model_name": "LayoutModel",
            "_view_count": null,
            "_view_module": "@jupyter-widgets/base",
            "_view_module_version": "1.2.0",
            "_view_name": "LayoutView",
            "align_content": null,
            "align_items": null,
            "align_self": null,
            "border": null,
            "bottom": null,
            "display": null,
            "flex": null,
            "flex_flow": null,
            "grid_area": null,
            "grid_auto_columns": null,
            "grid_auto_flow": null,
            "grid_auto_rows": null,
            "grid_column": null,
            "grid_gap": null,
            "grid_row": null,
            "grid_template_areas": null,
            "grid_template_columns": null,
            "grid_template_rows": null,
            "height": null,
            "justify_content": null,
            "justify_items": null,
            "left": null,
            "margin": null,
            "max_height": null,
            "max_width": null,
            "min_height": null,
            "min_width": null,
            "object_fit": null,
            "object_position": null,
            "order": null,
            "overflow": null,
            "overflow_x": null,
            "overflow_y": null,
            "padding": null,
            "right": null,
            "top": null,
            "visibility": null,
            "width": null
          }
        },
        "ad544e65d564466dbdf083448fe63310": {
          "model_module": "@jupyter-widgets/controls",
          "model_name": "DescriptionStyleModel",
          "model_module_version": "1.5.0",
          "state": {
            "_model_module": "@jupyter-widgets/controls",
            "_model_module_version": "1.5.0",
            "_model_name": "DescriptionStyleModel",
            "_view_count": null,
            "_view_module": "@jupyter-widgets/base",
            "_view_module_version": "1.2.0",
            "_view_name": "StyleView",
            "description_width": ""
          }
        },
        "8ef1a948cc76415fa101856d27b4300c": {
          "model_module": "@jupyter-widgets/base",
          "model_name": "LayoutModel",
          "model_module_version": "1.2.0",
          "state": {
            "_model_module": "@jupyter-widgets/base",
            "_model_module_version": "1.2.0",
            "_model_name": "LayoutModel",
            "_view_count": null,
            "_view_module": "@jupyter-widgets/base",
            "_view_module_version": "1.2.0",
            "_view_name": "LayoutView",
            "align_content": null,
            "align_items": null,
            "align_self": null,
            "border": null,
            "bottom": null,
            "display": null,
            "flex": null,
            "flex_flow": null,
            "grid_area": null,
            "grid_auto_columns": null,
            "grid_auto_flow": null,
            "grid_auto_rows": null,
            "grid_column": null,
            "grid_gap": null,
            "grid_row": null,
            "grid_template_areas": null,
            "grid_template_columns": null,
            "grid_template_rows": null,
            "height": null,
            "justify_content": null,
            "justify_items": null,
            "left": null,
            "margin": null,
            "max_height": null,
            "max_width": null,
            "min_height": null,
            "min_width": null,
            "object_fit": null,
            "object_position": null,
            "order": null,
            "overflow": null,
            "overflow_x": null,
            "overflow_y": null,
            "padding": null,
            "right": null,
            "top": null,
            "visibility": null,
            "width": null
          }
        },
        "a739bcaa1a2a4f57b6b98d3a15e0874d": {
          "model_module": "@jupyter-widgets/controls",
          "model_name": "DescriptionStyleModel",
          "model_module_version": "1.5.0",
          "state": {
            "_model_module": "@jupyter-widgets/controls",
            "_model_module_version": "1.5.0",
            "_model_name": "DescriptionStyleModel",
            "_view_count": null,
            "_view_module": "@jupyter-widgets/base",
            "_view_module_version": "1.2.0",
            "_view_name": "StyleView",
            "description_width": ""
          }
        },
        "06286ea639a14d33b97d4ca106181f69": {
          "model_module": "@jupyter-widgets/controls",
          "model_name": "AccordionModel",
          "model_module_version": "1.5.0",
          "state": {
            "_dom_classes": [],
            "_model_module": "@jupyter-widgets/controls",
            "_model_module_version": "1.5.0",
            "_model_name": "AccordionModel",
            "_titles": {
              "0": "Select Uploaded Image"
            },
            "_view_count": null,
            "_view_module": "@jupyter-widgets/controls",
            "_view_module_version": "1.5.0",
            "_view_name": "AccordionView",
            "box_style": "",
            "children": [
              "IPY_MODEL_32650be0e4004a4c96c5da4553cdcc9e"
            ],
            "layout": "IPY_MODEL_ecb27eca4fab4f21a7256a1d1bff6e39",
            "selected_index": 0
          }
        },
        "32650be0e4004a4c96c5da4553cdcc9e": {
          "model_module": "@jupyter-widgets/controls",
          "model_name": "DropdownModel",
          "model_module_version": "1.5.0",
          "state": {
            "_dom_classes": [],
            "_model_module": "@jupyter-widgets/controls",
            "_model_module_version": "1.5.0",
            "_model_name": "DropdownModel",
            "_options_labels": [
              "Image_512.jpg",
              "Apple.jpeg"
            ],
            "_view_count": null,
            "_view_module": "@jupyter-widgets/controls",
            "_view_module_version": "1.5.0",
            "_view_name": "DropdownView",
            "description": "Files:",
            "description_tooltip": null,
            "disabled": false,
            "index": 1,
            "layout": "IPY_MODEL_8a515dd65a4948ca967ff35800fc29b6",
            "style": "IPY_MODEL_f9db2084c00f49159ab9b1bfa21781e7"
          }
        },
        "ecb27eca4fab4f21a7256a1d1bff6e39": {
          "model_module": "@jupyter-widgets/base",
          "model_name": "LayoutModel",
          "model_module_version": "1.2.0",
          "state": {
            "_model_module": "@jupyter-widgets/base",
            "_model_module_version": "1.2.0",
            "_model_name": "LayoutModel",
            "_view_count": null,
            "_view_module": "@jupyter-widgets/base",
            "_view_module_version": "1.2.0",
            "_view_name": "LayoutView",
            "align_content": null,
            "align_items": null,
            "align_self": null,
            "border": null,
            "bottom": null,
            "display": null,
            "flex": null,
            "flex_flow": null,
            "grid_area": null,
            "grid_auto_columns": null,
            "grid_auto_flow": null,
            "grid_auto_rows": null,
            "grid_column": null,
            "grid_gap": null,
            "grid_row": null,
            "grid_template_areas": null,
            "grid_template_columns": null,
            "grid_template_rows": null,
            "height": null,
            "justify_content": null,
            "justify_items": null,
            "left": null,
            "margin": null,
            "max_height": null,
            "max_width": null,
            "min_height": null,
            "min_width": null,
            "object_fit": null,
            "object_position": null,
            "order": null,
            "overflow": null,
            "overflow_x": null,
            "overflow_y": null,
            "padding": null,
            "right": null,
            "top": null,
            "visibility": null,
            "width": null
          }
        },
        "8a515dd65a4948ca967ff35800fc29b6": {
          "model_module": "@jupyter-widgets/base",
          "model_name": "LayoutModel",
          "model_module_version": "1.2.0",
          "state": {
            "_model_module": "@jupyter-widgets/base",
            "_model_module_version": "1.2.0",
            "_model_name": "LayoutModel",
            "_view_count": null,
            "_view_module": "@jupyter-widgets/base",
            "_view_module_version": "1.2.0",
            "_view_name": "LayoutView",
            "align_content": null,
            "align_items": null,
            "align_self": null,
            "border": null,
            "bottom": null,
            "display": null,
            "flex": null,
            "flex_flow": null,
            "grid_area": null,
            "grid_auto_columns": null,
            "grid_auto_flow": null,
            "grid_auto_rows": null,
            "grid_column": null,
            "grid_gap": null,
            "grid_row": null,
            "grid_template_areas": null,
            "grid_template_columns": null,
            "grid_template_rows": null,
            "height": null,
            "justify_content": null,
            "justify_items": null,
            "left": null,
            "margin": null,
            "max_height": null,
            "max_width": null,
            "min_height": null,
            "min_width": null,
            "object_fit": null,
            "object_position": null,
            "order": null,
            "overflow": null,
            "overflow_x": null,
            "overflow_y": null,
            "padding": null,
            "right": null,
            "top": null,
            "visibility": null,
            "width": null
          }
        },
        "f9db2084c00f49159ab9b1bfa21781e7": {
          "model_module": "@jupyter-widgets/controls",
          "model_name": "DescriptionStyleModel",
          "model_module_version": "1.5.0",
          "state": {
            "_model_module": "@jupyter-widgets/controls",
            "_model_module_version": "1.5.0",
            "_model_name": "DescriptionStyleModel",
            "_view_count": null,
            "_view_module": "@jupyter-widgets/base",
            "_view_module_version": "1.2.0",
            "_view_name": "StyleView",
            "description_width": ""
          }
        }
      }
    }
  },
  "nbformat": 4,
  "nbformat_minor": 0
}